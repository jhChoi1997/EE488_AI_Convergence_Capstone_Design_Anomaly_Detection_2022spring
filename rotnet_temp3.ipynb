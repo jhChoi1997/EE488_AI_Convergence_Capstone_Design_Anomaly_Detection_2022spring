{
  "nbformat": 4,
  "nbformat_minor": 0,
  "metadata": {
    "colab": {
      "name": "Introduction_to_Anomaly_Detection_Classification.ipynb",
      "provenance": [],
      "machine_shape": "hm",
      "collapsed_sections": [],
      "include_colab_link": true
    },
    "kernelspec": {
      "name": "python3",
      "display_name": "Python 3"
    },
    "language_info": {
      "name": "python"
    },
    "accelerator": "GPU",
    "widgets": {
      "application/vnd.jupyter.widget-state+json": {
        "0fbf3ca8af344acc97d38068269fbc8d": {
          "model_module": "@jupyter-widgets/controls",
          "model_name": "HBoxModel",
          "model_module_version": "1.5.0",
          "state": {
            "_view_name": "HBoxView",
            "_dom_classes": [],
            "_model_name": "HBoxModel",
            "_view_module": "@jupyter-widgets/controls",
            "_model_module_version": "1.5.0",
            "_view_count": null,
            "_view_module_version": "1.5.0",
            "box_style": "",
            "layout": "IPY_MODEL_d4195f56b3a04205a4655d066c6ef87f",
            "_model_module": "@jupyter-widgets/controls",
            "children": [
              "IPY_MODEL_da3866aa2847403dad825550c02a484c",
              "IPY_MODEL_9ef856e052cb45348c7913795d6f179a",
              "IPY_MODEL_65ef98f9baa0433e8f0fa29bfa5424b9"
            ]
          }
        },
        "d4195f56b3a04205a4655d066c6ef87f": {
          "model_module": "@jupyter-widgets/base",
          "model_name": "LayoutModel",
          "model_module_version": "1.2.0",
          "state": {
            "_view_name": "LayoutView",
            "grid_template_rows": null,
            "right": null,
            "justify_content": null,
            "_view_module": "@jupyter-widgets/base",
            "overflow": null,
            "_model_module_version": "1.2.0",
            "_view_count": null,
            "flex_flow": null,
            "width": null,
            "min_width": null,
            "border": null,
            "align_items": null,
            "bottom": null,
            "_model_module": "@jupyter-widgets/base",
            "top": null,
            "grid_column": null,
            "overflow_y": null,
            "overflow_x": null,
            "grid_auto_flow": null,
            "grid_area": null,
            "grid_template_columns": null,
            "flex": null,
            "_model_name": "LayoutModel",
            "justify_items": null,
            "grid_row": null,
            "max_height": null,
            "align_content": null,
            "visibility": null,
            "align_self": null,
            "height": null,
            "min_height": null,
            "padding": null,
            "grid_auto_rows": null,
            "grid_gap": null,
            "max_width": null,
            "order": null,
            "_view_module_version": "1.2.0",
            "grid_template_areas": null,
            "object_position": null,
            "object_fit": null,
            "grid_auto_columns": null,
            "margin": null,
            "display": null,
            "left": null
          }
        },
        "da3866aa2847403dad825550c02a484c": {
          "model_module": "@jupyter-widgets/controls",
          "model_name": "HTMLModel",
          "model_module_version": "1.5.0",
          "state": {
            "_view_name": "HTMLView",
            "style": "IPY_MODEL_5c84b4aa9551407fa80e8ed2f290e712",
            "_dom_classes": [],
            "description": "",
            "_model_name": "HTMLModel",
            "placeholder": "​",
            "_view_module": "@jupyter-widgets/controls",
            "_model_module_version": "1.5.0",
            "value": "",
            "_view_count": null,
            "_view_module_version": "1.5.0",
            "description_tooltip": null,
            "_model_module": "@jupyter-widgets/controls",
            "layout": "IPY_MODEL_6f8f3a6f72d847f08f7578309fec7744"
          }
        },
        "9ef856e052cb45348c7913795d6f179a": {
          "model_module": "@jupyter-widgets/controls",
          "model_name": "FloatProgressModel",
          "model_module_version": "1.5.0",
          "state": {
            "_view_name": "ProgressView",
            "style": "IPY_MODEL_0f1032369c174fd0bea5dfd43726673e",
            "_dom_classes": [],
            "description": "",
            "_model_name": "FloatProgressModel",
            "bar_style": "success",
            "max": 9912422,
            "_view_module": "@jupyter-widgets/controls",
            "_model_module_version": "1.5.0",
            "value": 9912422,
            "_view_count": null,
            "_view_module_version": "1.5.0",
            "orientation": "horizontal",
            "min": 0,
            "description_tooltip": null,
            "_model_module": "@jupyter-widgets/controls",
            "layout": "IPY_MODEL_7c5aad5c8f6c45768ab7a6d19937b848"
          }
        },
        "65ef98f9baa0433e8f0fa29bfa5424b9": {
          "model_module": "@jupyter-widgets/controls",
          "model_name": "HTMLModel",
          "model_module_version": "1.5.0",
          "state": {
            "_view_name": "HTMLView",
            "style": "IPY_MODEL_730b930a365a4d6d97e85396f43b20cd",
            "_dom_classes": [],
            "description": "",
            "_model_name": "HTMLModel",
            "placeholder": "​",
            "_view_module": "@jupyter-widgets/controls",
            "_model_module_version": "1.5.0",
            "value": " 9913344/? [00:00&lt;00:00, 19034635.28it/s]",
            "_view_count": null,
            "_view_module_version": "1.5.0",
            "description_tooltip": null,
            "_model_module": "@jupyter-widgets/controls",
            "layout": "IPY_MODEL_0de02477708948ba882d654bd12c4100"
          }
        },
        "5c84b4aa9551407fa80e8ed2f290e712": {
          "model_module": "@jupyter-widgets/controls",
          "model_name": "DescriptionStyleModel",
          "model_module_version": "1.5.0",
          "state": {
            "_view_name": "StyleView",
            "_model_name": "DescriptionStyleModel",
            "description_width": "",
            "_view_module": "@jupyter-widgets/base",
            "_model_module_version": "1.5.0",
            "_view_count": null,
            "_view_module_version": "1.2.0",
            "_model_module": "@jupyter-widgets/controls"
          }
        },
        "6f8f3a6f72d847f08f7578309fec7744": {
          "model_module": "@jupyter-widgets/base",
          "model_name": "LayoutModel",
          "model_module_version": "1.2.0",
          "state": {
            "_view_name": "LayoutView",
            "grid_template_rows": null,
            "right": null,
            "justify_content": null,
            "_view_module": "@jupyter-widgets/base",
            "overflow": null,
            "_model_module_version": "1.2.0",
            "_view_count": null,
            "flex_flow": null,
            "width": null,
            "min_width": null,
            "border": null,
            "align_items": null,
            "bottom": null,
            "_model_module": "@jupyter-widgets/base",
            "top": null,
            "grid_column": null,
            "overflow_y": null,
            "overflow_x": null,
            "grid_auto_flow": null,
            "grid_area": null,
            "grid_template_columns": null,
            "flex": null,
            "_model_name": "LayoutModel",
            "justify_items": null,
            "grid_row": null,
            "max_height": null,
            "align_content": null,
            "visibility": null,
            "align_self": null,
            "height": null,
            "min_height": null,
            "padding": null,
            "grid_auto_rows": null,
            "grid_gap": null,
            "max_width": null,
            "order": null,
            "_view_module_version": "1.2.0",
            "grid_template_areas": null,
            "object_position": null,
            "object_fit": null,
            "grid_auto_columns": null,
            "margin": null,
            "display": null,
            "left": null
          }
        },
        "0f1032369c174fd0bea5dfd43726673e": {
          "model_module": "@jupyter-widgets/controls",
          "model_name": "ProgressStyleModel",
          "model_module_version": "1.5.0",
          "state": {
            "_view_name": "StyleView",
            "_model_name": "ProgressStyleModel",
            "description_width": "",
            "_view_module": "@jupyter-widgets/base",
            "_model_module_version": "1.5.0",
            "_view_count": null,
            "_view_module_version": "1.2.0",
            "bar_color": null,
            "_model_module": "@jupyter-widgets/controls"
          }
        },
        "7c5aad5c8f6c45768ab7a6d19937b848": {
          "model_module": "@jupyter-widgets/base",
          "model_name": "LayoutModel",
          "model_module_version": "1.2.0",
          "state": {
            "_view_name": "LayoutView",
            "grid_template_rows": null,
            "right": null,
            "justify_content": null,
            "_view_module": "@jupyter-widgets/base",
            "overflow": null,
            "_model_module_version": "1.2.0",
            "_view_count": null,
            "flex_flow": null,
            "width": null,
            "min_width": null,
            "border": null,
            "align_items": null,
            "bottom": null,
            "_model_module": "@jupyter-widgets/base",
            "top": null,
            "grid_column": null,
            "overflow_y": null,
            "overflow_x": null,
            "grid_auto_flow": null,
            "grid_area": null,
            "grid_template_columns": null,
            "flex": null,
            "_model_name": "LayoutModel",
            "justify_items": null,
            "grid_row": null,
            "max_height": null,
            "align_content": null,
            "visibility": null,
            "align_self": null,
            "height": null,
            "min_height": null,
            "padding": null,
            "grid_auto_rows": null,
            "grid_gap": null,
            "max_width": null,
            "order": null,
            "_view_module_version": "1.2.0",
            "grid_template_areas": null,
            "object_position": null,
            "object_fit": null,
            "grid_auto_columns": null,
            "margin": null,
            "display": null,
            "left": null
          }
        },
        "730b930a365a4d6d97e85396f43b20cd": {
          "model_module": "@jupyter-widgets/controls",
          "model_name": "DescriptionStyleModel",
          "model_module_version": "1.5.0",
          "state": {
            "_view_name": "StyleView",
            "_model_name": "DescriptionStyleModel",
            "description_width": "",
            "_view_module": "@jupyter-widgets/base",
            "_model_module_version": "1.5.0",
            "_view_count": null,
            "_view_module_version": "1.2.0",
            "_model_module": "@jupyter-widgets/controls"
          }
        },
        "0de02477708948ba882d654bd12c4100": {
          "model_module": "@jupyter-widgets/base",
          "model_name": "LayoutModel",
          "model_module_version": "1.2.0",
          "state": {
            "_view_name": "LayoutView",
            "grid_template_rows": null,
            "right": null,
            "justify_content": null,
            "_view_module": "@jupyter-widgets/base",
            "overflow": null,
            "_model_module_version": "1.2.0",
            "_view_count": null,
            "flex_flow": null,
            "width": null,
            "min_width": null,
            "border": null,
            "align_items": null,
            "bottom": null,
            "_model_module": "@jupyter-widgets/base",
            "top": null,
            "grid_column": null,
            "overflow_y": null,
            "overflow_x": null,
            "grid_auto_flow": null,
            "grid_area": null,
            "grid_template_columns": null,
            "flex": null,
            "_model_name": "LayoutModel",
            "justify_items": null,
            "grid_row": null,
            "max_height": null,
            "align_content": null,
            "visibility": null,
            "align_self": null,
            "height": null,
            "min_height": null,
            "padding": null,
            "grid_auto_rows": null,
            "grid_gap": null,
            "max_width": null,
            "order": null,
            "_view_module_version": "1.2.0",
            "grid_template_areas": null,
            "object_position": null,
            "object_fit": null,
            "grid_auto_columns": null,
            "margin": null,
            "display": null,
            "left": null
          }
        },
        "471ef5fba1f44716ae53475ca2c8e4d0": {
          "model_module": "@jupyter-widgets/controls",
          "model_name": "HBoxModel",
          "model_module_version": "1.5.0",
          "state": {
            "_view_name": "HBoxView",
            "_dom_classes": [],
            "_model_name": "HBoxModel",
            "_view_module": "@jupyter-widgets/controls",
            "_model_module_version": "1.5.0",
            "_view_count": null,
            "_view_module_version": "1.5.0",
            "box_style": "",
            "layout": "IPY_MODEL_c9940f89688a4663b2cd9dc480a9a57c",
            "_model_module": "@jupyter-widgets/controls",
            "children": [
              "IPY_MODEL_32744c6afe354d42a019ae86ac459c33",
              "IPY_MODEL_8c336ff1ea4d4c7a9749c829d4ccca85",
              "IPY_MODEL_2407de42cb154e51b994944a997a4a15"
            ]
          }
        },
        "c9940f89688a4663b2cd9dc480a9a57c": {
          "model_module": "@jupyter-widgets/base",
          "model_name": "LayoutModel",
          "model_module_version": "1.2.0",
          "state": {
            "_view_name": "LayoutView",
            "grid_template_rows": null,
            "right": null,
            "justify_content": null,
            "_view_module": "@jupyter-widgets/base",
            "overflow": null,
            "_model_module_version": "1.2.0",
            "_view_count": null,
            "flex_flow": null,
            "width": null,
            "min_width": null,
            "border": null,
            "align_items": null,
            "bottom": null,
            "_model_module": "@jupyter-widgets/base",
            "top": null,
            "grid_column": null,
            "overflow_y": null,
            "overflow_x": null,
            "grid_auto_flow": null,
            "grid_area": null,
            "grid_template_columns": null,
            "flex": null,
            "_model_name": "LayoutModel",
            "justify_items": null,
            "grid_row": null,
            "max_height": null,
            "align_content": null,
            "visibility": null,
            "align_self": null,
            "height": null,
            "min_height": null,
            "padding": null,
            "grid_auto_rows": null,
            "grid_gap": null,
            "max_width": null,
            "order": null,
            "_view_module_version": "1.2.0",
            "grid_template_areas": null,
            "object_position": null,
            "object_fit": null,
            "grid_auto_columns": null,
            "margin": null,
            "display": null,
            "left": null
          }
        },
        "32744c6afe354d42a019ae86ac459c33": {
          "model_module": "@jupyter-widgets/controls",
          "model_name": "HTMLModel",
          "model_module_version": "1.5.0",
          "state": {
            "_view_name": "HTMLView",
            "style": "IPY_MODEL_de119542cacb4a82ad98bb78f9d4d328",
            "_dom_classes": [],
            "description": "",
            "_model_name": "HTMLModel",
            "placeholder": "​",
            "_view_module": "@jupyter-widgets/controls",
            "_model_module_version": "1.5.0",
            "value": "",
            "_view_count": null,
            "_view_module_version": "1.5.0",
            "description_tooltip": null,
            "_model_module": "@jupyter-widgets/controls",
            "layout": "IPY_MODEL_d54cc1c188d84c518df2cf3fe129ef81"
          }
        },
        "8c336ff1ea4d4c7a9749c829d4ccca85": {
          "model_module": "@jupyter-widgets/controls",
          "model_name": "FloatProgressModel",
          "model_module_version": "1.5.0",
          "state": {
            "_view_name": "ProgressView",
            "style": "IPY_MODEL_d42caf58d2754fd2b568fd1b06f7cdd1",
            "_dom_classes": [],
            "description": "",
            "_model_name": "FloatProgressModel",
            "bar_style": "success",
            "max": 28881,
            "_view_module": "@jupyter-widgets/controls",
            "_model_module_version": "1.5.0",
            "value": 28881,
            "_view_count": null,
            "_view_module_version": "1.5.0",
            "orientation": "horizontal",
            "min": 0,
            "description_tooltip": null,
            "_model_module": "@jupyter-widgets/controls",
            "layout": "IPY_MODEL_733dfb6ff812413fadc6142181a6bf28"
          }
        },
        "2407de42cb154e51b994944a997a4a15": {
          "model_module": "@jupyter-widgets/controls",
          "model_name": "HTMLModel",
          "model_module_version": "1.5.0",
          "state": {
            "_view_name": "HTMLView",
            "style": "IPY_MODEL_d8fb00daede64d1fa6a04082c1c8250d",
            "_dom_classes": [],
            "description": "",
            "_model_name": "HTMLModel",
            "placeholder": "​",
            "_view_module": "@jupyter-widgets/controls",
            "_model_module_version": "1.5.0",
            "value": " 29696/? [00:00&lt;00:00, 905024.90it/s]",
            "_view_count": null,
            "_view_module_version": "1.5.0",
            "description_tooltip": null,
            "_model_module": "@jupyter-widgets/controls",
            "layout": "IPY_MODEL_415d8f60056a46f49a3fc9c20e7ced01"
          }
        },
        "de119542cacb4a82ad98bb78f9d4d328": {
          "model_module": "@jupyter-widgets/controls",
          "model_name": "DescriptionStyleModel",
          "model_module_version": "1.5.0",
          "state": {
            "_view_name": "StyleView",
            "_model_name": "DescriptionStyleModel",
            "description_width": "",
            "_view_module": "@jupyter-widgets/base",
            "_model_module_version": "1.5.0",
            "_view_count": null,
            "_view_module_version": "1.2.0",
            "_model_module": "@jupyter-widgets/controls"
          }
        },
        "d54cc1c188d84c518df2cf3fe129ef81": {
          "model_module": "@jupyter-widgets/base",
          "model_name": "LayoutModel",
          "model_module_version": "1.2.0",
          "state": {
            "_view_name": "LayoutView",
            "grid_template_rows": null,
            "right": null,
            "justify_content": null,
            "_view_module": "@jupyter-widgets/base",
            "overflow": null,
            "_model_module_version": "1.2.0",
            "_view_count": null,
            "flex_flow": null,
            "width": null,
            "min_width": null,
            "border": null,
            "align_items": null,
            "bottom": null,
            "_model_module": "@jupyter-widgets/base",
            "top": null,
            "grid_column": null,
            "overflow_y": null,
            "overflow_x": null,
            "grid_auto_flow": null,
            "grid_area": null,
            "grid_template_columns": null,
            "flex": null,
            "_model_name": "LayoutModel",
            "justify_items": null,
            "grid_row": null,
            "max_height": null,
            "align_content": null,
            "visibility": null,
            "align_self": null,
            "height": null,
            "min_height": null,
            "padding": null,
            "grid_auto_rows": null,
            "grid_gap": null,
            "max_width": null,
            "order": null,
            "_view_module_version": "1.2.0",
            "grid_template_areas": null,
            "object_position": null,
            "object_fit": null,
            "grid_auto_columns": null,
            "margin": null,
            "display": null,
            "left": null
          }
        },
        "d42caf58d2754fd2b568fd1b06f7cdd1": {
          "model_module": "@jupyter-widgets/controls",
          "model_name": "ProgressStyleModel",
          "model_module_version": "1.5.0",
          "state": {
            "_view_name": "StyleView",
            "_model_name": "ProgressStyleModel",
            "description_width": "",
            "_view_module": "@jupyter-widgets/base",
            "_model_module_version": "1.5.0",
            "_view_count": null,
            "_view_module_version": "1.2.0",
            "bar_color": null,
            "_model_module": "@jupyter-widgets/controls"
          }
        },
        "733dfb6ff812413fadc6142181a6bf28": {
          "model_module": "@jupyter-widgets/base",
          "model_name": "LayoutModel",
          "model_module_version": "1.2.0",
          "state": {
            "_view_name": "LayoutView",
            "grid_template_rows": null,
            "right": null,
            "justify_content": null,
            "_view_module": "@jupyter-widgets/base",
            "overflow": null,
            "_model_module_version": "1.2.0",
            "_view_count": null,
            "flex_flow": null,
            "width": null,
            "min_width": null,
            "border": null,
            "align_items": null,
            "bottom": null,
            "_model_module": "@jupyter-widgets/base",
            "top": null,
            "grid_column": null,
            "overflow_y": null,
            "overflow_x": null,
            "grid_auto_flow": null,
            "grid_area": null,
            "grid_template_columns": null,
            "flex": null,
            "_model_name": "LayoutModel",
            "justify_items": null,
            "grid_row": null,
            "max_height": null,
            "align_content": null,
            "visibility": null,
            "align_self": null,
            "height": null,
            "min_height": null,
            "padding": null,
            "grid_auto_rows": null,
            "grid_gap": null,
            "max_width": null,
            "order": null,
            "_view_module_version": "1.2.0",
            "grid_template_areas": null,
            "object_position": null,
            "object_fit": null,
            "grid_auto_columns": null,
            "margin": null,
            "display": null,
            "left": null
          }
        },
        "d8fb00daede64d1fa6a04082c1c8250d": {
          "model_module": "@jupyter-widgets/controls",
          "model_name": "DescriptionStyleModel",
          "model_module_version": "1.5.0",
          "state": {
            "_view_name": "StyleView",
            "_model_name": "DescriptionStyleModel",
            "description_width": "",
            "_view_module": "@jupyter-widgets/base",
            "_model_module_version": "1.5.0",
            "_view_count": null,
            "_view_module_version": "1.2.0",
            "_model_module": "@jupyter-widgets/controls"
          }
        },
        "415d8f60056a46f49a3fc9c20e7ced01": {
          "model_module": "@jupyter-widgets/base",
          "model_name": "LayoutModel",
          "model_module_version": "1.2.0",
          "state": {
            "_view_name": "LayoutView",
            "grid_template_rows": null,
            "right": null,
            "justify_content": null,
            "_view_module": "@jupyter-widgets/base",
            "overflow": null,
            "_model_module_version": "1.2.0",
            "_view_count": null,
            "flex_flow": null,
            "width": null,
            "min_width": null,
            "border": null,
            "align_items": null,
            "bottom": null,
            "_model_module": "@jupyter-widgets/base",
            "top": null,
            "grid_column": null,
            "overflow_y": null,
            "overflow_x": null,
            "grid_auto_flow": null,
            "grid_area": null,
            "grid_template_columns": null,
            "flex": null,
            "_model_name": "LayoutModel",
            "justify_items": null,
            "grid_row": null,
            "max_height": null,
            "align_content": null,
            "visibility": null,
            "align_self": null,
            "height": null,
            "min_height": null,
            "padding": null,
            "grid_auto_rows": null,
            "grid_gap": null,
            "max_width": null,
            "order": null,
            "_view_module_version": "1.2.0",
            "grid_template_areas": null,
            "object_position": null,
            "object_fit": null,
            "grid_auto_columns": null,
            "margin": null,
            "display": null,
            "left": null
          }
        },
        "957a5ab0b718423099f1f52f099d1a0e": {
          "model_module": "@jupyter-widgets/controls",
          "model_name": "HBoxModel",
          "model_module_version": "1.5.0",
          "state": {
            "_view_name": "HBoxView",
            "_dom_classes": [],
            "_model_name": "HBoxModel",
            "_view_module": "@jupyter-widgets/controls",
            "_model_module_version": "1.5.0",
            "_view_count": null,
            "_view_module_version": "1.5.0",
            "box_style": "",
            "layout": "IPY_MODEL_a033383e4f0b43ad992f3fa29a8eefc2",
            "_model_module": "@jupyter-widgets/controls",
            "children": [
              "IPY_MODEL_e98f2b6b0cb24e5a8d15e37bc67b420e",
              "IPY_MODEL_ff370eec1b5e474b85169733337adb6d",
              "IPY_MODEL_a5f860d722b94c01a694f0778aa10e1f"
            ]
          }
        },
        "a033383e4f0b43ad992f3fa29a8eefc2": {
          "model_module": "@jupyter-widgets/base",
          "model_name": "LayoutModel",
          "model_module_version": "1.2.0",
          "state": {
            "_view_name": "LayoutView",
            "grid_template_rows": null,
            "right": null,
            "justify_content": null,
            "_view_module": "@jupyter-widgets/base",
            "overflow": null,
            "_model_module_version": "1.2.0",
            "_view_count": null,
            "flex_flow": null,
            "width": null,
            "min_width": null,
            "border": null,
            "align_items": null,
            "bottom": null,
            "_model_module": "@jupyter-widgets/base",
            "top": null,
            "grid_column": null,
            "overflow_y": null,
            "overflow_x": null,
            "grid_auto_flow": null,
            "grid_area": null,
            "grid_template_columns": null,
            "flex": null,
            "_model_name": "LayoutModel",
            "justify_items": null,
            "grid_row": null,
            "max_height": null,
            "align_content": null,
            "visibility": null,
            "align_self": null,
            "height": null,
            "min_height": null,
            "padding": null,
            "grid_auto_rows": null,
            "grid_gap": null,
            "max_width": null,
            "order": null,
            "_view_module_version": "1.2.0",
            "grid_template_areas": null,
            "object_position": null,
            "object_fit": null,
            "grid_auto_columns": null,
            "margin": null,
            "display": null,
            "left": null
          }
        },
        "e98f2b6b0cb24e5a8d15e37bc67b420e": {
          "model_module": "@jupyter-widgets/controls",
          "model_name": "HTMLModel",
          "model_module_version": "1.5.0",
          "state": {
            "_view_name": "HTMLView",
            "style": "IPY_MODEL_4f71972f49524ddf8c8d891973746e26",
            "_dom_classes": [],
            "description": "",
            "_model_name": "HTMLModel",
            "placeholder": "​",
            "_view_module": "@jupyter-widgets/controls",
            "_model_module_version": "1.5.0",
            "value": "",
            "_view_count": null,
            "_view_module_version": "1.5.0",
            "description_tooltip": null,
            "_model_module": "@jupyter-widgets/controls",
            "layout": "IPY_MODEL_511c85d79d254ed2a897f934d3c7437c"
          }
        },
        "ff370eec1b5e474b85169733337adb6d": {
          "model_module": "@jupyter-widgets/controls",
          "model_name": "FloatProgressModel",
          "model_module_version": "1.5.0",
          "state": {
            "_view_name": "ProgressView",
            "style": "IPY_MODEL_ff9e9ab2a0354ee787015ffce03cea1b",
            "_dom_classes": [],
            "description": "",
            "_model_name": "FloatProgressModel",
            "bar_style": "success",
            "max": 1648877,
            "_view_module": "@jupyter-widgets/controls",
            "_model_module_version": "1.5.0",
            "value": 1648877,
            "_view_count": null,
            "_view_module_version": "1.5.0",
            "orientation": "horizontal",
            "min": 0,
            "description_tooltip": null,
            "_model_module": "@jupyter-widgets/controls",
            "layout": "IPY_MODEL_b5d3b30357984bbeb612d5003ed41004"
          }
        },
        "a5f860d722b94c01a694f0778aa10e1f": {
          "model_module": "@jupyter-widgets/controls",
          "model_name": "HTMLModel",
          "model_module_version": "1.5.0",
          "state": {
            "_view_name": "HTMLView",
            "style": "IPY_MODEL_91984871361f4dee8685cca5ab33e148",
            "_dom_classes": [],
            "description": "",
            "_model_name": "HTMLModel",
            "placeholder": "​",
            "_view_module": "@jupyter-widgets/controls",
            "_model_module_version": "1.5.0",
            "value": " 1649664/? [00:00&lt;00:00, 4453252.77it/s]",
            "_view_count": null,
            "_view_module_version": "1.5.0",
            "description_tooltip": null,
            "_model_module": "@jupyter-widgets/controls",
            "layout": "IPY_MODEL_4b104d97123d449bbce8ae7e1c0e8b30"
          }
        },
        "4f71972f49524ddf8c8d891973746e26": {
          "model_module": "@jupyter-widgets/controls",
          "model_name": "DescriptionStyleModel",
          "model_module_version": "1.5.0",
          "state": {
            "_view_name": "StyleView",
            "_model_name": "DescriptionStyleModel",
            "description_width": "",
            "_view_module": "@jupyter-widgets/base",
            "_model_module_version": "1.5.0",
            "_view_count": null,
            "_view_module_version": "1.2.0",
            "_model_module": "@jupyter-widgets/controls"
          }
        },
        "511c85d79d254ed2a897f934d3c7437c": {
          "model_module": "@jupyter-widgets/base",
          "model_name": "LayoutModel",
          "model_module_version": "1.2.0",
          "state": {
            "_view_name": "LayoutView",
            "grid_template_rows": null,
            "right": null,
            "justify_content": null,
            "_view_module": "@jupyter-widgets/base",
            "overflow": null,
            "_model_module_version": "1.2.0",
            "_view_count": null,
            "flex_flow": null,
            "width": null,
            "min_width": null,
            "border": null,
            "align_items": null,
            "bottom": null,
            "_model_module": "@jupyter-widgets/base",
            "top": null,
            "grid_column": null,
            "overflow_y": null,
            "overflow_x": null,
            "grid_auto_flow": null,
            "grid_area": null,
            "grid_template_columns": null,
            "flex": null,
            "_model_name": "LayoutModel",
            "justify_items": null,
            "grid_row": null,
            "max_height": null,
            "align_content": null,
            "visibility": null,
            "align_self": null,
            "height": null,
            "min_height": null,
            "padding": null,
            "grid_auto_rows": null,
            "grid_gap": null,
            "max_width": null,
            "order": null,
            "_view_module_version": "1.2.0",
            "grid_template_areas": null,
            "object_position": null,
            "object_fit": null,
            "grid_auto_columns": null,
            "margin": null,
            "display": null,
            "left": null
          }
        },
        "ff9e9ab2a0354ee787015ffce03cea1b": {
          "model_module": "@jupyter-widgets/controls",
          "model_name": "ProgressStyleModel",
          "model_module_version": "1.5.0",
          "state": {
            "_view_name": "StyleView",
            "_model_name": "ProgressStyleModel",
            "description_width": "",
            "_view_module": "@jupyter-widgets/base",
            "_model_module_version": "1.5.0",
            "_view_count": null,
            "_view_module_version": "1.2.0",
            "bar_color": null,
            "_model_module": "@jupyter-widgets/controls"
          }
        },
        "b5d3b30357984bbeb612d5003ed41004": {
          "model_module": "@jupyter-widgets/base",
          "model_name": "LayoutModel",
          "model_module_version": "1.2.0",
          "state": {
            "_view_name": "LayoutView",
            "grid_template_rows": null,
            "right": null,
            "justify_content": null,
            "_view_module": "@jupyter-widgets/base",
            "overflow": null,
            "_model_module_version": "1.2.0",
            "_view_count": null,
            "flex_flow": null,
            "width": null,
            "min_width": null,
            "border": null,
            "align_items": null,
            "bottom": null,
            "_model_module": "@jupyter-widgets/base",
            "top": null,
            "grid_column": null,
            "overflow_y": null,
            "overflow_x": null,
            "grid_auto_flow": null,
            "grid_area": null,
            "grid_template_columns": null,
            "flex": null,
            "_model_name": "LayoutModel",
            "justify_items": null,
            "grid_row": null,
            "max_height": null,
            "align_content": null,
            "visibility": null,
            "align_self": null,
            "height": null,
            "min_height": null,
            "padding": null,
            "grid_auto_rows": null,
            "grid_gap": null,
            "max_width": null,
            "order": null,
            "_view_module_version": "1.2.0",
            "grid_template_areas": null,
            "object_position": null,
            "object_fit": null,
            "grid_auto_columns": null,
            "margin": null,
            "display": null,
            "left": null
          }
        },
        "91984871361f4dee8685cca5ab33e148": {
          "model_module": "@jupyter-widgets/controls",
          "model_name": "DescriptionStyleModel",
          "model_module_version": "1.5.0",
          "state": {
            "_view_name": "StyleView",
            "_model_name": "DescriptionStyleModel",
            "description_width": "",
            "_view_module": "@jupyter-widgets/base",
            "_model_module_version": "1.5.0",
            "_view_count": null,
            "_view_module_version": "1.2.0",
            "_model_module": "@jupyter-widgets/controls"
          }
        },
        "4b104d97123d449bbce8ae7e1c0e8b30": {
          "model_module": "@jupyter-widgets/base",
          "model_name": "LayoutModel",
          "model_module_version": "1.2.0",
          "state": {
            "_view_name": "LayoutView",
            "grid_template_rows": null,
            "right": null,
            "justify_content": null,
            "_view_module": "@jupyter-widgets/base",
            "overflow": null,
            "_model_module_version": "1.2.0",
            "_view_count": null,
            "flex_flow": null,
            "width": null,
            "min_width": null,
            "border": null,
            "align_items": null,
            "bottom": null,
            "_model_module": "@jupyter-widgets/base",
            "top": null,
            "grid_column": null,
            "overflow_y": null,
            "overflow_x": null,
            "grid_auto_flow": null,
            "grid_area": null,
            "grid_template_columns": null,
            "flex": null,
            "_model_name": "LayoutModel",
            "justify_items": null,
            "grid_row": null,
            "max_height": null,
            "align_content": null,
            "visibility": null,
            "align_self": null,
            "height": null,
            "min_height": null,
            "padding": null,
            "grid_auto_rows": null,
            "grid_gap": null,
            "max_width": null,
            "order": null,
            "_view_module_version": "1.2.0",
            "grid_template_areas": null,
            "object_position": null,
            "object_fit": null,
            "grid_auto_columns": null,
            "margin": null,
            "display": null,
            "left": null
          }
        },
        "e0f5335516844071b87dfdfe723b4007": {
          "model_module": "@jupyter-widgets/controls",
          "model_name": "HBoxModel",
          "model_module_version": "1.5.0",
          "state": {
            "_view_name": "HBoxView",
            "_dom_classes": [],
            "_model_name": "HBoxModel",
            "_view_module": "@jupyter-widgets/controls",
            "_model_module_version": "1.5.0",
            "_view_count": null,
            "_view_module_version": "1.5.0",
            "box_style": "",
            "layout": "IPY_MODEL_36162154e4ed4a8da2f8456d078002fc",
            "_model_module": "@jupyter-widgets/controls",
            "children": [
              "IPY_MODEL_cb2a3a6e765d4ec3bd4b25550aa56e62",
              "IPY_MODEL_ca110c41a9bd40a49dd1ee183387d268",
              "IPY_MODEL_b0dfbc31058f4107b18c1be48369b3c9"
            ]
          }
        },
        "36162154e4ed4a8da2f8456d078002fc": {
          "model_module": "@jupyter-widgets/base",
          "model_name": "LayoutModel",
          "model_module_version": "1.2.0",
          "state": {
            "_view_name": "LayoutView",
            "grid_template_rows": null,
            "right": null,
            "justify_content": null,
            "_view_module": "@jupyter-widgets/base",
            "overflow": null,
            "_model_module_version": "1.2.0",
            "_view_count": null,
            "flex_flow": null,
            "width": null,
            "min_width": null,
            "border": null,
            "align_items": null,
            "bottom": null,
            "_model_module": "@jupyter-widgets/base",
            "top": null,
            "grid_column": null,
            "overflow_y": null,
            "overflow_x": null,
            "grid_auto_flow": null,
            "grid_area": null,
            "grid_template_columns": null,
            "flex": null,
            "_model_name": "LayoutModel",
            "justify_items": null,
            "grid_row": null,
            "max_height": null,
            "align_content": null,
            "visibility": null,
            "align_self": null,
            "height": null,
            "min_height": null,
            "padding": null,
            "grid_auto_rows": null,
            "grid_gap": null,
            "max_width": null,
            "order": null,
            "_view_module_version": "1.2.0",
            "grid_template_areas": null,
            "object_position": null,
            "object_fit": null,
            "grid_auto_columns": null,
            "margin": null,
            "display": null,
            "left": null
          }
        },
        "cb2a3a6e765d4ec3bd4b25550aa56e62": {
          "model_module": "@jupyter-widgets/controls",
          "model_name": "HTMLModel",
          "model_module_version": "1.5.0",
          "state": {
            "_view_name": "HTMLView",
            "style": "IPY_MODEL_d1ec2f5059a14b889e1b4df6a55f0441",
            "_dom_classes": [],
            "description": "",
            "_model_name": "HTMLModel",
            "placeholder": "​",
            "_view_module": "@jupyter-widgets/controls",
            "_model_module_version": "1.5.0",
            "value": "",
            "_view_count": null,
            "_view_module_version": "1.5.0",
            "description_tooltip": null,
            "_model_module": "@jupyter-widgets/controls",
            "layout": "IPY_MODEL_5943fa7f0385479b8d598693ba5a8a5f"
          }
        },
        "ca110c41a9bd40a49dd1ee183387d268": {
          "model_module": "@jupyter-widgets/controls",
          "model_name": "FloatProgressModel",
          "model_module_version": "1.5.0",
          "state": {
            "_view_name": "ProgressView",
            "style": "IPY_MODEL_521bb1cca8904092b85c329d0d12f9e9",
            "_dom_classes": [],
            "description": "",
            "_model_name": "FloatProgressModel",
            "bar_style": "success",
            "max": 4542,
            "_view_module": "@jupyter-widgets/controls",
            "_model_module_version": "1.5.0",
            "value": 4542,
            "_view_count": null,
            "_view_module_version": "1.5.0",
            "orientation": "horizontal",
            "min": 0,
            "description_tooltip": null,
            "_model_module": "@jupyter-widgets/controls",
            "layout": "IPY_MODEL_de91305643cf4fea8494f2266f219fd4"
          }
        },
        "b0dfbc31058f4107b18c1be48369b3c9": {
          "model_module": "@jupyter-widgets/controls",
          "model_name": "HTMLModel",
          "model_module_version": "1.5.0",
          "state": {
            "_view_name": "HTMLView",
            "style": "IPY_MODEL_c635c80e5d684ccba9d07c0b6ce2a190",
            "_dom_classes": [],
            "description": "",
            "_model_name": "HTMLModel",
            "placeholder": "​",
            "_view_module": "@jupyter-widgets/controls",
            "_model_module_version": "1.5.0",
            "value": " 5120/? [00:00&lt;00:00, 163641.49it/s]",
            "_view_count": null,
            "_view_module_version": "1.5.0",
            "description_tooltip": null,
            "_model_module": "@jupyter-widgets/controls",
            "layout": "IPY_MODEL_ac35f81af4a14e2c9b9a0359595b9aef"
          }
        },
        "d1ec2f5059a14b889e1b4df6a55f0441": {
          "model_module": "@jupyter-widgets/controls",
          "model_name": "DescriptionStyleModel",
          "model_module_version": "1.5.0",
          "state": {
            "_view_name": "StyleView",
            "_model_name": "DescriptionStyleModel",
            "description_width": "",
            "_view_module": "@jupyter-widgets/base",
            "_model_module_version": "1.5.0",
            "_view_count": null,
            "_view_module_version": "1.2.0",
            "_model_module": "@jupyter-widgets/controls"
          }
        },
        "5943fa7f0385479b8d598693ba5a8a5f": {
          "model_module": "@jupyter-widgets/base",
          "model_name": "LayoutModel",
          "model_module_version": "1.2.0",
          "state": {
            "_view_name": "LayoutView",
            "grid_template_rows": null,
            "right": null,
            "justify_content": null,
            "_view_module": "@jupyter-widgets/base",
            "overflow": null,
            "_model_module_version": "1.2.0",
            "_view_count": null,
            "flex_flow": null,
            "width": null,
            "min_width": null,
            "border": null,
            "align_items": null,
            "bottom": null,
            "_model_module": "@jupyter-widgets/base",
            "top": null,
            "grid_column": null,
            "overflow_y": null,
            "overflow_x": null,
            "grid_auto_flow": null,
            "grid_area": null,
            "grid_template_columns": null,
            "flex": null,
            "_model_name": "LayoutModel",
            "justify_items": null,
            "grid_row": null,
            "max_height": null,
            "align_content": null,
            "visibility": null,
            "align_self": null,
            "height": null,
            "min_height": null,
            "padding": null,
            "grid_auto_rows": null,
            "grid_gap": null,
            "max_width": null,
            "order": null,
            "_view_module_version": "1.2.0",
            "grid_template_areas": null,
            "object_position": null,
            "object_fit": null,
            "grid_auto_columns": null,
            "margin": null,
            "display": null,
            "left": null
          }
        },
        "521bb1cca8904092b85c329d0d12f9e9": {
          "model_module": "@jupyter-widgets/controls",
          "model_name": "ProgressStyleModel",
          "model_module_version": "1.5.0",
          "state": {
            "_view_name": "StyleView",
            "_model_name": "ProgressStyleModel",
            "description_width": "",
            "_view_module": "@jupyter-widgets/base",
            "_model_module_version": "1.5.0",
            "_view_count": null,
            "_view_module_version": "1.2.0",
            "bar_color": null,
            "_model_module": "@jupyter-widgets/controls"
          }
        },
        "de91305643cf4fea8494f2266f219fd4": {
          "model_module": "@jupyter-widgets/base",
          "model_name": "LayoutModel",
          "model_module_version": "1.2.0",
          "state": {
            "_view_name": "LayoutView",
            "grid_template_rows": null,
            "right": null,
            "justify_content": null,
            "_view_module": "@jupyter-widgets/base",
            "overflow": null,
            "_model_module_version": "1.2.0",
            "_view_count": null,
            "flex_flow": null,
            "width": null,
            "min_width": null,
            "border": null,
            "align_items": null,
            "bottom": null,
            "_model_module": "@jupyter-widgets/base",
            "top": null,
            "grid_column": null,
            "overflow_y": null,
            "overflow_x": null,
            "grid_auto_flow": null,
            "grid_area": null,
            "grid_template_columns": null,
            "flex": null,
            "_model_name": "LayoutModel",
            "justify_items": null,
            "grid_row": null,
            "max_height": null,
            "align_content": null,
            "visibility": null,
            "align_self": null,
            "height": null,
            "min_height": null,
            "padding": null,
            "grid_auto_rows": null,
            "grid_gap": null,
            "max_width": null,
            "order": null,
            "_view_module_version": "1.2.0",
            "grid_template_areas": null,
            "object_position": null,
            "object_fit": null,
            "grid_auto_columns": null,
            "margin": null,
            "display": null,
            "left": null
          }
        },
        "c635c80e5d684ccba9d07c0b6ce2a190": {
          "model_module": "@jupyter-widgets/controls",
          "model_name": "DescriptionStyleModel",
          "model_module_version": "1.5.0",
          "state": {
            "_view_name": "StyleView",
            "_model_name": "DescriptionStyleModel",
            "description_width": "",
            "_view_module": "@jupyter-widgets/base",
            "_model_module_version": "1.5.0",
            "_view_count": null,
            "_view_module_version": "1.2.0",
            "_model_module": "@jupyter-widgets/controls"
          }
        },
        "ac35f81af4a14e2c9b9a0359595b9aef": {
          "model_module": "@jupyter-widgets/base",
          "model_name": "LayoutModel",
          "model_module_version": "1.2.0",
          "state": {
            "_view_name": "LayoutView",
            "grid_template_rows": null,
            "right": null,
            "justify_content": null,
            "_view_module": "@jupyter-widgets/base",
            "overflow": null,
            "_model_module_version": "1.2.0",
            "_view_count": null,
            "flex_flow": null,
            "width": null,
            "min_width": null,
            "border": null,
            "align_items": null,
            "bottom": null,
            "_model_module": "@jupyter-widgets/base",
            "top": null,
            "grid_column": null,
            "overflow_y": null,
            "overflow_x": null,
            "grid_auto_flow": null,
            "grid_area": null,
            "grid_template_columns": null,
            "flex": null,
            "_model_name": "LayoutModel",
            "justify_items": null,
            "grid_row": null,
            "max_height": null,
            "align_content": null,
            "visibility": null,
            "align_self": null,
            "height": null,
            "min_height": null,
            "padding": null,
            "grid_auto_rows": null,
            "grid_gap": null,
            "max_width": null,
            "order": null,
            "_view_module_version": "1.2.0",
            "grid_template_areas": null,
            "object_position": null,
            "object_fit": null,
            "grid_auto_columns": null,
            "margin": null,
            "display": null,
            "left": null
          }
        }
      }
    }
  },
  "cells": [
    {
      "cell_type": "markdown",
      "metadata": {
        "id": "view-in-github",
        "colab_type": "text"
      },
      "source": [
        "<a href=\"https://colab.research.google.com/github/jhChoi1997/EE488_AI_Convergence_Capstone_Design_Anomaly_Detection_2022spring/blob/main/rotnet_temp3.ipynb\" target=\"_parent\"><img src=\"https://colab.research.google.com/assets/colab-badge.svg\" alt=\"Open In Colab\"/></a>"
      ]
    },
    {
      "cell_type": "markdown",
      "source": [
        "# **EE 488 AI Convergence Capstone Design : Anomaly Detection**\n",
        "## **practice 2-3 : Anomaly Detection using Self-supervised learning (RotNet)**\n",
        "\n",
        "code implementation is referenced https://github.com/d4nst/RotNet"
      ],
      "metadata": {
        "id": "H6MGnF0QF2tO"
      }
    },
    {
      "cell_type": "code",
      "execution_count": 1,
      "metadata": {
        "id": "qx0wd0wRJ8zF"
      },
      "outputs": [],
      "source": [
        "import torch\n",
        "from torch import nn\n",
        "import torch.nn.functional as F\n",
        "from torchvision import datasets\n",
        "from torchvision.transforms import ToTensor\n",
        "from torch.utils.data import DataLoader, TensorDataset\n",
        "from sklearn import metrics\n",
        "import matplotlib.pyplot as plt\n",
        "import torchsummary\n",
        "import numpy as np"
      ]
    },
    {
      "cell_type": "code",
      "source": [
        "device = 'cuda' if torch.cuda.is_available() else 'cpu'\n",
        "\n",
        "print(f'Using {device} device')"
      ],
      "metadata": {
        "colab": {
          "base_uri": "https://localhost:8080/"
        },
        "id": "QlCEbzhEKCLA",
        "outputId": "f3cee054-a52e-4111-cef1-25c6a476b2d7"
      },
      "execution_count": 2,
      "outputs": [
        {
          "output_type": "stream",
          "name": "stdout",
          "text": [
            "Using cuda device\n"
          ]
        }
      ]
    },
    {
      "cell_type": "code",
      "source": [
        "plt.rc('font', size=20)"
      ],
      "metadata": {
        "id": "0xPkXUzeLmb8"
      },
      "execution_count": 3,
      "outputs": []
    },
    {
      "cell_type": "markdown",
      "source": [
        "You can change the hyperparameter below.\n",
        "Parameter 'ANOMALY_NUM' means which number to set as an anomaly."
      ],
      "metadata": {
        "id": "vy_GKeckHLHd"
      }
    },
    {
      "cell_type": "code",
      "source": [
        "EPOCHS = 20\n",
        "BATCH = 32\n",
        "ANOMALY_NUM = 9"
      ],
      "metadata": {
        "id": "YlvTt_YSJ-Vm"
      },
      "execution_count": 4,
      "outputs": []
    },
    {
      "cell_type": "markdown",
      "source": [
        "The dataset for anomaly detection is composed of normal data and anomaly data. Normal data can be seen in the train, validation, and test dataset, but anomaly data is not in the train dataset. Here 0 to 8 will be used as normal data, and 9 will be used as anomaly data."
      ],
      "metadata": {
        "id": "oxNJ9sVzHWPj"
      }
    },
    {
      "cell_type": "code",
      "source": [
        "mnist_train = datasets.MNIST(root='MNIST_data/', train=True, transform=ToTensor(), download=True)\n",
        "mnist_test = datasets.MNIST(root='MNIST_data/', train=False, transform=ToTensor(), download=True)\n",
        "\n",
        "train_x = torch.tensor([mnist_train[i][0].numpy() for i, v in enumerate(mnist_train) if v[1] != ANOMALY_NUM])\n",
        "train_num = torch.tensor([mnist_train[i][1] for i, v in enumerate(mnist_train) if v[1] != ANOMALY_NUM])\n",
        "train_num_oh = F.one_hot(train_num)\n",
        "# add rotate angle\n",
        "train_degree = torch.randint(0,4,(train_x.shape[0],))\n",
        "\n",
        "unseen_x = torch.tensor([v[0].numpy() for v in mnist_test])\n",
        "unseen_num = torch.tensor([v[1] for v in mnist_test])\n",
        "unseen_y = torch.tensor([0 if v[1] != ANOMALY_NUM else 1 for v in mnist_test])\n",
        "\n",
        "\n",
        "val_x = unseen_x[:int(len(unseen_x) / 2)]\n",
        "val_num = unseen_num[:int(len(unseen_x) / 2)]\n",
        "val_num_oh = F.one_hot(val_num)\n",
        "val_num_oh = torch.cat((val_num_oh[:,0:ANOMALY_NUM],val_num_oh[:,ANOMALY_NUM+1:]), dim=1)\n",
        "val_y = unseen_y[:int(len(unseen_y) / 2)]\n",
        "val_degree = torch.randint(0,4,(val_x.shape[0],))\n",
        "test_x = unseen_x[int(len(unseen_x) / 2):]\n",
        "test_num = unseen_num[int(len(unseen_x) / 2):]\n",
        "test_num_oh = F.one_hot(test_num)\n",
        "test_num_oh = torch.cat((test_num_oh[:,0:ANOMALY_NUM],test_num_oh[:,ANOMALY_NUM+1:]), dim=1)\n",
        "test_y = unseen_y[int(len(unseen_y) / 2):]\n",
        "test_degree = torch.randint(0,4,(test_x.shape[0],))\n",
        "train_dataset = TensorDataset(train_x, train_num_oh, train_degree)\n",
        "val_dataset = TensorDataset(val_x, val_num_oh, val_y, val_degree)\n",
        "test_dataset = TensorDataset(test_x, test_num_oh, test_y, test_degree)\n",
        "\n",
        "train_dataloader = DataLoader(train_dataset, batch_size=BATCH)\n",
        "val_dataloader = DataLoader(val_dataset, batch_size=BATCH)\n",
        "test_dataloader = DataLoader(test_dataset, batch_size=BATCH)"
      ],
      "metadata": {
        "colab": {
          "base_uri": "https://localhost:8080/",
          "height": 500,
          "referenced_widgets": [
            "0fbf3ca8af344acc97d38068269fbc8d",
            "d4195f56b3a04205a4655d066c6ef87f",
            "da3866aa2847403dad825550c02a484c",
            "9ef856e052cb45348c7913795d6f179a",
            "65ef98f9baa0433e8f0fa29bfa5424b9",
            "5c84b4aa9551407fa80e8ed2f290e712",
            "6f8f3a6f72d847f08f7578309fec7744",
            "0f1032369c174fd0bea5dfd43726673e",
            "7c5aad5c8f6c45768ab7a6d19937b848",
            "730b930a365a4d6d97e85396f43b20cd",
            "0de02477708948ba882d654bd12c4100",
            "471ef5fba1f44716ae53475ca2c8e4d0",
            "c9940f89688a4663b2cd9dc480a9a57c",
            "32744c6afe354d42a019ae86ac459c33",
            "8c336ff1ea4d4c7a9749c829d4ccca85",
            "2407de42cb154e51b994944a997a4a15",
            "de119542cacb4a82ad98bb78f9d4d328",
            "d54cc1c188d84c518df2cf3fe129ef81",
            "d42caf58d2754fd2b568fd1b06f7cdd1",
            "733dfb6ff812413fadc6142181a6bf28",
            "d8fb00daede64d1fa6a04082c1c8250d",
            "415d8f60056a46f49a3fc9c20e7ced01",
            "957a5ab0b718423099f1f52f099d1a0e",
            "a033383e4f0b43ad992f3fa29a8eefc2",
            "e98f2b6b0cb24e5a8d15e37bc67b420e",
            "ff370eec1b5e474b85169733337adb6d",
            "a5f860d722b94c01a694f0778aa10e1f",
            "4f71972f49524ddf8c8d891973746e26",
            "511c85d79d254ed2a897f934d3c7437c",
            "ff9e9ab2a0354ee787015ffce03cea1b",
            "b5d3b30357984bbeb612d5003ed41004",
            "91984871361f4dee8685cca5ab33e148",
            "4b104d97123d449bbce8ae7e1c0e8b30",
            "e0f5335516844071b87dfdfe723b4007",
            "36162154e4ed4a8da2f8456d078002fc",
            "cb2a3a6e765d4ec3bd4b25550aa56e62",
            "ca110c41a9bd40a49dd1ee183387d268",
            "b0dfbc31058f4107b18c1be48369b3c9",
            "d1ec2f5059a14b889e1b4df6a55f0441",
            "5943fa7f0385479b8d598693ba5a8a5f",
            "521bb1cca8904092b85c329d0d12f9e9",
            "de91305643cf4fea8494f2266f219fd4",
            "c635c80e5d684ccba9d07c0b6ce2a190",
            "ac35f81af4a14e2c9b9a0359595b9aef"
          ]
        },
        "id": "hGifb5nZJ_Hg",
        "outputId": "a3bc6ecf-db24-4bbd-fc27-577b0dc5d0ad"
      },
      "execution_count": 5,
      "outputs": [
        {
          "output_type": "stream",
          "name": "stdout",
          "text": [
            "Downloading http://yann.lecun.com/exdb/mnist/train-images-idx3-ubyte.gz\n",
            "Downloading http://yann.lecun.com/exdb/mnist/train-images-idx3-ubyte.gz to MNIST_data/MNIST/raw/train-images-idx3-ubyte.gz\n"
          ]
        },
        {
          "output_type": "display_data",
          "data": {
            "application/vnd.jupyter.widget-view+json": {
              "model_id": "0fbf3ca8af344acc97d38068269fbc8d",
              "version_minor": 0,
              "version_major": 2
            },
            "text/plain": [
              "  0%|          | 0/9912422 [00:00<?, ?it/s]"
            ]
          },
          "metadata": {}
        },
        {
          "output_type": "stream",
          "name": "stdout",
          "text": [
            "Extracting MNIST_data/MNIST/raw/train-images-idx3-ubyte.gz to MNIST_data/MNIST/raw\n",
            "\n",
            "Downloading http://yann.lecun.com/exdb/mnist/train-labels-idx1-ubyte.gz\n",
            "Downloading http://yann.lecun.com/exdb/mnist/train-labels-idx1-ubyte.gz to MNIST_data/MNIST/raw/train-labels-idx1-ubyte.gz\n"
          ]
        },
        {
          "output_type": "display_data",
          "data": {
            "application/vnd.jupyter.widget-view+json": {
              "model_id": "471ef5fba1f44716ae53475ca2c8e4d0",
              "version_minor": 0,
              "version_major": 2
            },
            "text/plain": [
              "  0%|          | 0/28881 [00:00<?, ?it/s]"
            ]
          },
          "metadata": {}
        },
        {
          "output_type": "stream",
          "name": "stdout",
          "text": [
            "Extracting MNIST_data/MNIST/raw/train-labels-idx1-ubyte.gz to MNIST_data/MNIST/raw\n",
            "\n",
            "Downloading http://yann.lecun.com/exdb/mnist/t10k-images-idx3-ubyte.gz\n",
            "Downloading http://yann.lecun.com/exdb/mnist/t10k-images-idx3-ubyte.gz to MNIST_data/MNIST/raw/t10k-images-idx3-ubyte.gz\n"
          ]
        },
        {
          "output_type": "display_data",
          "data": {
            "application/vnd.jupyter.widget-view+json": {
              "model_id": "957a5ab0b718423099f1f52f099d1a0e",
              "version_minor": 0,
              "version_major": 2
            },
            "text/plain": [
              "  0%|          | 0/1648877 [00:00<?, ?it/s]"
            ]
          },
          "metadata": {}
        },
        {
          "output_type": "stream",
          "name": "stdout",
          "text": [
            "Extracting MNIST_data/MNIST/raw/t10k-images-idx3-ubyte.gz to MNIST_data/MNIST/raw\n",
            "\n",
            "Downloading http://yann.lecun.com/exdb/mnist/t10k-labels-idx1-ubyte.gz\n",
            "Downloading http://yann.lecun.com/exdb/mnist/t10k-labels-idx1-ubyte.gz to MNIST_data/MNIST/raw/t10k-labels-idx1-ubyte.gz\n"
          ]
        },
        {
          "output_type": "display_data",
          "data": {
            "application/vnd.jupyter.widget-view+json": {
              "model_id": "e0f5335516844071b87dfdfe723b4007",
              "version_minor": 0,
              "version_major": 2
            },
            "text/plain": [
              "  0%|          | 0/4542 [00:00<?, ?it/s]"
            ]
          },
          "metadata": {}
        },
        {
          "output_type": "stream",
          "name": "stdout",
          "text": [
            "Extracting MNIST_data/MNIST/raw/t10k-labels-idx1-ubyte.gz to MNIST_data/MNIST/raw\n",
            "\n"
          ]
        },
        {
          "output_type": "stream",
          "name": "stderr",
          "text": [
            "/usr/local/lib/python3.7/dist-packages/ipykernel_launcher.py:4: UserWarning: Creating a tensor from a list of numpy.ndarrays is extremely slow. Please consider converting the list to a single numpy.ndarray with numpy.array() before converting to a tensor. (Triggered internally at  ../torch/csrc/utils/tensor_new.cpp:201.)\n",
            "  after removing the cwd from sys.path.\n"
          ]
        }
      ]
    },
    {
      "cell_type": "markdown",
      "source": [
        "Dataset length is like below."
      ],
      "metadata": {
        "id": "aL2kA9btGXmf"
      }
    },
    {
      "cell_type": "code",
      "source": [
        "print(len(train_dataset))\n",
        "print(len(val_dataset))\n",
        "print(len(test_dataset))"
      ],
      "metadata": {
        "colab": {
          "base_uri": "https://localhost:8080/"
        },
        "id": "KOdcnDsLzvxy",
        "outputId": "b74fcbfa-1e0d-47d8-9e21-9de685239ce5"
      },
      "execution_count": 6,
      "outputs": [
        {
          "output_type": "stream",
          "name": "stdout",
          "text": [
            "54051\n",
            "5000\n",
            "5000\n"
          ]
        }
      ]
    },
    {
      "cell_type": "code",
      "source": [
        "import cv2"
      ],
      "metadata": {
        "id": "BKjDeMkyiKQC"
      },
      "execution_count": 7,
      "outputs": []
    },
    {
      "cell_type": "code",
      "source": [
        "def rotate(image, angle):\n",
        "    \"\"\"\n",
        "    Rotates an OpenCV 2 / NumPy image about it's centre by the given angle\n",
        "    (in degrees). The returned image will be large enough to hold the entire\n",
        "    new image, with a black background\n",
        "    Source: http://stackoverflow.com/questions/16702966/rotate-image-and-crop-out-black-borders\n",
        "    \"\"\"\n",
        "    # Get the image size\n",
        "    # No that's not an error - NumPy stores image matricies backwards\n",
        "    image = image.cpu().numpy()\n",
        "    angle = angle.cpu().numpy()\n",
        "    image_size = (image.shape[1], image.shape[0])\n",
        "    image_center = tuple(np.array(image_size) / 2)\n",
        "\n",
        "    # Convert the OpenCV 3x2 rotation matrix to 3x3\n",
        "    rot_mat = np.vstack(\n",
        "        [cv2.getRotationMatrix2D(image_center, angle, 1.0), [0, 0, 1]]\n",
        "    )\n",
        "\n",
        "    rot_mat_notranslate = np.matrix(rot_mat[0:2, 0:2])\n",
        "\n",
        "    # Shorthand for below calcs\n",
        "    image_w2 = image_size[0] * 0.5\n",
        "    image_h2 = image_size[1] * 0.5\n",
        "\n",
        "    # Obtain the rotated coordinates of the image corners\n",
        "    rotated_coords = [\n",
        "        (np.array([-image_w2,  image_h2]) * rot_mat_notranslate).A[0],\n",
        "        (np.array([ image_w2,  image_h2]) * rot_mat_notranslate).A[0],\n",
        "        (np.array([-image_w2, -image_h2]) * rot_mat_notranslate).A[0],\n",
        "        (np.array([ image_w2, -image_h2]) * rot_mat_notranslate).A[0]\n",
        "    ]\n",
        "\n",
        "    # Find the size of the new image\n",
        "    x_coords = [pt[0] for pt in rotated_coords]\n",
        "    x_pos = [x for x in x_coords if x > 0]\n",
        "    x_neg = [x for x in x_coords if x < 0]\n",
        "\n",
        "    y_coords = [pt[1] for pt in rotated_coords]\n",
        "    y_pos = [y for y in y_coords if y > 0]\n",
        "    y_neg = [y for y in y_coords if y < 0]\n",
        "\n",
        "    right_bound = max(x_pos)\n",
        "    left_bound = min(x_neg)\n",
        "    top_bound = max(y_pos)\n",
        "    bot_bound = min(y_neg)\n",
        "\n",
        "    new_w = int(abs(right_bound - left_bound))\n",
        "    new_h = int(abs(top_bound - bot_bound))\n",
        "\n",
        "    # We require a translation matrix to keep the image centred\n",
        "    trans_mat = np.matrix([\n",
        "        [1, 0, int(new_w * 0.5 - image_w2)],\n",
        "        [0, 1, int(new_h * 0.5 - image_h2)],\n",
        "        [0, 0, 1]\n",
        "    ])\n",
        "\n",
        "    # Compute the tranform for the combined rotation and translation\n",
        "    affine_mat = (np.matrix(trans_mat) * np.matrix(rot_mat))[0:2, :]\n",
        "\n",
        "    # Apply the transform\n",
        "    result = cv2.warpAffine(image,affine_mat,(new_w, new_h),flags=cv2.INTER_LINEAR)\n",
        "\n",
        "    # resize as original size\n",
        "\n",
        "    result = cv2.resize(result,image_size, interpolation=cv2.INTER_AREA)\n",
        "\n",
        "    return torch.tensor(result)"
      ],
      "metadata": {
        "id": "dQyzvlvGiHoP"
      },
      "execution_count": 8,
      "outputs": []
    },
    {
      "cell_type": "markdown",
      "source": [
        "You will use classifier (FCN) for practice"
      ],
      "metadata": {
        "id": "xKbRZRjAKuNH"
      }
    },
    {
      "cell_type": "markdown",
      "source": [
        "![FCN.png](data:image/png;base64,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)"
      ],
      "metadata": {
        "id": "zUwT4jLw0xM0"
      }
    },
    {
      "cell_type": "code",
      "source": [
        "class ClassificationModel(nn.Module):\n",
        "    def __init__(self):\n",
        "        super(ClassificationModel, self).__init__()\n",
        "        self.feature_extractor = nn.Sequential(\n",
        "            nn.Conv2d(1,64,(4,4),(2,2)),\n",
        "            nn.ReLU(),\n",
        "            nn.Conv2d(64,64,(4,4),(2,2)),\n",
        "            nn.ReLU(),\n",
        "        )\n",
        "        self.regression_model = nn.Sequential(\n",
        "            nn.Linear(1600,128),\n",
        "            nn.ReLU(),\n",
        "            nn.Linear(128,4)\n",
        "        )\n",
        "\n",
        "    def forward(self, x):\n",
        "        out = self.feature_extractor(x)\n",
        "\n",
        "        out = out.reshape(x.size(0),-1)\n",
        "\n",
        "        out = self.regression_model(out)\n",
        "\n",
        "\n",
        "        return out"
      ],
      "metadata": {
        "id": "BxcIF_KSKAuh"
      },
      "execution_count": 9,
      "outputs": []
    },
    {
      "cell_type": "code",
      "source": [
        "model = ClassificationModel().to(device)\n",
        "print(model)"
      ],
      "metadata": {
        "id": "GKbS81WbU-8x",
        "colab": {
          "base_uri": "https://localhost:8080/"
        },
        "outputId": "003af318-1b5a-414b-9dcb-db463f338186"
      },
      "execution_count": 10,
      "outputs": [
        {
          "output_type": "stream",
          "name": "stdout",
          "text": [
            "ClassificationModel(\n",
            "  (feature_extractor): Sequential(\n",
            "    (0): Conv2d(1, 64, kernel_size=(4, 4), stride=(2, 2))\n",
            "    (1): ReLU()\n",
            "    (2): Conv2d(64, 64, kernel_size=(4, 4), stride=(2, 2))\n",
            "    (3): ReLU()\n",
            "  )\n",
            "  (regression_model): Sequential(\n",
            "    (0): Linear(in_features=1600, out_features=128, bias=True)\n",
            "    (1): ReLU()\n",
            "    (2): Linear(in_features=128, out_features=4, bias=True)\n",
            "  )\n",
            ")\n"
          ]
        }
      ]
    },
    {
      "cell_type": "code",
      "source": [
        "loss_fn = nn.CrossEntropyLoss()\n",
        "def anomaly_score(logits, true_angle): #modify here as angle error\n",
        "    pred_angle = torch.argmax(logits, dim=1)\n",
        "    angle_diff = torch.abs(true_angle - pred_angle)\n",
        "\n",
        "    return angle_diff\n",
        "optimizer = torch.optim.Adam(model.parameters(), lr=1e-3)"
      ],
      "metadata": {
        "id": "W8-o7nbnKFQC"
      },
      "execution_count": 11,
      "outputs": []
    },
    {
      "cell_type": "code",
      "source": [
        "def train(dataloader, model, loss_fn, optimizer):\n",
        "    size = len(dataloader.dataset)\n",
        "    losses = []\n",
        "    for batch, y in enumerate(dataloader):\n",
        "        \n",
        "        # rotate image\n",
        "        img = y[0]\n",
        "        for img_idx in range(y[0].shape[0]):\n",
        "            img[img_idx,0,:,:] = rotate(y[0][img_idx,0,:,:],y[2][img_idx]*torch.tensor(90))\n",
        "\n",
        "        pred = model(img.to(device))\n",
        "\n",
        "        loss = loss_fn(pred.to(device), F.one_hot(y[2].to(device),num_classes=4).float())\n",
        "        \n",
        "\n",
        "        for idata in range(pred.shape[0]):\n",
        "\n",
        "            iloss = loss_fn(pred[idata:idata+1,:], F.one_hot(y[2][idata:idata+1].to(device),num_classes=4).float())\n",
        "            losses.append(iloss.item())\n",
        "\n",
        "        optimizer.zero_grad()\n",
        "        loss.backward()\n",
        "        optimizer.step()\n",
        "\n",
        "        if batch % 300 == 0:\n",
        "            loss, current = loss.item(), batch * pred.shape[0]\n",
        "            print(f\"loss: {loss:>7f}  [{current:>5d}/{size:>5d}]\")\n",
        "\n",
        "\n",
        "    return np.mean(losses)"
      ],
      "metadata": {
        "id": "36YK6WGDKGrB"
      },
      "execution_count": 12,
      "outputs": []
    },
    {
      "cell_type": "markdown",
      "source": [
        "Anomaly score is calculated in validation and test. 1 - Maximum Softmax Probability is commonly used as an anomaly score when using classification as a pretext task. Since the model has the label of normal only, the model may predict anomaly data as a normal class with lower probability (Under-confident)."
      ],
      "metadata": {
        "id": "NJN9_7hLYsEI"
      }
    },
    {
      "cell_type": "code",
      "source": [
        "def test(dataloader, model, loss_fn, anomaly_score, draw_mode = False):\n",
        "    model.eval()\n",
        "\n",
        "    y_true, y_pred = [], []\n",
        "\n",
        "    normal_loss = []\n",
        "    normal_scores = []\n",
        "    anomaly_scores  =[]\n",
        "\n",
        "    with torch.no_grad():\n",
        "      \n",
        "        for batch, num, anomaly, degree in dataloader:\n",
        "\n",
        "            batch = batch.to(device)\n",
        "            num = num.to(device)\n",
        "            anomaly = anomaly.to(device)\n",
        "            degree = degree.to(device)\n",
        "\n",
        "            # rotate here\n",
        "\n",
        "            # rotate image\n",
        "            img = batch\n",
        "            for img_idx in range(batch.shape[0]):\n",
        "                img[img_idx,0,:,:] = rotate(batch[img_idx,0,:,:],degree[img_idx]*torch.tensor(90))\n",
        "\n",
        "            output = model(img)\n",
        "\n",
        "            for idata in range(output.shape[0]):\n",
        "\n",
        "                iloss = loss_fn(output[idata:idata+1,:], F.one_hot(degree[idata:idata+1].to(device),num_classes=4).float())\n",
        "                iscore = anomaly_score(output[idata:idata+1,:],degree[idata:idata+1])\n",
        "                if anomaly[idata] == 0:\n",
        "                    normal_loss.append(iloss)\n",
        "                    normal_scores.append(iscore)\n",
        "                elif anomaly[idata] == 1:\n",
        "                    anomaly_scores.append(iscore)\n",
        "\n",
        "\n",
        "            score = anomaly_score(output,degree)\n",
        "\n",
        "            y_true.extend(anomaly.tolist())\n",
        "            y_pred.extend(score.tolist())\n",
        "\n",
        "    roc_auc = metrics.roc_auc_score(y_true, y_pred)\n",
        "\n",
        "    if draw_mode:\n",
        "        fpr, tpr, _ = metrics.roc_curve(y_true,y_pred)\n",
        "        plt.figure(figsize=(10,10))\n",
        "        plt.plot(fpr,tpr)\n",
        "        plt.title('ROC curve')\n",
        "        plt.xlabel('FPR')\n",
        "        plt.ylabel('TPR')\n",
        "\n",
        "\n",
        "    print(f'AUC: {roc_auc:>0.3f}')\n",
        "    normal_loss = [i.item() for i in normal_loss]\n",
        "    normal_scores = [i.item() for i in normal_scores]\n",
        "    anomaly_scores = [i.item() for i in anomaly_scores]\n",
        "\n",
        "    normal_loss_mean = np.mean(normal_loss)\n",
        "    normal_score_mean = np.mean(normal_scores)\n",
        "    anomaly_score_mean = np.mean(anomaly_scores)\n",
        "\n",
        "    print(f'normal loss : {normal_loss_mean}')\n",
        "\n",
        "    return roc_auc.item(), normal_loss_mean, normal_score_mean, anomaly_score_mean, normal_scores, anomaly_scores"
      ],
      "metadata": {
        "id": "GB6qgJ_5KJKI"
      },
      "execution_count": 13,
      "outputs": []
    },
    {
      "cell_type": "markdown",
      "source": [
        "See how CCE loss and AUC changes during training.\n",
        "Loss is calculated during train and AUC is calculated during validation."
      ],
      "metadata": {
        "id": "WQz51CldI7Qj"
      }
    },
    {
      "cell_type": "code",
      "source": [
        "train_losses = []\n",
        "val_normal_losses= []\n",
        "val_normal_scores = []\n",
        "val_anomaly_scores = []\n",
        "roc_auc = []\n",
        "\n",
        "best_auc = 0.0\n",
        "best_model = model.to(device)\n",
        "\n",
        "for t in range(EPOCHS):\n",
        "    print(f\"Epoch {t + 1}\\n-------------------------------\")\n",
        "    train_loss = train(train_dataloader, model, loss_fn, optimizer)\n",
        "    auc,val_normal_loss, val_normal_score, val_anomaly_score, _, _ = test(val_dataloader, model, loss_fn, anomaly_score)\n",
        "\n",
        "    train_losses.append(train_loss)\n",
        "    val_normal_losses.append(val_normal_loss)\n",
        "    val_normal_scores.append(val_normal_score)\n",
        "    val_anomaly_scores.append(val_anomaly_score)\n",
        "\n",
        "    roc_auc.append(auc)\n",
        "\n",
        "    if auc > best_auc:\n",
        "        best_model, best_auc = model, auc"
      ],
      "metadata": {
        "id": "VMrDeedfKKwy",
        "colab": {
          "base_uri": "https://localhost:8080/"
        },
        "outputId": "12bf14bf-68da-4ed1-f71f-15f551035239"
      },
      "execution_count": 14,
      "outputs": [
        {
          "output_type": "stream",
          "name": "stdout",
          "text": [
            "Epoch 1\n",
            "-------------------------------\n",
            "loss: 1.380162  [    0/54051]\n",
            "loss: 0.647478  [ 9600/54051]\n",
            "loss: 0.362715  [19200/54051]\n",
            "loss: 0.463576  [28800/54051]\n",
            "loss: 0.338621  [38400/54051]\n",
            "loss: 0.217854  [48000/54051]\n",
            "AUC: 0.687\n",
            "normal loss : 0.43208747515395657\n",
            "Epoch 2\n",
            "-------------------------------\n",
            "loss: 0.244807  [    0/54051]\n",
            "loss: 0.405515  [ 9600/54051]\n",
            "loss: 0.344602  [19200/54051]\n",
            "loss: 0.267671  [28800/54051]\n",
            "loss: 0.258987  [38400/54051]\n",
            "loss: 0.158269  [48000/54051]\n",
            "AUC: 0.755\n",
            "normal loss : 0.37093923283404723\n",
            "Epoch 3\n",
            "-------------------------------\n",
            "loss: 0.202298  [    0/54051]\n",
            "loss: 0.184132  [ 9600/54051]\n",
            "loss: 0.307728  [19200/54051]\n",
            "loss: 0.217683  [28800/54051]\n",
            "loss: 0.224066  [38400/54051]\n",
            "loss: 0.145200  [48000/54051]\n",
            "AUC: 0.789\n",
            "normal loss : 0.34790887598473486\n",
            "Epoch 4\n",
            "-------------------------------\n",
            "loss: 0.164795  [    0/54051]\n",
            "loss: 0.160564  [ 9600/54051]\n",
            "loss: 0.207014  [19200/54051]\n",
            "loss: 0.180053  [28800/54051]\n",
            "loss: 0.212651  [38400/54051]\n",
            "loss: 0.131906  [48000/54051]\n",
            "AUC: 0.794\n",
            "normal loss : 0.35785733103626516\n",
            "Epoch 5\n",
            "-------------------------------\n",
            "loss: 0.197211  [    0/54051]\n",
            "loss: 0.137862  [ 9600/54051]\n",
            "loss: 0.167268  [19200/54051]\n",
            "loss: 0.137753  [28800/54051]\n",
            "loss: 0.210997  [38400/54051]\n",
            "loss: 0.138540  [48000/54051]\n",
            "AUC: 0.805\n",
            "normal loss : 0.3810090464078749\n",
            "Epoch 6\n",
            "-------------------------------\n",
            "loss: 0.167061  [    0/54051]\n",
            "loss: 0.157946  [ 9600/54051]\n",
            "loss: 0.167222  [19200/54051]\n",
            "loss: 0.102928  [28800/54051]\n",
            "loss: 0.194603  [38400/54051]\n",
            "loss: 0.094155  [48000/54051]\n",
            "AUC: 0.805\n",
            "normal loss : 0.4067006351834501\n",
            "Epoch 7\n",
            "-------------------------------\n",
            "loss: 0.137831  [    0/54051]\n",
            "loss: 0.141972  [ 9600/54051]\n",
            "loss: 0.133561  [19200/54051]\n",
            "loss: 0.096598  [28800/54051]\n",
            "loss: 0.256394  [38400/54051]\n",
            "loss: 0.096507  [48000/54051]\n",
            "AUC: 0.808\n",
            "normal loss : 0.41328059711667137\n",
            "Epoch 8\n",
            "-------------------------------\n",
            "loss: 0.156536  [    0/54051]\n",
            "loss: 0.120458  [ 9600/54051]\n",
            "loss: 0.124424  [19200/54051]\n",
            "loss: 0.075640  [28800/54051]\n",
            "loss: 0.076627  [38400/54051]\n",
            "loss: 0.150174  [48000/54051]\n",
            "AUC: 0.806\n",
            "normal loss : 0.4437425991417153\n",
            "Epoch 9\n",
            "-------------------------------\n",
            "loss: 0.136310  [    0/54051]\n",
            "loss: 0.090605  [ 9600/54051]\n",
            "loss: 0.159174  [19200/54051]\n",
            "loss: 0.053815  [28800/54051]\n",
            "loss: 0.243318  [38400/54051]\n",
            "loss: 0.068429  [48000/54051]\n",
            "AUC: 0.768\n",
            "normal loss : 0.5073247342183882\n",
            "Epoch 10\n",
            "-------------------------------\n",
            "loss: 0.148313  [    0/54051]\n",
            "loss: 0.116182  [ 9600/54051]\n",
            "loss: 0.132844  [19200/54051]\n",
            "loss: 0.058879  [28800/54051]\n",
            "loss: 0.093329  [38400/54051]\n",
            "loss: 0.128444  [48000/54051]\n",
            "AUC: 0.793\n",
            "normal loss : 0.4981398062381952\n",
            "Epoch 11\n",
            "-------------------------------\n",
            "loss: 0.144123  [    0/54051]\n",
            "loss: 0.095378  [ 9600/54051]\n",
            "loss: 0.124088  [19200/54051]\n",
            "loss: 0.061404  [28800/54051]\n",
            "loss: 0.166227  [38400/54051]\n",
            "loss: 0.083195  [48000/54051]\n",
            "AUC: 0.788\n",
            "normal loss : 0.5417154196946132\n",
            "Epoch 12\n",
            "-------------------------------\n",
            "loss: 0.144146  [    0/54051]\n",
            "loss: 0.084357  [ 9600/54051]\n",
            "loss: 0.128211  [19200/54051]\n",
            "loss: 0.053839  [28800/54051]\n",
            "loss: 0.058581  [38400/54051]\n",
            "loss: 0.101900  [48000/54051]\n",
            "AUC: 0.812\n",
            "normal loss : 0.5248027563691913\n",
            "Epoch 13\n",
            "-------------------------------\n",
            "loss: 0.128263  [    0/54051]\n",
            "loss: 0.111316  [ 9600/54051]\n",
            "loss: 0.219895  [19200/54051]\n",
            "loss: 0.091772  [28800/54051]\n",
            "loss: 0.053562  [38400/54051]\n",
            "loss: 0.090168  [48000/54051]\n",
            "AUC: 0.777\n",
            "normal loss : 0.6091268033860162\n",
            "Epoch 14\n",
            "-------------------------------\n",
            "loss: 0.156099  [    0/54051]\n",
            "loss: 0.093972  [ 9600/54051]\n",
            "loss: 0.124604  [19200/54051]\n",
            "loss: 0.019638  [28800/54051]\n",
            "loss: 0.043847  [38400/54051]\n",
            "loss: 0.094791  [48000/54051]\n",
            "AUC: 0.778\n",
            "normal loss : 0.6175110154940551\n",
            "Epoch 15\n",
            "-------------------------------\n",
            "loss: 0.132896  [    0/54051]\n",
            "loss: 0.084009  [ 9600/54051]\n",
            "loss: 0.117289  [19200/54051]\n",
            "loss: 0.028986  [28800/54051]\n",
            "loss: 0.067991  [38400/54051]\n",
            "loss: 0.074729  [48000/54051]\n",
            "AUC: 0.816\n",
            "normal loss : 0.6303005961841143\n",
            "Epoch 16\n",
            "-------------------------------\n",
            "loss: 0.149472  [    0/54051]\n",
            "loss: 0.064383  [ 9600/54051]\n",
            "loss: 0.130246  [19200/54051]\n",
            "loss: 0.027463  [28800/54051]\n",
            "loss: 0.090438  [38400/54051]\n",
            "loss: 0.065148  [48000/54051]\n",
            "AUC: 0.799\n",
            "normal loss : 0.6723542100070012\n",
            "Epoch 17\n",
            "-------------------------------\n",
            "loss: 0.119839  [    0/54051]\n",
            "loss: 0.096979  [ 9600/54051]\n",
            "loss: 0.134261  [19200/54051]\n",
            "loss: 0.024201  [28800/54051]\n",
            "loss: 0.051420  [38400/54051]\n",
            "loss: 0.018417  [48000/54051]\n",
            "AUC: 0.796\n",
            "normal loss : 0.7261373476042128\n",
            "Epoch 18\n",
            "-------------------------------\n",
            "loss: 0.179284  [    0/54051]\n",
            "loss: 0.078634  [ 9600/54051]\n",
            "loss: 0.109190  [19200/54051]\n",
            "loss: 0.017596  [28800/54051]\n",
            "loss: 0.038595  [38400/54051]\n",
            "loss: 0.012929  [48000/54051]\n",
            "AUC: 0.807\n",
            "normal loss : 0.6751902731063558\n",
            "Epoch 19\n",
            "-------------------------------\n",
            "loss: 0.159637  [    0/54051]\n",
            "loss: 0.083530  [ 9600/54051]\n",
            "loss: 0.087496  [19200/54051]\n",
            "loss: 0.036339  [28800/54051]\n",
            "loss: 0.047314  [38400/54051]\n",
            "loss: 0.011224  [48000/54051]\n",
            "AUC: 0.788\n",
            "normal loss : 0.7404032845755805\n",
            "Epoch 20\n",
            "-------------------------------\n",
            "loss: 0.109842  [    0/54051]\n",
            "loss: 0.090121  [ 9600/54051]\n",
            "loss: 0.080631  [19200/54051]\n",
            "loss: 0.023474  [28800/54051]\n",
            "loss: 0.059601  [38400/54051]\n",
            "loss: 0.065803  [48000/54051]\n",
            "AUC: 0.747\n",
            "normal loss : 0.8213022870813771\n"
          ]
        }
      ]
    },
    {
      "cell_type": "code",
      "source": [
        "plt.clf()\n",
        "plt.figure(figsize=(30,10))\n",
        "plt.subplot(1,3,1)\n",
        "plt.plot(list(range(1,len(roc_auc)+1)),roc_auc)\n",
        "plt.xlabel('epoch')\n",
        "plt.ylabel('AUC')\n",
        "plt.title('AUC vs epoch')\n",
        "plt.ylim([0, 1])\n",
        "\n",
        "plt.subplot(1,3,2)\n",
        "plt.plot(list(range(1,len(train_losses)+1)),train_losses)\n",
        "plt.plot(list(range(1,len(val_normal_losses)+1)),val_normal_losses)\n",
        "plt.xlabel('epoch')\n",
        "plt.ylabel('loss')\n",
        "plt.title('loss vs epoch')\n",
        "plt.legend(['train loss', 'validation normal loss'])\n",
        "\n",
        "plt.subplot(1,3,3)\n",
        "plt.plot(list(range(1,len(val_normal_scores)+1)),val_normal_scores)\n",
        "plt.plot(list(range(1,len(val_anomaly_scores)+1)),val_anomaly_scores)\n",
        "plt.xlabel('epoch')\n",
        "plt.ylabel('anomaly score')\n",
        "plt.title('anomaly score vs epoch')\n",
        "plt.legend(['validation normal anomaly score','validation anomaly anomaly score'])"
      ],
      "metadata": {
        "id": "0CDUDqRRcBnF",
        "colab": {
          "base_uri": "https://localhost:8080/",
          "height": 586
        },
        "outputId": "6434b2ba-b35d-4b3a-ea18-f9a8289b5029"
      },
      "execution_count": 15,
      "outputs": [
        {
          "output_type": "execute_result",
          "data": {
            "text/plain": [
              "<matplotlib.legend.Legend at 0x7f692009c350>"
            ]
          },
          "metadata": {},
          "execution_count": 15
        },
        {
          "output_type": "display_data",
          "data": {
            "text/plain": [
              "<Figure size 432x288 with 0 Axes>"
            ]
          },
          "metadata": {}
        },
        {
          "output_type": "display_data",
          "data": {
            "image/png": "[encoded data removed]",
            "text/plain": [
              "<Figure size 2160x720 with 3 Axes>"
            ]
          },
          "metadata": {
            "needs_background": "light"
          }
        }
      ]
    },
    {
      "cell_type": "markdown",
      "source": [
        "Let's see performance on the test data."
      ],
      "metadata": {
        "id": "5ft964J0EQQ7"
      }
    },
    {
      "cell_type": "code",
      "source": [
        "test_auc,test_normal_loss, test_normal_score, test_anomaly_score, test_normal_scores, test_anomaly_scores = test(test_dataloader, best_model, loss_fn, anomaly_score, draw_mode=True)"
      ],
      "metadata": {
        "id": "M1uHDtWmEQkd",
        "colab": {
          "base_uri": "https://localhost:8080/",
          "height": 685
        },
        "outputId": "7ab324af-4bdb-4611-ef17-7631a36c6595"
      },
      "execution_count": 16,
      "outputs": [
        {
          "output_type": "stream",
          "name": "stdout",
          "text": [
            "AUC: 0.824\n",
            "normal loss : 0.39268271825385387\n"
          ]
        },
        {
          "output_type": "display_data",
          "data": {
            "image/png": "[encoded data removed]",
            "text/plain": [
              "<Figure size 720x720 with 1 Axes>"
            ]
          },
          "metadata": {
            "needs_background": "light"
          }
        }
      ]
    },
    {
      "cell_type": "markdown",
      "source": [
        "The let's see anomaly score of normal / anomaly data."
      ],
      "metadata": {
        "id": "dxYJQhrTLvic"
      }
    },
    {
      "cell_type": "code",
      "source": [
        "plt.hist(test_normal_scores, alpha = 0.8)\n",
        "plt.hist(test_anomaly_scores, alpha = 0.8)\n",
        "plt.title('Anomaly score')\n",
        "plt.xlabel('Anomaly score')\n",
        "plt.ylabel('# of data')\n",
        "plt.legend(['normal','anomaly'])\n",
        "plt.figure(figsize=(10,10))"
      ],
      "metadata": {
        "id": "VLnuYr6ILv4X",
        "outputId": "13d8d157-2f4c-429e-b410-3236dcb4c4cf",
        "colab": {
          "base_uri": "https://localhost:8080/",
          "height": 359
        }
      },
      "execution_count": 17,
      "outputs": [
        {
          "output_type": "execute_result",
          "data": {
            "text/plain": [
              "<Figure size 720x720 with 0 Axes>"
            ]
          },
          "metadata": {},
          "execution_count": 17
        },
        {
          "output_type": "display_data",
          "data": {
            "image/png": "[encoded data removed]",
            "text/plain": [
              "<Figure size 432x288 with 1 Axes>"
            ]
          },
          "metadata": {
            "needs_background": "light"
          }
        },
        {
          "output_type": "display_data",
          "data": {
            "text/plain": [
              "<Figure size 720x720 with 0 Axes>"
            ]
          },
          "metadata": {}
        }
      ]
    },
    {
      "cell_type": "markdown",
      "source": [
        "Below code plots figure of the original input image and predicted probabilities."
      ],
      "metadata": {
        "id": "79YoRJlQLN12"
      }
    },
    {
      "cell_type": "code",
      "source": [
        "n = 20\n",
        "plt.figure(figsize=(40, 80))\n",
        "\n",
        "for i in range(n):\n",
        "    input_image = test_dataset[i][0].to(device)\n",
        "    #input_image = rotate(test_dataset[i][0].to(device),test_dataset[i][3])\n",
        "    #pred_prob = torch.softmax(best_model(input_image.unsqueeze(0)),dim=1).cpu().detach().squeeze().numpy()\n",
        "\n",
        "    ax = plt.subplot(n, 2, 2*i+1)\n",
        "    print(test_dataset[i][3])\n",
        "    rot_image = rotate(input_image[0].cpu(),test_dataset[i][3].cpu())\n",
        "    plt.imshow(rot_image)\n",
        "    plt.title('original')\n",
        "    plt.gray()\n",
        "    ax.get_xaxis().set_visible(False)\n",
        "    ax.get_yaxis().set_visible(False)\n",
        "\n",
        "    plt.tight_layout()\n",
        "\n",
        "plt.show()"
      ],
      "metadata": {
        "colab": {
          "base_uri": "https://localhost:8080/",
          "height": 1000
        },
        "id": "AlxpYoFEDpmr",
        "outputId": "5332ad58-befd-4f44-b135-fc51f3597c15"
      },
      "execution_count": 22,
      "outputs": [
        {
          "output_type": "stream",
          "name": "stdout",
          "text": [
            "tensor(0)\n",
            "tensor(2)\n",
            "tensor(3)\n",
            "tensor(0)\n",
            "tensor(3)\n",
            "tensor(0)\n",
            "tensor(0)\n",
            "tensor(1)\n",
            "tensor(2)\n",
            "tensor(3)\n",
            "tensor(2)\n",
            "tensor(3)\n",
            "tensor(2)\n",
            "tensor(2)\n",
            "tensor(3)\n",
            "tensor(3)\n",
            "tensor(2)\n",
            "tensor(0)\n",
            "tensor(1)\n",
            "tensor(2)\n"
          ]
        },
        {
          "output_type": "display_data",
          "data": {
            "image/png": "[encoded data removed]",
            "text/plain": [
              "<Figure size 2880x5760 with 20 Axes>"
            ]
          },
          "metadata": {
            "needs_background": "light"
          }
        }
      ]
    },
    {
      "cell_type": "markdown",
      "source": [
        "As you see, normal data (0 to 8) is predicted with a high probability compared to anomaly data (9). \n",
        "\n",
        "This means normal data have higher MSP, which is anomaly score, and anomaly data have lower MSP.\n",
        "\n",
        "Using this difference of anomaly score, anomaly detection can be done."
      ],
      "metadata": {
        "id": "KktMAEMzLenQ"
      }
    }
  ]
}