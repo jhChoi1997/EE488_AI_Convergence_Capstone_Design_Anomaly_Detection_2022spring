{
  "nbformat": 4,
  "nbformat_minor": 0,
  "metadata": {
    "colab": {
      "name": "Introduction_to_Anomaly_Detection_Classification.ipynb",
      "provenance": [],
      "machine_shape": "hm",
      "collapsed_sections": [],
      "include_colab_link": true
    },
    "kernelspec": {
      "name": "python3",
      "display_name": "Python 3"
    },
    "language_info": {
      "name": "python"
    },
    "accelerator": "GPU",
    "widgets": {
      "application/vnd.jupyter.widget-state+json": {
        "f69d989d64bc4d57934e0fb31fd2ba6f": {
          "model_module": "@jupyter-widgets/controls",
          "model_name": "HBoxModel",
          "model_module_version": "1.5.0",
          "state": {
            "_view_name": "HBoxView",
            "_dom_classes": [],
            "_model_name": "HBoxModel",
            "_view_module": "@jupyter-widgets/controls",
            "_model_module_version": "1.5.0",
            "_view_count": null,
            "_view_module_version": "1.5.0",
            "box_style": "",
            "layout": "IPY_MODEL_8017aa25d9004f4187f9b1146d9f141b",
            "_model_module": "@jupyter-widgets/controls",
            "children": [
              "IPY_MODEL_aaacce5798ec4ff1aaf6937cecbeac7a",
              "IPY_MODEL_58f14f2a5b904e2fa660fb1452df8f71",
              "IPY_MODEL_aafedf3e739043ae806b6967612df9c1"
            ]
          }
        },
        "8017aa25d9004f4187f9b1146d9f141b": {
          "model_module": "@jupyter-widgets/base",
          "model_name": "LayoutModel",
          "model_module_version": "1.2.0",
          "state": {
            "_view_name": "LayoutView",
            "grid_template_rows": null,
            "right": null,
            "justify_content": null,
            "_view_module": "@jupyter-widgets/base",
            "overflow": null,
            "_model_module_version": "1.2.0",
            "_view_count": null,
            "flex_flow": null,
            "width": null,
            "min_width": null,
            "border": null,
            "align_items": null,
            "bottom": null,
            "_model_module": "@jupyter-widgets/base",
            "top": null,
            "grid_column": null,
            "overflow_y": null,
            "overflow_x": null,
            "grid_auto_flow": null,
            "grid_area": null,
            "grid_template_columns": null,
            "flex": null,
            "_model_name": "LayoutModel",
            "justify_items": null,
            "grid_row": null,
            "max_height": null,
            "align_content": null,
            "visibility": null,
            "align_self": null,
            "height": null,
            "min_height": null,
            "padding": null,
            "grid_auto_rows": null,
            "grid_gap": null,
            "max_width": null,
            "order": null,
            "_view_module_version": "1.2.0",
            "grid_template_areas": null,
            "object_position": null,
            "object_fit": null,
            "grid_auto_columns": null,
            "margin": null,
            "display": null,
            "left": null
          }
        },
        "aaacce5798ec4ff1aaf6937cecbeac7a": {
          "model_module": "@jupyter-widgets/controls",
          "model_name": "HTMLModel",
          "model_module_version": "1.5.0",
          "state": {
            "_view_name": "HTMLView",
            "style": "IPY_MODEL_ed86407f336743748830c13816b953aa",
            "_dom_classes": [],
            "description": "",
            "_model_name": "HTMLModel",
            "placeholder": "​",
            "_view_module": "@jupyter-widgets/controls",
            "_model_module_version": "1.5.0",
            "value": "",
            "_view_count": null,
            "_view_module_version": "1.5.0",
            "description_tooltip": null,
            "_model_module": "@jupyter-widgets/controls",
            "layout": "IPY_MODEL_b0fddbc152ce4f0aa95c3d0646af92e3"
          }
        },
        "58f14f2a5b904e2fa660fb1452df8f71": {
          "model_module": "@jupyter-widgets/controls",
          "model_name": "FloatProgressModel",
          "model_module_version": "1.5.0",
          "state": {
            "_view_name": "ProgressView",
            "style": "IPY_MODEL_0826198ee84945fdac2a12cffd948d49",
            "_dom_classes": [],
            "description": "",
            "_model_name": "FloatProgressModel",
            "bar_style": "success",
            "max": 9912422,
            "_view_module": "@jupyter-widgets/controls",
            "_model_module_version": "1.5.0",
            "value": 9912422,
            "_view_count": null,
            "_view_module_version": "1.5.0",
            "orientation": "horizontal",
            "min": 0,
            "description_tooltip": null,
            "_model_module": "@jupyter-widgets/controls",
            "layout": "IPY_MODEL_b7357fe22f684b8fa516959e7c35eb90"
          }
        },
        "aafedf3e739043ae806b6967612df9c1": {
          "model_module": "@jupyter-widgets/controls",
          "model_name": "HTMLModel",
          "model_module_version": "1.5.0",
          "state": {
            "_view_name": "HTMLView",
            "style": "IPY_MODEL_6bd8653f034e4173b002995a2a50fa48",
            "_dom_classes": [],
            "description": "",
            "_model_name": "HTMLModel",
            "placeholder": "​",
            "_view_module": "@jupyter-widgets/controls",
            "_model_module_version": "1.5.0",
            "value": " 9913344/? [00:00&lt;00:00, 22958635.22it/s]",
            "_view_count": null,
            "_view_module_version": "1.5.0",
            "description_tooltip": null,
            "_model_module": "@jupyter-widgets/controls",
            "layout": "IPY_MODEL_f779d52178c0464ba1345c9d47d1444e"
          }
        },
        "ed86407f336743748830c13816b953aa": {
          "model_module": "@jupyter-widgets/controls",
          "model_name": "DescriptionStyleModel",
          "model_module_version": "1.5.0",
          "state": {
            "_view_name": "StyleView",
            "_model_name": "DescriptionStyleModel",
            "description_width": "",
            "_view_module": "@jupyter-widgets/base",
            "_model_module_version": "1.5.0",
            "_view_count": null,
            "_view_module_version": "1.2.0",
            "_model_module": "@jupyter-widgets/controls"
          }
        },
        "b0fddbc152ce4f0aa95c3d0646af92e3": {
          "model_module": "@jupyter-widgets/base",
          "model_name": "LayoutModel",
          "model_module_version": "1.2.0",
          "state": {
            "_view_name": "LayoutView",
            "grid_template_rows": null,
            "right": null,
            "justify_content": null,
            "_view_module": "@jupyter-widgets/base",
            "overflow": null,
            "_model_module_version": "1.2.0",
            "_view_count": null,
            "flex_flow": null,
            "width": null,
            "min_width": null,
            "border": null,
            "align_items": null,
            "bottom": null,
            "_model_module": "@jupyter-widgets/base",
            "top": null,
            "grid_column": null,
            "overflow_y": null,
            "overflow_x": null,
            "grid_auto_flow": null,
            "grid_area": null,
            "grid_template_columns": null,
            "flex": null,
            "_model_name": "LayoutModel",
            "justify_items": null,
            "grid_row": null,
            "max_height": null,
            "align_content": null,
            "visibility": null,
            "align_self": null,
            "height": null,
            "min_height": null,
            "padding": null,
            "grid_auto_rows": null,
            "grid_gap": null,
            "max_width": null,
            "order": null,
            "_view_module_version": "1.2.0",
            "grid_template_areas": null,
            "object_position": null,
            "object_fit": null,
            "grid_auto_columns": null,
            "margin": null,
            "display": null,
            "left": null
          }
        },
        "0826198ee84945fdac2a12cffd948d49": {
          "model_module": "@jupyter-widgets/controls",
          "model_name": "ProgressStyleModel",
          "model_module_version": "1.5.0",
          "state": {
            "_view_name": "StyleView",
            "_model_name": "ProgressStyleModel",
            "description_width": "",
            "_view_module": "@jupyter-widgets/base",
            "_model_module_version": "1.5.0",
            "_view_count": null,
            "_view_module_version": "1.2.0",
            "bar_color": null,
            "_model_module": "@jupyter-widgets/controls"
          }
        },
        "b7357fe22f684b8fa516959e7c35eb90": {
          "model_module": "@jupyter-widgets/base",
          "model_name": "LayoutModel",
          "model_module_version": "1.2.0",
          "state": {
            "_view_name": "LayoutView",
            "grid_template_rows": null,
            "right": null,
            "justify_content": null,
            "_view_module": "@jupyter-widgets/base",
            "overflow": null,
            "_model_module_version": "1.2.0",
            "_view_count": null,
            "flex_flow": null,
            "width": null,
            "min_width": null,
            "border": null,
            "align_items": null,
            "bottom": null,
            "_model_module": "@jupyter-widgets/base",
            "top": null,
            "grid_column": null,
            "overflow_y": null,
            "overflow_x": null,
            "grid_auto_flow": null,
            "grid_area": null,
            "grid_template_columns": null,
            "flex": null,
            "_model_name": "LayoutModel",
            "justify_items": null,
            "grid_row": null,
            "max_height": null,
            "align_content": null,
            "visibility": null,
            "align_self": null,
            "height": null,
            "min_height": null,
            "padding": null,
            "grid_auto_rows": null,
            "grid_gap": null,
            "max_width": null,
            "order": null,
            "_view_module_version": "1.2.0",
            "grid_template_areas": null,
            "object_position": null,
            "object_fit": null,
            "grid_auto_columns": null,
            "margin": null,
            "display": null,
            "left": null
          }
        },
        "6bd8653f034e4173b002995a2a50fa48": {
          "model_module": "@jupyter-widgets/controls",
          "model_name": "DescriptionStyleModel",
          "model_module_version": "1.5.0",
          "state": {
            "_view_name": "StyleView",
            "_model_name": "DescriptionStyleModel",
            "description_width": "",
            "_view_module": "@jupyter-widgets/base",
            "_model_module_version": "1.5.0",
            "_view_count": null,
            "_view_module_version": "1.2.0",
            "_model_module": "@jupyter-widgets/controls"
          }
        },
        "f779d52178c0464ba1345c9d47d1444e": {
          "model_module": "@jupyter-widgets/base",
          "model_name": "LayoutModel",
          "model_module_version": "1.2.0",
          "state": {
            "_view_name": "LayoutView",
            "grid_template_rows": null,
            "right": null,
            "justify_content": null,
            "_view_module": "@jupyter-widgets/base",
            "overflow": null,
            "_model_module_version": "1.2.0",
            "_view_count": null,
            "flex_flow": null,
            "width": null,
            "min_width": null,
            "border": null,
            "align_items": null,
            "bottom": null,
            "_model_module": "@jupyter-widgets/base",
            "top": null,
            "grid_column": null,
            "overflow_y": null,
            "overflow_x": null,
            "grid_auto_flow": null,
            "grid_area": null,
            "grid_template_columns": null,
            "flex": null,
            "_model_name": "LayoutModel",
            "justify_items": null,
            "grid_row": null,
            "max_height": null,
            "align_content": null,
            "visibility": null,
            "align_self": null,
            "height": null,
            "min_height": null,
            "padding": null,
            "grid_auto_rows": null,
            "grid_gap": null,
            "max_width": null,
            "order": null,
            "_view_module_version": "1.2.0",
            "grid_template_areas": null,
            "object_position": null,
            "object_fit": null,
            "grid_auto_columns": null,
            "margin": null,
            "display": null,
            "left": null
          }
        },
        "f5e0c88469244e1aad01840bcb6ccd40": {
          "model_module": "@jupyter-widgets/controls",
          "model_name": "HBoxModel",
          "model_module_version": "1.5.0",
          "state": {
            "_view_name": "HBoxView",
            "_dom_classes": [],
            "_model_name": "HBoxModel",
            "_view_module": "@jupyter-widgets/controls",
            "_model_module_version": "1.5.0",
            "_view_count": null,
            "_view_module_version": "1.5.0",
            "box_style": "",
            "layout": "IPY_MODEL_0846b6eb573e45a0b31b1fa8063f5771",
            "_model_module": "@jupyter-widgets/controls",
            "children": [
              "IPY_MODEL_bafe042a19564123b25ad0620a41c35c",
              "IPY_MODEL_6467605cc81f424d83e250992e2f1152",
              "IPY_MODEL_4e94e97cd7724e6ea914a8ec384eb440"
            ]
          }
        },
        "0846b6eb573e45a0b31b1fa8063f5771": {
          "model_module": "@jupyter-widgets/base",
          "model_name": "LayoutModel",
          "model_module_version": "1.2.0",
          "state": {
            "_view_name": "LayoutView",
            "grid_template_rows": null,
            "right": null,
            "justify_content": null,
            "_view_module": "@jupyter-widgets/base",
            "overflow": null,
            "_model_module_version": "1.2.0",
            "_view_count": null,
            "flex_flow": null,
            "width": null,
            "min_width": null,
            "border": null,
            "align_items": null,
            "bottom": null,
            "_model_module": "@jupyter-widgets/base",
            "top": null,
            "grid_column": null,
            "overflow_y": null,
            "overflow_x": null,
            "grid_auto_flow": null,
            "grid_area": null,
            "grid_template_columns": null,
            "flex": null,
            "_model_name": "LayoutModel",
            "justify_items": null,
            "grid_row": null,
            "max_height": null,
            "align_content": null,
            "visibility": null,
            "align_self": null,
            "height": null,
            "min_height": null,
            "padding": null,
            "grid_auto_rows": null,
            "grid_gap": null,
            "max_width": null,
            "order": null,
            "_view_module_version": "1.2.0",
            "grid_template_areas": null,
            "object_position": null,
            "object_fit": null,
            "grid_auto_columns": null,
            "margin": null,
            "display": null,
            "left": null
          }
        },
        "bafe042a19564123b25ad0620a41c35c": {
          "model_module": "@jupyter-widgets/controls",
          "model_name": "HTMLModel",
          "model_module_version": "1.5.0",
          "state": {
            "_view_name": "HTMLView",
            "style": "IPY_MODEL_478306d94407467db8370226e9948581",
            "_dom_classes": [],
            "description": "",
            "_model_name": "HTMLModel",
            "placeholder": "​",
            "_view_module": "@jupyter-widgets/controls",
            "_model_module_version": "1.5.0",
            "value": "",
            "_view_count": null,
            "_view_module_version": "1.5.0",
            "description_tooltip": null,
            "_model_module": "@jupyter-widgets/controls",
            "layout": "IPY_MODEL_69ca3a46f43841dbb5aa98baf00bae84"
          }
        },
        "6467605cc81f424d83e250992e2f1152": {
          "model_module": "@jupyter-widgets/controls",
          "model_name": "FloatProgressModel",
          "model_module_version": "1.5.0",
          "state": {
            "_view_name": "ProgressView",
            "style": "IPY_MODEL_d65fe7b6383d4c4a9db5a3ad9422f467",
            "_dom_classes": [],
            "description": "",
            "_model_name": "FloatProgressModel",
            "bar_style": "success",
            "max": 28881,
            "_view_module": "@jupyter-widgets/controls",
            "_model_module_version": "1.5.0",
            "value": 28881,
            "_view_count": null,
            "_view_module_version": "1.5.0",
            "orientation": "horizontal",
            "min": 0,
            "description_tooltip": null,
            "_model_module": "@jupyter-widgets/controls",
            "layout": "IPY_MODEL_f0a61e04bb4c4140a2a3361e17449011"
          }
        },
        "4e94e97cd7724e6ea914a8ec384eb440": {
          "model_module": "@jupyter-widgets/controls",
          "model_name": "HTMLModel",
          "model_module_version": "1.5.0",
          "state": {
            "_view_name": "HTMLView",
            "style": "IPY_MODEL_eead390774554eacbcc624e2cc46cdd5",
            "_dom_classes": [],
            "description": "",
            "_model_name": "HTMLModel",
            "placeholder": "​",
            "_view_module": "@jupyter-widgets/controls",
            "_model_module_version": "1.5.0",
            "value": " 29696/? [00:00&lt;00:00, 647451.09it/s]",
            "_view_count": null,
            "_view_module_version": "1.5.0",
            "description_tooltip": null,
            "_model_module": "@jupyter-widgets/controls",
            "layout": "IPY_MODEL_69af3181684a4d8fa633b9fc9c9a49b8"
          }
        },
        "478306d94407467db8370226e9948581": {
          "model_module": "@jupyter-widgets/controls",
          "model_name": "DescriptionStyleModel",
          "model_module_version": "1.5.0",
          "state": {
            "_view_name": "StyleView",
            "_model_name": "DescriptionStyleModel",
            "description_width": "",
            "_view_module": "@jupyter-widgets/base",
            "_model_module_version": "1.5.0",
            "_view_count": null,
            "_view_module_version": "1.2.0",
            "_model_module": "@jupyter-widgets/controls"
          }
        },
        "69ca3a46f43841dbb5aa98baf00bae84": {
          "model_module": "@jupyter-widgets/base",
          "model_name": "LayoutModel",
          "model_module_version": "1.2.0",
          "state": {
            "_view_name": "LayoutView",
            "grid_template_rows": null,
            "right": null,
            "justify_content": null,
            "_view_module": "@jupyter-widgets/base",
            "overflow": null,
            "_model_module_version": "1.2.0",
            "_view_count": null,
            "flex_flow": null,
            "width": null,
            "min_width": null,
            "border": null,
            "align_items": null,
            "bottom": null,
            "_model_module": "@jupyter-widgets/base",
            "top": null,
            "grid_column": null,
            "overflow_y": null,
            "overflow_x": null,
            "grid_auto_flow": null,
            "grid_area": null,
            "grid_template_columns": null,
            "flex": null,
            "_model_name": "LayoutModel",
            "justify_items": null,
            "grid_row": null,
            "max_height": null,
            "align_content": null,
            "visibility": null,
            "align_self": null,
            "height": null,
            "min_height": null,
            "padding": null,
            "grid_auto_rows": null,
            "grid_gap": null,
            "max_width": null,
            "order": null,
            "_view_module_version": "1.2.0",
            "grid_template_areas": null,
            "object_position": null,
            "object_fit": null,
            "grid_auto_columns": null,
            "margin": null,
            "display": null,
            "left": null
          }
        },
        "d65fe7b6383d4c4a9db5a3ad9422f467": {
          "model_module": "@jupyter-widgets/controls",
          "model_name": "ProgressStyleModel",
          "model_module_version": "1.5.0",
          "state": {
            "_view_name": "StyleView",
            "_model_name": "ProgressStyleModel",
            "description_width": "",
            "_view_module": "@jupyter-widgets/base",
            "_model_module_version": "1.5.0",
            "_view_count": null,
            "_view_module_version": "1.2.0",
            "bar_color": null,
            "_model_module": "@jupyter-widgets/controls"
          }
        },
        "f0a61e04bb4c4140a2a3361e17449011": {
          "model_module": "@jupyter-widgets/base",
          "model_name": "LayoutModel",
          "model_module_version": "1.2.0",
          "state": {
            "_view_name": "LayoutView",
            "grid_template_rows": null,
            "right": null,
            "justify_content": null,
            "_view_module": "@jupyter-widgets/base",
            "overflow": null,
            "_model_module_version": "1.2.0",
            "_view_count": null,
            "flex_flow": null,
            "width": null,
            "min_width": null,
            "border": null,
            "align_items": null,
            "bottom": null,
            "_model_module": "@jupyter-widgets/base",
            "top": null,
            "grid_column": null,
            "overflow_y": null,
            "overflow_x": null,
            "grid_auto_flow": null,
            "grid_area": null,
            "grid_template_columns": null,
            "flex": null,
            "_model_name": "LayoutModel",
            "justify_items": null,
            "grid_row": null,
            "max_height": null,
            "align_content": null,
            "visibility": null,
            "align_self": null,
            "height": null,
            "min_height": null,
            "padding": null,
            "grid_auto_rows": null,
            "grid_gap": null,
            "max_width": null,
            "order": null,
            "_view_module_version": "1.2.0",
            "grid_template_areas": null,
            "object_position": null,
            "object_fit": null,
            "grid_auto_columns": null,
            "margin": null,
            "display": null,
            "left": null
          }
        },
        "eead390774554eacbcc624e2cc46cdd5": {
          "model_module": "@jupyter-widgets/controls",
          "model_name": "DescriptionStyleModel",
          "model_module_version": "1.5.0",
          "state": {
            "_view_name": "StyleView",
            "_model_name": "DescriptionStyleModel",
            "description_width": "",
            "_view_module": "@jupyter-widgets/base",
            "_model_module_version": "1.5.0",
            "_view_count": null,
            "_view_module_version": "1.2.0",
            "_model_module": "@jupyter-widgets/controls"
          }
        },
        "69af3181684a4d8fa633b9fc9c9a49b8": {
          "model_module": "@jupyter-widgets/base",
          "model_name": "LayoutModel",
          "model_module_version": "1.2.0",
          "state": {
            "_view_name": "LayoutView",
            "grid_template_rows": null,
            "right": null,
            "justify_content": null,
            "_view_module": "@jupyter-widgets/base",
            "overflow": null,
            "_model_module_version": "1.2.0",
            "_view_count": null,
            "flex_flow": null,
            "width": null,
            "min_width": null,
            "border": null,
            "align_items": null,
            "bottom": null,
            "_model_module": "@jupyter-widgets/base",
            "top": null,
            "grid_column": null,
            "overflow_y": null,
            "overflow_x": null,
            "grid_auto_flow": null,
            "grid_area": null,
            "grid_template_columns": null,
            "flex": null,
            "_model_name": "LayoutModel",
            "justify_items": null,
            "grid_row": null,
            "max_height": null,
            "align_content": null,
            "visibility": null,
            "align_self": null,
            "height": null,
            "min_height": null,
            "padding": null,
            "grid_auto_rows": null,
            "grid_gap": null,
            "max_width": null,
            "order": null,
            "_view_module_version": "1.2.0",
            "grid_template_areas": null,
            "object_position": null,
            "object_fit": null,
            "grid_auto_columns": null,
            "margin": null,
            "display": null,
            "left": null
          }
        },
        "f1d4a72b7c5b44878355db634ab18b05": {
          "model_module": "@jupyter-widgets/controls",
          "model_name": "HBoxModel",
          "model_module_version": "1.5.0",
          "state": {
            "_view_name": "HBoxView",
            "_dom_classes": [],
            "_model_name": "HBoxModel",
            "_view_module": "@jupyter-widgets/controls",
            "_model_module_version": "1.5.0",
            "_view_count": null,
            "_view_module_version": "1.5.0",
            "box_style": "",
            "layout": "IPY_MODEL_e92629599aef4551904d6ac95fdee238",
            "_model_module": "@jupyter-widgets/controls",
            "children": [
              "IPY_MODEL_10bce428dab74e6f962a6e12c3c3877b",
              "IPY_MODEL_a3b0e83b0bc54755b5606743563b72a3",
              "IPY_MODEL_7ab29c84c2e346f5983e93cc52ce4993"
            ]
          }
        },
        "e92629599aef4551904d6ac95fdee238": {
          "model_module": "@jupyter-widgets/base",
          "model_name": "LayoutModel",
          "model_module_version": "1.2.0",
          "state": {
            "_view_name": "LayoutView",
            "grid_template_rows": null,
            "right": null,
            "justify_content": null,
            "_view_module": "@jupyter-widgets/base",
            "overflow": null,
            "_model_module_version": "1.2.0",
            "_view_count": null,
            "flex_flow": null,
            "width": null,
            "min_width": null,
            "border": null,
            "align_items": null,
            "bottom": null,
            "_model_module": "@jupyter-widgets/base",
            "top": null,
            "grid_column": null,
            "overflow_y": null,
            "overflow_x": null,
            "grid_auto_flow": null,
            "grid_area": null,
            "grid_template_columns": null,
            "flex": null,
            "_model_name": "LayoutModel",
            "justify_items": null,
            "grid_row": null,
            "max_height": null,
            "align_content": null,
            "visibility": null,
            "align_self": null,
            "height": null,
            "min_height": null,
            "padding": null,
            "grid_auto_rows": null,
            "grid_gap": null,
            "max_width": null,
            "order": null,
            "_view_module_version": "1.2.0",
            "grid_template_areas": null,
            "object_position": null,
            "object_fit": null,
            "grid_auto_columns": null,
            "margin": null,
            "display": null,
            "left": null
          }
        },
        "10bce428dab74e6f962a6e12c3c3877b": {
          "model_module": "@jupyter-widgets/controls",
          "model_name": "HTMLModel",
          "model_module_version": "1.5.0",
          "state": {
            "_view_name": "HTMLView",
            "style": "IPY_MODEL_08336373a4a849019970fc99aa6523f0",
            "_dom_classes": [],
            "description": "",
            "_model_name": "HTMLModel",
            "placeholder": "​",
            "_view_module": "@jupyter-widgets/controls",
            "_model_module_version": "1.5.0",
            "value": "",
            "_view_count": null,
            "_view_module_version": "1.5.0",
            "description_tooltip": null,
            "_model_module": "@jupyter-widgets/controls",
            "layout": "IPY_MODEL_f7964e86b6ab447f85f7507e99be9eb4"
          }
        },
        "a3b0e83b0bc54755b5606743563b72a3": {
          "model_module": "@jupyter-widgets/controls",
          "model_name": "FloatProgressModel",
          "model_module_version": "1.5.0",
          "state": {
            "_view_name": "ProgressView",
            "style": "IPY_MODEL_a9f01bb3fb28498e88ce0df0658b9f30",
            "_dom_classes": [],
            "description": "",
            "_model_name": "FloatProgressModel",
            "bar_style": "success",
            "max": 1648877,
            "_view_module": "@jupyter-widgets/controls",
            "_model_module_version": "1.5.0",
            "value": 1648877,
            "_view_count": null,
            "_view_module_version": "1.5.0",
            "orientation": "horizontal",
            "min": 0,
            "description_tooltip": null,
            "_model_module": "@jupyter-widgets/controls",
            "layout": "IPY_MODEL_f419dd2b1597474f88df770bbece0e47"
          }
        },
        "7ab29c84c2e346f5983e93cc52ce4993": {
          "model_module": "@jupyter-widgets/controls",
          "model_name": "HTMLModel",
          "model_module_version": "1.5.0",
          "state": {
            "_view_name": "HTMLView",
            "style": "IPY_MODEL_d4940fb1d8c34c8ab95eb58399729b7b",
            "_dom_classes": [],
            "description": "",
            "_model_name": "HTMLModel",
            "placeholder": "​",
            "_view_module": "@jupyter-widgets/controls",
            "_model_module_version": "1.5.0",
            "value": " 1649664/? [00:00&lt;00:00, 2230379.62it/s]",
            "_view_count": null,
            "_view_module_version": "1.5.0",
            "description_tooltip": null,
            "_model_module": "@jupyter-widgets/controls",
            "layout": "IPY_MODEL_bac0acb039854b3697600aec4e34dbd2"
          }
        },
        "08336373a4a849019970fc99aa6523f0": {
          "model_module": "@jupyter-widgets/controls",
          "model_name": "DescriptionStyleModel",
          "model_module_version": "1.5.0",
          "state": {
            "_view_name": "StyleView",
            "_model_name": "DescriptionStyleModel",
            "description_width": "",
            "_view_module": "@jupyter-widgets/base",
            "_model_module_version": "1.5.0",
            "_view_count": null,
            "_view_module_version": "1.2.0",
            "_model_module": "@jupyter-widgets/controls"
          }
        },
        "f7964e86b6ab447f85f7507e99be9eb4": {
          "model_module": "@jupyter-widgets/base",
          "model_name": "LayoutModel",
          "model_module_version": "1.2.0",
          "state": {
            "_view_name": "LayoutView",
            "grid_template_rows": null,
            "right": null,
            "justify_content": null,
            "_view_module": "@jupyter-widgets/base",
            "overflow": null,
            "_model_module_version": "1.2.0",
            "_view_count": null,
            "flex_flow": null,
            "width": null,
            "min_width": null,
            "border": null,
            "align_items": null,
            "bottom": null,
            "_model_module": "@jupyter-widgets/base",
            "top": null,
            "grid_column": null,
            "overflow_y": null,
            "overflow_x": null,
            "grid_auto_flow": null,
            "grid_area": null,
            "grid_template_columns": null,
            "flex": null,
            "_model_name": "LayoutModel",
            "justify_items": null,
            "grid_row": null,
            "max_height": null,
            "align_content": null,
            "visibility": null,
            "align_self": null,
            "height": null,
            "min_height": null,
            "padding": null,
            "grid_auto_rows": null,
            "grid_gap": null,
            "max_width": null,
            "order": null,
            "_view_module_version": "1.2.0",
            "grid_template_areas": null,
            "object_position": null,
            "object_fit": null,
            "grid_auto_columns": null,
            "margin": null,
            "display": null,
            "left": null
          }
        },
        "a9f01bb3fb28498e88ce0df0658b9f30": {
          "model_module": "@jupyter-widgets/controls",
          "model_name": "ProgressStyleModel",
          "model_module_version": "1.5.0",
          "state": {
            "_view_name": "StyleView",
            "_model_name": "ProgressStyleModel",
            "description_width": "",
            "_view_module": "@jupyter-widgets/base",
            "_model_module_version": "1.5.0",
            "_view_count": null,
            "_view_module_version": "1.2.0",
            "bar_color": null,
            "_model_module": "@jupyter-widgets/controls"
          }
        },
        "f419dd2b1597474f88df770bbece0e47": {
          "model_module": "@jupyter-widgets/base",
          "model_name": "LayoutModel",
          "model_module_version": "1.2.0",
          "state": {
            "_view_name": "LayoutView",
            "grid_template_rows": null,
            "right": null,
            "justify_content": null,
            "_view_module": "@jupyter-widgets/base",
            "overflow": null,
            "_model_module_version": "1.2.0",
            "_view_count": null,
            "flex_flow": null,
            "width": null,
            "min_width": null,
            "border": null,
            "align_items": null,
            "bottom": null,
            "_model_module": "@jupyter-widgets/base",
            "top": null,
            "grid_column": null,
            "overflow_y": null,
            "overflow_x": null,
            "grid_auto_flow": null,
            "grid_area": null,
            "grid_template_columns": null,
            "flex": null,
            "_model_name": "LayoutModel",
            "justify_items": null,
            "grid_row": null,
            "max_height": null,
            "align_content": null,
            "visibility": null,
            "align_self": null,
            "height": null,
            "min_height": null,
            "padding": null,
            "grid_auto_rows": null,
            "grid_gap": null,
            "max_width": null,
            "order": null,
            "_view_module_version": "1.2.0",
            "grid_template_areas": null,
            "object_position": null,
            "object_fit": null,
            "grid_auto_columns": null,
            "margin": null,
            "display": null,
            "left": null
          }
        },
        "d4940fb1d8c34c8ab95eb58399729b7b": {
          "model_module": "@jupyter-widgets/controls",
          "model_name": "DescriptionStyleModel",
          "model_module_version": "1.5.0",
          "state": {
            "_view_name": "StyleView",
            "_model_name": "DescriptionStyleModel",
            "description_width": "",
            "_view_module": "@jupyter-widgets/base",
            "_model_module_version": "1.5.0",
            "_view_count": null,
            "_view_module_version": "1.2.0",
            "_model_module": "@jupyter-widgets/controls"
          }
        },
        "bac0acb039854b3697600aec4e34dbd2": {
          "model_module": "@jupyter-widgets/base",
          "model_name": "LayoutModel",
          "model_module_version": "1.2.0",
          "state": {
            "_view_name": "LayoutView",
            "grid_template_rows": null,
            "right": null,
            "justify_content": null,
            "_view_module": "@jupyter-widgets/base",
            "overflow": null,
            "_model_module_version": "1.2.0",
            "_view_count": null,
            "flex_flow": null,
            "width": null,
            "min_width": null,
            "border": null,
            "align_items": null,
            "bottom": null,
            "_model_module": "@jupyter-widgets/base",
            "top": null,
            "grid_column": null,
            "overflow_y": null,
            "overflow_x": null,
            "grid_auto_flow": null,
            "grid_area": null,
            "grid_template_columns": null,
            "flex": null,
            "_model_name": "LayoutModel",
            "justify_items": null,
            "grid_row": null,
            "max_height": null,
            "align_content": null,
            "visibility": null,
            "align_self": null,
            "height": null,
            "min_height": null,
            "padding": null,
            "grid_auto_rows": null,
            "grid_gap": null,
            "max_width": null,
            "order": null,
            "_view_module_version": "1.2.0",
            "grid_template_areas": null,
            "object_position": null,
            "object_fit": null,
            "grid_auto_columns": null,
            "margin": null,
            "display": null,
            "left": null
          }
        },
        "5086c2e379f74bffadd9e986d4aa79d2": {
          "model_module": "@jupyter-widgets/controls",
          "model_name": "HBoxModel",
          "model_module_version": "1.5.0",
          "state": {
            "_view_name": "HBoxView",
            "_dom_classes": [],
            "_model_name": "HBoxModel",
            "_view_module": "@jupyter-widgets/controls",
            "_model_module_version": "1.5.0",
            "_view_count": null,
            "_view_module_version": "1.5.0",
            "box_style": "",
            "layout": "IPY_MODEL_90b260c546ad442495ec855c86722cb1",
            "_model_module": "@jupyter-widgets/controls",
            "children": [
              "IPY_MODEL_77fe2339c35c48a98cc721b4109c5ac3",
              "IPY_MODEL_c5ab8aac920e436497ab6c60ca22f132",
              "IPY_MODEL_ae41ddfab3a14d1991edb1e68336c340"
            ]
          }
        },
        "90b260c546ad442495ec855c86722cb1": {
          "model_module": "@jupyter-widgets/base",
          "model_name": "LayoutModel",
          "model_module_version": "1.2.0",
          "state": {
            "_view_name": "LayoutView",
            "grid_template_rows": null,
            "right": null,
            "justify_content": null,
            "_view_module": "@jupyter-widgets/base",
            "overflow": null,
            "_model_module_version": "1.2.0",
            "_view_count": null,
            "flex_flow": null,
            "width": null,
            "min_width": null,
            "border": null,
            "align_items": null,
            "bottom": null,
            "_model_module": "@jupyter-widgets/base",
            "top": null,
            "grid_column": null,
            "overflow_y": null,
            "overflow_x": null,
            "grid_auto_flow": null,
            "grid_area": null,
            "grid_template_columns": null,
            "flex": null,
            "_model_name": "LayoutModel",
            "justify_items": null,
            "grid_row": null,
            "max_height": null,
            "align_content": null,
            "visibility": null,
            "align_self": null,
            "height": null,
            "min_height": null,
            "padding": null,
            "grid_auto_rows": null,
            "grid_gap": null,
            "max_width": null,
            "order": null,
            "_view_module_version": "1.2.0",
            "grid_template_areas": null,
            "object_position": null,
            "object_fit": null,
            "grid_auto_columns": null,
            "margin": null,
            "display": null,
            "left": null
          }
        },
        "77fe2339c35c48a98cc721b4109c5ac3": {
          "model_module": "@jupyter-widgets/controls",
          "model_name": "HTMLModel",
          "model_module_version": "1.5.0",
          "state": {
            "_view_name": "HTMLView",
            "style": "IPY_MODEL_6d34abc9831f47a7885185132ff0fd43",
            "_dom_classes": [],
            "description": "",
            "_model_name": "HTMLModel",
            "placeholder": "​",
            "_view_module": "@jupyter-widgets/controls",
            "_model_module_version": "1.5.0",
            "value": "",
            "_view_count": null,
            "_view_module_version": "1.5.0",
            "description_tooltip": null,
            "_model_module": "@jupyter-widgets/controls",
            "layout": "IPY_MODEL_a5d71803926c47e580289b556ef6590c"
          }
        },
        "c5ab8aac920e436497ab6c60ca22f132": {
          "model_module": "@jupyter-widgets/controls",
          "model_name": "FloatProgressModel",
          "model_module_version": "1.5.0",
          "state": {
            "_view_name": "ProgressView",
            "style": "IPY_MODEL_f842313548c146ac8194579f3530806c",
            "_dom_classes": [],
            "description": "",
            "_model_name": "FloatProgressModel",
            "bar_style": "success",
            "max": 4542,
            "_view_module": "@jupyter-widgets/controls",
            "_model_module_version": "1.5.0",
            "value": 4542,
            "_view_count": null,
            "_view_module_version": "1.5.0",
            "orientation": "horizontal",
            "min": 0,
            "description_tooltip": null,
            "_model_module": "@jupyter-widgets/controls",
            "layout": "IPY_MODEL_c8dbada6b9484d60989dd7c68c3e1238"
          }
        },
        "ae41ddfab3a14d1991edb1e68336c340": {
          "model_module": "@jupyter-widgets/controls",
          "model_name": "HTMLModel",
          "model_module_version": "1.5.0",
          "state": {
            "_view_name": "HTMLView",
            "style": "IPY_MODEL_b8e02c54de754701a0f08f67fc023689",
            "_dom_classes": [],
            "description": "",
            "_model_name": "HTMLModel",
            "placeholder": "​",
            "_view_module": "@jupyter-widgets/controls",
            "_model_module_version": "1.5.0",
            "value": " 5120/? [00:00&lt;00:00, 200375.43it/s]",
            "_view_count": null,
            "_view_module_version": "1.5.0",
            "description_tooltip": null,
            "_model_module": "@jupyter-widgets/controls",
            "layout": "IPY_MODEL_c2e85705bf0d4d7bb8e1859fae614abd"
          }
        },
        "6d34abc9831f47a7885185132ff0fd43": {
          "model_module": "@jupyter-widgets/controls",
          "model_name": "DescriptionStyleModel",
          "model_module_version": "1.5.0",
          "state": {
            "_view_name": "StyleView",
            "_model_name": "DescriptionStyleModel",
            "description_width": "",
            "_view_module": "@jupyter-widgets/base",
            "_model_module_version": "1.5.0",
            "_view_count": null,
            "_view_module_version": "1.2.0",
            "_model_module": "@jupyter-widgets/controls"
          }
        },
        "a5d71803926c47e580289b556ef6590c": {
          "model_module": "@jupyter-widgets/base",
          "model_name": "LayoutModel",
          "model_module_version": "1.2.0",
          "state": {
            "_view_name": "LayoutView",
            "grid_template_rows": null,
            "right": null,
            "justify_content": null,
            "_view_module": "@jupyter-widgets/base",
            "overflow": null,
            "_model_module_version": "1.2.0",
            "_view_count": null,
            "flex_flow": null,
            "width": null,
            "min_width": null,
            "border": null,
            "align_items": null,
            "bottom": null,
            "_model_module": "@jupyter-widgets/base",
            "top": null,
            "grid_column": null,
            "overflow_y": null,
            "overflow_x": null,
            "grid_auto_flow": null,
            "grid_area": null,
            "grid_template_columns": null,
            "flex": null,
            "_model_name": "LayoutModel",
            "justify_items": null,
            "grid_row": null,
            "max_height": null,
            "align_content": null,
            "visibility": null,
            "align_self": null,
            "height": null,
            "min_height": null,
            "padding": null,
            "grid_auto_rows": null,
            "grid_gap": null,
            "max_width": null,
            "order": null,
            "_view_module_version": "1.2.0",
            "grid_template_areas": null,
            "object_position": null,
            "object_fit": null,
            "grid_auto_columns": null,
            "margin": null,
            "display": null,
            "left": null
          }
        },
        "f842313548c146ac8194579f3530806c": {
          "model_module": "@jupyter-widgets/controls",
          "model_name": "ProgressStyleModel",
          "model_module_version": "1.5.0",
          "state": {
            "_view_name": "StyleView",
            "_model_name": "ProgressStyleModel",
            "description_width": "",
            "_view_module": "@jupyter-widgets/base",
            "_model_module_version": "1.5.0",
            "_view_count": null,
            "_view_module_version": "1.2.0",
            "bar_color": null,
            "_model_module": "@jupyter-widgets/controls"
          }
        },
        "c8dbada6b9484d60989dd7c68c3e1238": {
          "model_module": "@jupyter-widgets/base",
          "model_name": "LayoutModel",
          "model_module_version": "1.2.0",
          "state": {
            "_view_name": "LayoutView",
            "grid_template_rows": null,
            "right": null,
            "justify_content": null,
            "_view_module": "@jupyter-widgets/base",
            "overflow": null,
            "_model_module_version": "1.2.0",
            "_view_count": null,
            "flex_flow": null,
            "width": null,
            "min_width": null,
            "border": null,
            "align_items": null,
            "bottom": null,
            "_model_module": "@jupyter-widgets/base",
            "top": null,
            "grid_column": null,
            "overflow_y": null,
            "overflow_x": null,
            "grid_auto_flow": null,
            "grid_area": null,
            "grid_template_columns": null,
            "flex": null,
            "_model_name": "LayoutModel",
            "justify_items": null,
            "grid_row": null,
            "max_height": null,
            "align_content": null,
            "visibility": null,
            "align_self": null,
            "height": null,
            "min_height": null,
            "padding": null,
            "grid_auto_rows": null,
            "grid_gap": null,
            "max_width": null,
            "order": null,
            "_view_module_version": "1.2.0",
            "grid_template_areas": null,
            "object_position": null,
            "object_fit": null,
            "grid_auto_columns": null,
            "margin": null,
            "display": null,
            "left": null
          }
        },
        "b8e02c54de754701a0f08f67fc023689": {
          "model_module": "@jupyter-widgets/controls",
          "model_name": "DescriptionStyleModel",
          "model_module_version": "1.5.0",
          "state": {
            "_view_name": "StyleView",
            "_model_name": "DescriptionStyleModel",
            "description_width": "",
            "_view_module": "@jupyter-widgets/base",
            "_model_module_version": "1.5.0",
            "_view_count": null,
            "_view_module_version": "1.2.0",
            "_model_module": "@jupyter-widgets/controls"
          }
        },
        "c2e85705bf0d4d7bb8e1859fae614abd": {
          "model_module": "@jupyter-widgets/base",
          "model_name": "LayoutModel",
          "model_module_version": "1.2.0",
          "state": {
            "_view_name": "LayoutView",
            "grid_template_rows": null,
            "right": null,
            "justify_content": null,
            "_view_module": "@jupyter-widgets/base",
            "overflow": null,
            "_model_module_version": "1.2.0",
            "_view_count": null,
            "flex_flow": null,
            "width": null,
            "min_width": null,
            "border": null,
            "align_items": null,
            "bottom": null,
            "_model_module": "@jupyter-widgets/base",
            "top": null,
            "grid_column": null,
            "overflow_y": null,
            "overflow_x": null,
            "grid_auto_flow": null,
            "grid_area": null,
            "grid_template_columns": null,
            "flex": null,
            "_model_name": "LayoutModel",
            "justify_items": null,
            "grid_row": null,
            "max_height": null,
            "align_content": null,
            "visibility": null,
            "align_self": null,
            "height": null,
            "min_height": null,
            "padding": null,
            "grid_auto_rows": null,
            "grid_gap": null,
            "max_width": null,
            "order": null,
            "_view_module_version": "1.2.0",
            "grid_template_areas": null,
            "object_position": null,
            "object_fit": null,
            "grid_auto_columns": null,
            "margin": null,
            "display": null,
            "left": null
          }
        }
      }
    }
  },
  "cells": [
    {
      "cell_type": "markdown",
      "metadata": {
        "id": "view-in-github",
        "colab_type": "text"
      },
      "source": [
        "<a href=\"https://colab.research.google.com/github/jhChoi1997/EE488_AI_Convergence_Capstone_Design_Anomaly_Detection_2022spring/blob/main/rotnet_temp1.ipynb\" target=\"_parent\"><img src=\"https://colab.research.google.com/assets/colab-badge.svg\" alt=\"Open In Colab\"/></a>"
      ]
    },
    {
      "cell_type": "markdown",
      "source": [
        "# **EE 488 AI Convergence Capstone Design : Anomaly Detection**\n",
        "## **practice 2-3 : Anomaly Detection using Self-supervised learning (RotNet)**\n",
        "\n",
        "code implementation is referenced https://github.com/d4nst/RotNet"
      ],
      "metadata": {
        "id": "H6MGnF0QF2tO"
      }
    },
    {
      "cell_type": "code",
      "execution_count": 1,
      "metadata": {
        "id": "qx0wd0wRJ8zF"
      },
      "outputs": [],
      "source": [
        "import torch\n",
        "from torch import nn\n",
        "import torch.nn.functional as F\n",
        "from torchvision import datasets\n",
        "from torchvision.transforms import ToTensor\n",
        "from torch.utils.data import DataLoader, TensorDataset\n",
        "from sklearn import metrics\n",
        "import matplotlib.pyplot as plt\n",
        "import torchsummary\n",
        "import numpy as np"
      ]
    },
    {
      "cell_type": "code",
      "source": [
        "device = 'cuda' if torch.cuda.is_available() else 'cpu'\n",
        "print(f'Using {device} device')"
      ],
      "metadata": {
        "colab": {
          "base_uri": "https://localhost:8080/"
        },
        "id": "QlCEbzhEKCLA",
        "outputId": "5f4bfbeb-005e-46ac-d9ce-31a7fbc43a76"
      },
      "execution_count": 2,
      "outputs": [
        {
          "output_type": "stream",
          "name": "stdout",
          "text": [
            "Using cuda device\n"
          ]
        }
      ]
    },
    {
      "cell_type": "code",
      "source": [
        "plt.rc('font', size=20)"
      ],
      "metadata": {
        "id": "0xPkXUzeLmb8"
      },
      "execution_count": 3,
      "outputs": []
    },
    {
      "cell_type": "markdown",
      "source": [
        "You can change the hyperparameter below.\n",
        "Parameter 'ANOMALY_NUM' means which number to set as an anomaly."
      ],
      "metadata": {
        "id": "vy_GKeckHLHd"
      }
    },
    {
      "cell_type": "code",
      "source": [
        "EPOCHS = 20\n",
        "BATCH = 32\n",
        "ANOMALY_NUM = 9"
      ],
      "metadata": {
        "id": "YlvTt_YSJ-Vm"
      },
      "execution_count": 4,
      "outputs": []
    },
    {
      "cell_type": "markdown",
      "source": [
        "The dataset for anomaly detection is composed of normal data and anomaly data. Normal data can be seen in the train, validation, and test dataset, but anomaly data is not in the train dataset. Here 0 to 8 will be used as normal data, and 9 will be used as anomaly data."
      ],
      "metadata": {
        "id": "oxNJ9sVzHWPj"
      }
    },
    {
      "cell_type": "code",
      "source": [
        "mnist_train = datasets.MNIST(root='MNIST_data/', train=True, transform=ToTensor(), download=True)\n",
        "mnist_test = datasets.MNIST(root='MNIST_data/', train=False, transform=ToTensor(), download=True)\n",
        "\n",
        "train_x = torch.tensor([mnist_train[i][0].numpy() for i, v in enumerate(mnist_train) if v[1] != ANOMALY_NUM])\n",
        "train_num = torch.tensor([mnist_train[i][1] for i, v in enumerate(mnist_train) if v[1] != ANOMALY_NUM])\n",
        "train_num_oh = F.one_hot(train_num)\n",
        "# add rotate angle\n",
        "train_degree = torch.randint(0,359,(train_x.shape[0],))\n",
        "\n",
        "unseen_x = torch.tensor([v[0].numpy() for v in mnist_test])\n",
        "unseen_num = torch.tensor([v[1] for v in mnist_test])\n",
        "unseen_y = torch.tensor([0 if v[1] != ANOMALY_NUM else 1 for v in mnist_test])\n",
        "\n",
        "\n",
        "val_x = unseen_x[:int(len(unseen_x) / 2)]\n",
        "val_num = unseen_num[:int(len(unseen_x) / 2)]\n",
        "val_num_oh = F.one_hot(val_num)\n",
        "val_num_oh = torch.cat((val_num_oh[:,0:ANOMALY_NUM],val_num_oh[:,ANOMALY_NUM+1:]), dim=1)\n",
        "val_y = unseen_y[:int(len(unseen_y) / 2)]\n",
        "val_degree = torch.randint(0,359,(val_x.shape[0],))\n",
        "test_x = unseen_x[int(len(unseen_x) / 2):]\n",
        "test_num = unseen_num[int(len(unseen_x) / 2):]\n",
        "test_num_oh = F.one_hot(test_num)\n",
        "test_num_oh = torch.cat((test_num_oh[:,0:ANOMALY_NUM],test_num_oh[:,ANOMALY_NUM+1:]), dim=1)\n",
        "test_y = unseen_y[int(len(unseen_y) / 2):]\n",
        "test_degree = torch.randint(0,359,(test_x.shape[0],))\n",
        "train_dataset = TensorDataset(train_x, train_num_oh, train_degree)\n",
        "val_dataset = TensorDataset(val_x, val_num_oh, val_y, val_degree)\n",
        "test_dataset = TensorDataset(test_x, test_num_oh, test_y, test_degree)\n",
        "\n",
        "train_dataloader = DataLoader(train_dataset, batch_size=BATCH)\n",
        "val_dataloader = DataLoader(val_dataset, batch_size=BATCH)\n",
        "test_dataloader = DataLoader(test_dataset, batch_size=BATCH)"
      ],
      "metadata": {
        "colab": {
          "base_uri": "https://localhost:8080/",
          "height": 500,
          "referenced_widgets": [
            "f69d989d64bc4d57934e0fb31fd2ba6f",
            "8017aa25d9004f4187f9b1146d9f141b",
            "aaacce5798ec4ff1aaf6937cecbeac7a",
            "58f14f2a5b904e2fa660fb1452df8f71",
            "aafedf3e739043ae806b6967612df9c1",
            "ed86407f336743748830c13816b953aa",
            "b0fddbc152ce4f0aa95c3d0646af92e3",
            "0826198ee84945fdac2a12cffd948d49",
            "b7357fe22f684b8fa516959e7c35eb90",
            "6bd8653f034e4173b002995a2a50fa48",
            "f779d52178c0464ba1345c9d47d1444e",
            "f5e0c88469244e1aad01840bcb6ccd40",
            "0846b6eb573e45a0b31b1fa8063f5771",
            "bafe042a19564123b25ad0620a41c35c",
            "6467605cc81f424d83e250992e2f1152",
            "4e94e97cd7724e6ea914a8ec384eb440",
            "478306d94407467db8370226e9948581",
            "69ca3a46f43841dbb5aa98baf00bae84",
            "d65fe7b6383d4c4a9db5a3ad9422f467",
            "f0a61e04bb4c4140a2a3361e17449011",
            "eead390774554eacbcc624e2cc46cdd5",
            "69af3181684a4d8fa633b9fc9c9a49b8",
            "f1d4a72b7c5b44878355db634ab18b05",
            "e92629599aef4551904d6ac95fdee238",
            "10bce428dab74e6f962a6e12c3c3877b",
            "a3b0e83b0bc54755b5606743563b72a3",
            "7ab29c84c2e346f5983e93cc52ce4993",
            "08336373a4a849019970fc99aa6523f0",
            "f7964e86b6ab447f85f7507e99be9eb4",
            "a9f01bb3fb28498e88ce0df0658b9f30",
            "f419dd2b1597474f88df770bbece0e47",
            "d4940fb1d8c34c8ab95eb58399729b7b",
            "bac0acb039854b3697600aec4e34dbd2",
            "5086c2e379f74bffadd9e986d4aa79d2",
            "90b260c546ad442495ec855c86722cb1",
            "77fe2339c35c48a98cc721b4109c5ac3",
            "c5ab8aac920e436497ab6c60ca22f132",
            "ae41ddfab3a14d1991edb1e68336c340",
            "6d34abc9831f47a7885185132ff0fd43",
            "a5d71803926c47e580289b556ef6590c",
            "f842313548c146ac8194579f3530806c",
            "c8dbada6b9484d60989dd7c68c3e1238",
            "b8e02c54de754701a0f08f67fc023689",
            "c2e85705bf0d4d7bb8e1859fae614abd"
          ]
        },
        "id": "hGifb5nZJ_Hg",
        "outputId": "61b470e0-dd49-404f-b330-278aa7448528"
      },
      "execution_count": 5,
      "outputs": [
        {
          "output_type": "stream",
          "name": "stdout",
          "text": [
            "Downloading http://yann.lecun.com/exdb/mnist/train-images-idx3-ubyte.gz\n",
            "Downloading http://yann.lecun.com/exdb/mnist/train-images-idx3-ubyte.gz to MNIST_data/MNIST/raw/train-images-idx3-ubyte.gz\n"
          ]
        },
        {
          "output_type": "display_data",
          "data": {
            "application/vnd.jupyter.widget-view+json": {
              "model_id": "f69d989d64bc4d57934e0fb31fd2ba6f",
              "version_minor": 0,
              "version_major": 2
            },
            "text/plain": [
              "  0%|          | 0/9912422 [00:00<?, ?it/s]"
            ]
          },
          "metadata": {}
        },
        {
          "output_type": "stream",
          "name": "stdout",
          "text": [
            "Extracting MNIST_data/MNIST/raw/train-images-idx3-ubyte.gz to MNIST_data/MNIST/raw\n",
            "\n",
            "Downloading http://yann.lecun.com/exdb/mnist/train-labels-idx1-ubyte.gz\n",
            "Downloading http://yann.lecun.com/exdb/mnist/train-labels-idx1-ubyte.gz to MNIST_data/MNIST/raw/train-labels-idx1-ubyte.gz\n"
          ]
        },
        {
          "output_type": "display_data",
          "data": {
            "application/vnd.jupyter.widget-view+json": {
              "model_id": "f5e0c88469244e1aad01840bcb6ccd40",
              "version_minor": 0,
              "version_major": 2
            },
            "text/plain": [
              "  0%|          | 0/28881 [00:00<?, ?it/s]"
            ]
          },
          "metadata": {}
        },
        {
          "output_type": "stream",
          "name": "stdout",
          "text": [
            "Extracting MNIST_data/MNIST/raw/train-labels-idx1-ubyte.gz to MNIST_data/MNIST/raw\n",
            "\n",
            "Downloading http://yann.lecun.com/exdb/mnist/t10k-images-idx3-ubyte.gz\n",
            "Downloading http://yann.lecun.com/exdb/mnist/t10k-images-idx3-ubyte.gz to MNIST_data/MNIST/raw/t10k-images-idx3-ubyte.gz\n"
          ]
        },
        {
          "output_type": "display_data",
          "data": {
            "application/vnd.jupyter.widget-view+json": {
              "model_id": "f1d4a72b7c5b44878355db634ab18b05",
              "version_minor": 0,
              "version_major": 2
            },
            "text/plain": [
              "  0%|          | 0/1648877 [00:00<?, ?it/s]"
            ]
          },
          "metadata": {}
        },
        {
          "output_type": "stream",
          "name": "stdout",
          "text": [
            "Extracting MNIST_data/MNIST/raw/t10k-images-idx3-ubyte.gz to MNIST_data/MNIST/raw\n",
            "\n",
            "Downloading http://yann.lecun.com/exdb/mnist/t10k-labels-idx1-ubyte.gz\n",
            "Downloading http://yann.lecun.com/exdb/mnist/t10k-labels-idx1-ubyte.gz to MNIST_data/MNIST/raw/t10k-labels-idx1-ubyte.gz\n"
          ]
        },
        {
          "output_type": "display_data",
          "data": {
            "application/vnd.jupyter.widget-view+json": {
              "model_id": "5086c2e379f74bffadd9e986d4aa79d2",
              "version_minor": 0,
              "version_major": 2
            },
            "text/plain": [
              "  0%|          | 0/4542 [00:00<?, ?it/s]"
            ]
          },
          "metadata": {}
        },
        {
          "output_type": "stream",
          "name": "stdout",
          "text": [
            "Extracting MNIST_data/MNIST/raw/t10k-labels-idx1-ubyte.gz to MNIST_data/MNIST/raw\n",
            "\n"
          ]
        },
        {
          "output_type": "stream",
          "name": "stderr",
          "text": [
            "/usr/local/lib/python3.7/dist-packages/ipykernel_launcher.py:4: UserWarning: Creating a tensor from a list of numpy.ndarrays is extremely slow. Please consider converting the list to a single numpy.ndarray with numpy.array() before converting to a tensor. (Triggered internally at  ../torch/csrc/utils/tensor_new.cpp:201.)\n",
            "  after removing the cwd from sys.path.\n"
          ]
        }
      ]
    },
    {
      "cell_type": "markdown",
      "source": [
        "Dataset length is like below."
      ],
      "metadata": {
        "id": "aL2kA9btGXmf"
      }
    },
    {
      "cell_type": "code",
      "source": [
        "print(len(train_dataset))\n",
        "print(len(val_dataset))\n",
        "print(len(test_dataset))"
      ],
      "metadata": {
        "colab": {
          "base_uri": "https://localhost:8080/"
        },
        "id": "KOdcnDsLzvxy",
        "outputId": "066462fa-6756-4dfc-bf60-e95839f1adec"
      },
      "execution_count": 6,
      "outputs": [
        {
          "output_type": "stream",
          "name": "stdout",
          "text": [
            "54051\n",
            "5000\n",
            "5000\n"
          ]
        }
      ]
    },
    {
      "cell_type": "code",
      "source": [
        "import cv2"
      ],
      "metadata": {
        "id": "BKjDeMkyiKQC"
      },
      "execution_count": 7,
      "outputs": []
    },
    {
      "cell_type": "code",
      "source": [
        "def rotate(image, angle):\n",
        "    \"\"\"\n",
        "    Rotates an OpenCV 2 / NumPy image about it's centre by the given angle\n",
        "    (in degrees). The returned image will be large enough to hold the entire\n",
        "    new image, with a black background\n",
        "    Source: http://stackoverflow.com/questions/16702966/rotate-image-and-crop-out-black-borders\n",
        "    \"\"\"\n",
        "    # Get the image size\n",
        "    # No that's not an error - NumPy stores image matricies backwards\n",
        "    image = image.cpu().numpy()\n",
        "    angle = angle.cpu().numpy()\n",
        "    image_size = (image.shape[1], image.shape[0])\n",
        "    image_center = tuple(np.array(image_size) / 2)\n",
        "\n",
        "    # Convert the OpenCV 3x2 rotation matrix to 3x3\n",
        "    rot_mat = np.vstack(\n",
        "        [cv2.getRotationMatrix2D(image_center, angle, 1.0), [0, 0, 1]]\n",
        "    )\n",
        "\n",
        "    rot_mat_notranslate = np.matrix(rot_mat[0:2, 0:2])\n",
        "\n",
        "    # Shorthand for below calcs\n",
        "    image_w2 = image_size[0] * 0.5\n",
        "    image_h2 = image_size[1] * 0.5\n",
        "\n",
        "    # Obtain the rotated coordinates of the image corners\n",
        "    rotated_coords = [\n",
        "        (np.array([-image_w2,  image_h2]) * rot_mat_notranslate).A[0],\n",
        "        (np.array([ image_w2,  image_h2]) * rot_mat_notranslate).A[0],\n",
        "        (np.array([-image_w2, -image_h2]) * rot_mat_notranslate).A[0],\n",
        "        (np.array([ image_w2, -image_h2]) * rot_mat_notranslate).A[0]\n",
        "    ]\n",
        "\n",
        "    # Find the size of the new image\n",
        "    x_coords = [pt[0] for pt in rotated_coords]\n",
        "    x_pos = [x for x in x_coords if x > 0]\n",
        "    x_neg = [x for x in x_coords if x < 0]\n",
        "\n",
        "    y_coords = [pt[1] for pt in rotated_coords]\n",
        "    y_pos = [y for y in y_coords if y > 0]\n",
        "    y_neg = [y for y in y_coords if y < 0]\n",
        "\n",
        "    right_bound = max(x_pos)\n",
        "    left_bound = min(x_neg)\n",
        "    top_bound = max(y_pos)\n",
        "    bot_bound = min(y_neg)\n",
        "\n",
        "    new_w = int(abs(right_bound - left_bound))\n",
        "    new_h = int(abs(top_bound - bot_bound))\n",
        "\n",
        "    # We require a translation matrix to keep the image centred\n",
        "    trans_mat = np.matrix([\n",
        "        [1, 0, int(new_w * 0.5 - image_w2)],\n",
        "        [0, 1, int(new_h * 0.5 - image_h2)],\n",
        "        [0, 0, 1]\n",
        "    ])\n",
        "\n",
        "    # Compute the tranform for the combined rotation and translation\n",
        "    affine_mat = (np.matrix(trans_mat) * np.matrix(rot_mat))[0:2, :]\n",
        "\n",
        "    # Apply the transform\n",
        "    result = cv2.warpAffine(image,affine_mat,(new_w, new_h),flags=cv2.INTER_LINEAR)\n",
        "\n",
        "    # resize as original size\n",
        "\n",
        "    result = cv2.resize(result,image_size, interpolation=cv2.INTER_AREA)\n",
        "\n",
        "    return torch.tensor(result)"
      ],
      "metadata": {
        "id": "dQyzvlvGiHoP"
      },
      "execution_count": 8,
      "outputs": []
    },
    {
      "cell_type": "markdown",
      "source": [
        "You will use classifier (FCN) for practice"
      ],
      "metadata": {
        "id": "xKbRZRjAKuNH"
      }
    },
    {
      "cell_type": "markdown",
      "source": [
        "![FCN.png](data:image/png;base64,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)"
      ],
      "metadata": {
        "id": "zUwT4jLw0xM0"
      }
    },
    {
      "cell_type": "code",
      "source": [
        "class ClassificationModel(nn.Module):\n",
        "    def __init__(self):\n",
        "        super(ClassificationModel, self).__init__()\n",
        "        self.feature_extractor = nn.Sequential(\n",
        "            nn.Conv2d(1,64,(4,4),(2,2)),\n",
        "            nn.ReLU(),\n",
        "            nn.Conv2d(64,64,(4,4),(2,2)),\n",
        "            nn.ReLU(),\n",
        "        )\n",
        "        self.regression_model = nn.Sequential(\n",
        "            nn.Linear(1600,360),\n",
        "\n",
        "        )\n",
        "\n",
        "    def forward(self, x):\n",
        "        out = self.feature_extractor(x)\n",
        "\n",
        "        out = out.reshape(x.size(0),-1)\n",
        "\n",
        "        out = self.regression_model(out)\n",
        "\n",
        "\n",
        "        return out"
      ],
      "metadata": {
        "id": "BxcIF_KSKAuh"
      },
      "execution_count": 9,
      "outputs": []
    },
    {
      "cell_type": "code",
      "source": [
        "model = ClassificationModel().to(device)\n",
        "print(model)"
      ],
      "metadata": {
        "id": "GKbS81WbU-8x",
        "colab": {
          "base_uri": "https://localhost:8080/"
        },
        "outputId": "5f6c8bb9-7670-43c6-90dc-7e81ad62c948"
      },
      "execution_count": 10,
      "outputs": [
        {
          "output_type": "stream",
          "name": "stdout",
          "text": [
            "ClassificationModel(\n",
            "  (feature_extractor): Sequential(\n",
            "    (0): Conv2d(1, 64, kernel_size=(4, 4), stride=(2, 2))\n",
            "    (1): ReLU()\n",
            "    (2): Conv2d(64, 64, kernel_size=(4, 4), stride=(2, 2))\n",
            "    (3): ReLU()\n",
            "  )\n",
            "  (regression_model): Sequential(\n",
            "    (0): Linear(in_features=1600, out_features=360, bias=True)\n",
            "  )\n",
            ")\n"
          ]
        }
      ]
    },
    {
      "cell_type": "code",
      "source": [
        "loss_fn = nn.CrossEntropyLoss()\n",
        "def anomaly_score(logits, true_angle): #modify here as angle error\n",
        "    pred_angle = torch.argmax(logits, dim=1)\n",
        "    angle_diff = torch.abs(true_angle - pred_angle)\n",
        "\n",
        "    return angle_diff\n",
        "optimizer = torch.optim.Adam(model.parameters(), lr=1e-3)"
      ],
      "metadata": {
        "id": "W8-o7nbnKFQC"
      },
      "execution_count": 11,
      "outputs": []
    },
    {
      "cell_type": "code",
      "source": [
        "def train(dataloader, model, loss_fn, optimizer):\n",
        "    size = len(dataloader.dataset)\n",
        "    losses = []\n",
        "    for batch, y in enumerate(dataloader):\n",
        "        \n",
        "        # rotate image\n",
        "        img = y[0]\n",
        "        for img_idx in range(y[0].shape[0]):\n",
        "            img[img_idx,0,:,:] = rotate(y[0][img_idx,0,:,:],y[2][img_idx])\n",
        "\n",
        "        pred = model(img.to(device))\n",
        "\n",
        "        loss = loss_fn(pred, F.one_hot(y[2].to(device),num_classes=360).float())\n",
        "        \n",
        "\n",
        "        for idata in range(pred.shape[0]):\n",
        "\n",
        "            iloss = loss_fn(pred[idata:idata+1,:], F.one_hot(y[2][idata:idata+1].to(device),num_classes=360).float())\n",
        "            losses.append(iloss.item())\n",
        "\n",
        "        optimizer.zero_grad()\n",
        "        loss.backward()\n",
        "        optimizer.step()\n",
        "\n",
        "        if batch % 300 == 0:\n",
        "            loss, current = loss.item(), batch * pred.shape[0]\n",
        "            print(f\"loss: {loss:>7f}  [{current:>5d}/{size:>5d}]\")\n",
        "\n",
        "\n",
        "    return np.mean(losses)"
      ],
      "metadata": {
        "id": "36YK6WGDKGrB"
      },
      "execution_count": 12,
      "outputs": []
    },
    {
      "cell_type": "markdown",
      "source": [
        "Anomaly score is calculated in validation and test. 1 - Maximum Softmax Probability is commonly used as an anomaly score when using classification as a pretext task. Since the model has the label of normal only, the model may predict anomaly data as a normal class with lower probability (Under-confident)."
      ],
      "metadata": {
        "id": "NJN9_7hLYsEI"
      }
    },
    {
      "cell_type": "code",
      "source": [
        "def test(dataloader, model, loss_fn, anomaly_score, draw_mode = False):\n",
        "    model.eval()\n",
        "\n",
        "    y_true, y_pred = [], []\n",
        "\n",
        "    normal_loss = []\n",
        "    normal_scores = []\n",
        "    anomaly_scores  =[]\n",
        "\n",
        "    with torch.no_grad():\n",
        "      \n",
        "        for batch, num, anomaly, degree in dataloader:\n",
        "\n",
        "            batch = batch.to(device)\n",
        "            num = num.to(device)\n",
        "            anomaly = anomaly.to(device)\n",
        "            degree = degree.to(device)\n",
        "\n",
        "            # rotate here\n",
        "\n",
        "            # rotate image\n",
        "            img = batch\n",
        "            for img_idx in range(batch.shape[0]):\n",
        "                img[img_idx,0,:,:] = rotate(batch[img_idx,0,:,:],degree[img_idx])\n",
        "\n",
        "            output = model(img)\n",
        "\n",
        "            for idata in range(output.shape[0]):\n",
        "\n",
        "                iloss = loss_fn(output[idata:idata+1,:], F.one_hot(degree[idata:idata+1].to(device),num_classes=360).float())\n",
        "                iscore = anomaly_score(output[idata:idata+1,:],degree[idata:idata+1])\n",
        "                if anomaly[idata] == 0:\n",
        "                    normal_loss.append(iloss)\n",
        "                    normal_scores.append(iscore)\n",
        "                elif anomaly[idata] == 1:\n",
        "                    anomaly_scores.append(iscore)\n",
        "\n",
        "\n",
        "            score = anomaly_score(output,degree)\n",
        "\n",
        "            y_true.extend(anomaly.tolist())\n",
        "            y_pred.extend(score.tolist())\n",
        "\n",
        "    roc_auc = metrics.roc_auc_score(y_true, y_pred)\n",
        "\n",
        "    if draw_mode:\n",
        "        fpr, tpr, _ = metrics.roc_curve(y_true,y_pred)\n",
        "        plt.figure(figsize=(10,10))\n",
        "        plt.plot(fpr,tpr)\n",
        "        plt.title('ROC curve')\n",
        "        plt.xlabel('FPR')\n",
        "        plt.ylabel('TPR')\n",
        "\n",
        "\n",
        "    print(f'AUC: {roc_auc:>0.3f}')\n",
        "    normal_loss = [i.item() for i in normal_loss]\n",
        "    normal_scores = [i.item() for i in normal_scores]\n",
        "    anomaly_scores = [i.item() for i in anomaly_scores]\n",
        "\n",
        "    normal_loss_mean = np.mean(normal_loss)\n",
        "    normal_score_mean = np.mean(normal_scores)\n",
        "    anomaly_score_mean = np.mean(anomaly_scores)\n",
        "\n",
        "    print(f'normal loss : {normal_loss_mean}')\n",
        "\n",
        "    return roc_auc.item(), normal_loss_mean, normal_score_mean, anomaly_score_mean, normal_scores, anomaly_scores"
      ],
      "metadata": {
        "id": "GB6qgJ_5KJKI"
      },
      "execution_count": 13,
      "outputs": []
    },
    {
      "cell_type": "markdown",
      "source": [
        "See how CCE loss and AUC changes during training.\n",
        "Loss is calculated during train and AUC is calculated during validation."
      ],
      "metadata": {
        "id": "WQz51CldI7Qj"
      }
    },
    {
      "cell_type": "code",
      "source": [
        "train_losses = []\n",
        "val_normal_losses= []\n",
        "val_normal_scores = []\n",
        "val_anomaly_scores = []\n",
        "roc_auc = []\n",
        "\n",
        "best_auc = 0.0\n",
        "best_model = model.to(device)\n",
        "\n",
        "for t in range(EPOCHS):\n",
        "    print(f\"Epoch {t + 1}\\n-------------------------------\")\n",
        "    train_loss = train(train_dataloader, model, loss_fn, optimizer)\n",
        "    auc,val_normal_loss, val_normal_score, val_anomaly_score, _, _ = test(val_dataloader, model, loss_fn, anomaly_score)\n",
        "\n",
        "    train_losses.append(train_loss)\n",
        "    val_normal_losses.append(val_normal_loss)\n",
        "    val_normal_scores.append(val_normal_score)\n",
        "    val_anomaly_scores.append(val_anomaly_score)\n",
        "\n",
        "    roc_auc.append(auc)\n",
        "\n",
        "    if auc > best_auc:\n",
        "        best_model, best_auc = model, auc"
      ],
      "metadata": {
        "id": "VMrDeedfKKwy",
        "colab": {
          "base_uri": "https://localhost:8080/"
        },
        "outputId": "679f2a4f-f8f5-4ce2-8047-2fa81b0ec983"
      },
      "execution_count": 14,
      "outputs": [
        {
          "output_type": "stream",
          "name": "stdout",
          "text": [
            "Epoch 1\n",
            "-------------------------------\n",
            "loss: 5.890168  [    0/54051]\n",
            "loss: 5.260253  [ 9600/54051]\n",
            "loss: 5.266535  [19200/54051]\n",
            "loss: 4.678020  [28800/54051]\n",
            "loss: 5.119953  [38400/54051]\n",
            "loss: 4.904262  [48000/54051]\n",
            "AUC: 0.548\n",
            "normal loss : 4.864387157506177\n",
            "Epoch 2\n",
            "-------------------------------\n",
            "loss: 4.578995  [    0/54051]\n",
            "loss: 4.471487  [ 9600/54051]\n",
            "loss: 4.797342  [19200/54051]\n",
            "loss: 4.260648  [28800/54051]\n",
            "loss: 4.887000  [38400/54051]\n",
            "loss: 4.696985  [48000/54051]\n",
            "AUC: 0.549\n",
            "normal loss : 4.7418819010257724\n",
            "Epoch 3\n",
            "-------------------------------\n",
            "loss: 4.327095  [    0/54051]\n",
            "loss: 4.218259  [ 9600/54051]\n",
            "loss: 4.645205  [19200/54051]\n",
            "loss: 4.091709  [28800/54051]\n",
            "loss: 4.736200  [38400/54051]\n",
            "loss: 4.549230  [48000/54051]\n",
            "AUC: 0.562\n",
            "normal loss : 4.66823044068047\n",
            "Epoch 4\n",
            "-------------------------------\n",
            "loss: 4.171474  [    0/54051]\n",
            "loss: 4.041575  [ 9600/54051]\n",
            "loss: 4.518621  [19200/54051]\n",
            "loss: 3.992849  [28800/54051]\n",
            "loss: 4.640774  [38400/54051]\n",
            "loss: 4.441061  [48000/54051]\n",
            "AUC: 0.562\n",
            "normal loss : 4.607032328278625\n",
            "Epoch 5\n",
            "-------------------------------\n",
            "loss: 4.035008  [    0/54051]\n",
            "loss: 3.905134  [ 9600/54051]\n",
            "loss: 4.417843  [19200/54051]\n",
            "loss: 3.923207  [28800/54051]\n",
            "loss: 4.572875  [38400/54051]\n",
            "loss: 4.377436  [48000/54051]\n",
            "AUC: 0.569\n",
            "normal loss : 4.560870579317478\n",
            "Epoch 6\n",
            "-------------------------------\n",
            "loss: 3.941323  [    0/54051]\n",
            "loss: 3.799289  [ 9600/54051]\n",
            "loss: 4.331496  [19200/54051]\n",
            "loss: 3.866163  [28800/54051]\n",
            "loss: 4.538486  [38400/54051]\n",
            "loss: 4.316545  [48000/54051]\n",
            "AUC: 0.570\n",
            "normal loss : 4.513004625721702\n",
            "Epoch 7\n",
            "-------------------------------\n",
            "loss: 3.848311  [    0/54051]\n",
            "loss: 3.731838  [ 9600/54051]\n",
            "loss: 4.256054  [19200/54051]\n",
            "loss: 3.799937  [28800/54051]\n",
            "loss: 4.510034  [38400/54051]\n",
            "loss: 4.252734  [48000/54051]\n",
            "AUC: 0.565\n",
            "normal loss : 4.469467128567132\n",
            "Epoch 8\n",
            "-------------------------------\n",
            "loss: 3.784926  [    0/54051]\n",
            "loss: 3.673259  [ 9600/54051]\n",
            "loss: 4.194562  [19200/54051]\n",
            "loss: 3.746657  [28800/54051]\n",
            "loss: 4.479936  [38400/54051]\n",
            "loss: 4.172354  [48000/54051]\n",
            "AUC: 0.563\n",
            "normal loss : 4.421380257426894\n",
            "Epoch 9\n",
            "-------------------------------\n",
            "loss: 3.714503  [    0/54051]\n",
            "loss: 3.633784  [ 9600/54051]\n",
            "loss: 4.139549  [19200/54051]\n",
            "loss: 3.697810  [28800/54051]\n",
            "loss: 4.458735  [38400/54051]\n",
            "loss: 4.075894  [48000/54051]\n",
            "AUC: 0.561\n",
            "normal loss : 4.3688239438326235\n",
            "Epoch 10\n",
            "-------------------------------\n",
            "loss: 3.658129  [    0/54051]\n",
            "loss: 3.588487  [ 9600/54051]\n",
            "loss: 4.083212  [19200/54051]\n",
            "loss: 3.653835  [28800/54051]\n",
            "loss: 4.428573  [38400/54051]\n",
            "loss: 4.000797  [48000/54051]\n",
            "AUC: 0.560\n",
            "normal loss : 4.324320936203003\n",
            "Epoch 11\n",
            "-------------------------------\n",
            "loss: 3.581717  [    0/54051]\n",
            "loss: 3.569060  [ 9600/54051]\n",
            "loss: 4.012433  [19200/54051]\n",
            "loss: 3.611542  [28800/54051]\n",
            "loss: 4.405302  [38400/54051]\n",
            "loss: 3.942751  [48000/54051]\n",
            "AUC: 0.560\n",
            "normal loss : 4.270730993361212\n",
            "Epoch 12\n",
            "-------------------------------\n",
            "loss: 3.511252  [    0/54051]\n",
            "loss: 3.553149  [ 9600/54051]\n",
            "loss: 3.960169  [19200/54051]\n",
            "loss: 3.584735  [28800/54051]\n",
            "loss: 4.388561  [38400/54051]\n",
            "loss: 3.869332  [48000/54051]\n",
            "AUC: 0.566\n",
            "normal loss : 4.2243868092540655\n",
            "Epoch 13\n",
            "-------------------------------\n",
            "loss: 3.453282  [    0/54051]\n",
            "loss: 3.530317  [ 9600/54051]\n",
            "loss: 3.899732  [19200/54051]\n",
            "loss: 3.546433  [28800/54051]\n",
            "loss: 4.385941  [38400/54051]\n",
            "loss: 3.804778  [48000/54051]\n",
            "AUC: 0.563\n",
            "normal loss : 4.178070536355621\n",
            "Epoch 14\n",
            "-------------------------------\n",
            "loss: 3.377893  [    0/54051]\n",
            "loss: 3.500666  [ 9600/54051]\n",
            "loss: 3.850763  [19200/54051]\n",
            "loss: 3.515970  [28800/54051]\n",
            "loss: 4.348298  [38400/54051]\n",
            "loss: 3.754826  [48000/54051]\n",
            "AUC: 0.561\n",
            "normal loss : 4.139532812234081\n",
            "Epoch 15\n",
            "-------------------------------\n",
            "loss: 3.324868  [    0/54051]\n",
            "loss: 3.483243  [ 9600/54051]\n",
            "loss: 3.811018  [19200/54051]\n",
            "loss: 3.477414  [28800/54051]\n",
            "loss: 4.311964  [38400/54051]\n",
            "loss: 3.718984  [48000/54051]\n",
            "AUC: 0.558\n",
            "normal loss : 4.095100601356743\n",
            "Epoch 16\n",
            "-------------------------------\n",
            "loss: 3.268267  [    0/54051]\n",
            "loss: 3.461268  [ 9600/54051]\n",
            "loss: 3.765374  [19200/54051]\n",
            "loss: 3.444276  [28800/54051]\n",
            "loss: 4.300313  [38400/54051]\n",
            "loss: 3.688502  [48000/54051]\n",
            "AUC: 0.566\n",
            "normal loss : 4.049412549050093\n",
            "Epoch 17\n",
            "-------------------------------\n",
            "loss: 3.212124  [    0/54051]\n",
            "loss: 3.420247  [ 9600/54051]\n",
            "loss: 3.720213  [19200/54051]\n",
            "loss: 3.394606  [28800/54051]\n",
            "loss: 4.280637  [38400/54051]\n",
            "loss: 3.638061  [48000/54051]\n",
            "AUC: 0.567\n",
            "normal loss : 4.008472427673198\n",
            "Epoch 18\n",
            "-------------------------------\n",
            "loss: 3.156183  [    0/54051]\n",
            "loss: 3.373190  [ 9600/54051]\n",
            "loss: 3.684088  [19200/54051]\n",
            "loss: 3.345900  [28800/54051]\n",
            "loss: 4.244065  [38400/54051]\n",
            "loss: 3.593948  [48000/54051]\n",
            "AUC: 0.563\n",
            "normal loss : 3.964828535670157\n",
            "Epoch 19\n",
            "-------------------------------\n",
            "loss: 3.104151  [    0/54051]\n",
            "loss: 3.340807  [ 9600/54051]\n",
            "loss: 3.645359  [19200/54051]\n",
            "loss: 3.288927  [28800/54051]\n",
            "loss: 4.205340  [38400/54051]\n",
            "loss: 3.557991  [48000/54051]\n",
            "AUC: 0.564\n",
            "normal loss : 3.928660757108394\n",
            "Epoch 20\n",
            "-------------------------------\n",
            "loss: 3.062216  [    0/54051]\n",
            "loss: 3.293936  [ 9600/54051]\n",
            "loss: 3.600513  [19200/54051]\n",
            "loss: 3.252763  [28800/54051]\n",
            "loss: 4.193621  [38400/54051]\n",
            "loss: 3.539548  [48000/54051]\n",
            "AUC: 0.568\n",
            "normal loss : 3.896185873146065\n"
          ]
        }
      ]
    },
    {
      "cell_type": "code",
      "source": [
        "plt.clf()\n",
        "plt.figure(figsize=(30,10))\n",
        "plt.subplot(1,3,1)\n",
        "plt.plot(list(range(1,len(roc_auc)+1)),roc_auc)\n",
        "plt.xlabel('epoch')\n",
        "plt.ylabel('AUC')\n",
        "plt.title('AUC vs epoch')\n",
        "plt.ylim([0, 1])\n",
        "\n",
        "plt.subplot(1,3,2)\n",
        "plt.plot(list(range(1,len(train_losses)+1)),train_losses)\n",
        "plt.plot(list(range(1,len(val_normal_losses)+1)),val_normal_losses)\n",
        "plt.xlabel('epoch')\n",
        "plt.ylabel('loss')\n",
        "plt.title('loss vs epoch')\n",
        "plt.legend(['train loss', 'validation normal loss'])\n",
        "\n",
        "plt.subplot(1,3,3)\n",
        "plt.plot(list(range(1,len(val_normal_scores)+1)),val_normal_scores)\n",
        "plt.plot(list(range(1,len(val_anomaly_scores)+1)),val_anomaly_scores)\n",
        "plt.xlabel('epoch')\n",
        "plt.ylabel('anomaly score')\n",
        "plt.title('anomaly score vs epoch')\n",
        "plt.legend(['validation normal anomaly score','validation anomaly anomaly score'])"
      ],
      "metadata": {
        "id": "0CDUDqRRcBnF",
        "colab": {
          "base_uri": "https://localhost:8080/",
          "height": 378
        },
        "outputId": "0ca64566-3795-407d-cfaf-9f0a3012c2ba"
      },
      "execution_count": 15,
      "outputs": [
        {
          "output_type": "execute_result",
          "data": {
            "text/plain": [
              "<matplotlib.legend.Legend at 0x7f3fd0105e90>"
            ]
          },
          "metadata": {},
          "execution_count": 15
        },
        {
          "output_type": "display_data",
          "data": {
            "text/plain": [
              "<Figure size 432x288 with 0 Axes>"
            ]
          },
          "metadata": {}
        },
        {
          "output_type": "display_data",
          "data": {
            "image/png": "[encoded data removed]",
            "text/plain": [
              "<Figure size 2160x720 with 3 Axes>"
            ]
          },
          "metadata": {
            "needs_background": "light"
          }
        }
      ]
    },
    {
      "cell_type": "markdown",
      "source": [
        "Let's see performance on the test data."
      ],
      "metadata": {
        "id": "5ft964J0EQQ7"
      }
    },
    {
      "cell_type": "code",
      "source": [
        "test_auc,test_normal_loss, test_normal_score, test_anomaly_score, test_normal_scores, test_anomaly_scores = test(test_dataloader, best_model, loss_fn, anomaly_score, draw_mode=True)"
      ],
      "metadata": {
        "id": "M1uHDtWmEQkd",
        "colab": {
          "base_uri": "https://localhost:8080/",
          "height": 685
        },
        "outputId": "bd060ea4-7a24-4f64-d0b4-eeed1e5a43c6"
      },
      "execution_count": 16,
      "outputs": [
        {
          "output_type": "stream",
          "name": "stdout",
          "text": [
            "AUC: 0.568\n",
            "normal loss : 3.7097387661755032\n"
          ]
        },
        {
          "output_type": "display_data",
          "data": {
            "image/png": "[encoded data removed]",
            "text/plain": [
              "<Figure size 720x720 with 1 Axes>"
            ]
          },
          "metadata": {
            "needs_background": "light"
          }
        }
      ]
    },
    {
      "cell_type": "markdown",
      "source": [
        "The let's see anomaly score of normal / anomaly data."
      ],
      "metadata": {
        "id": "dxYJQhrTLvic"
      }
    },
    {
      "cell_type": "code",
      "source": [
        "plt.hist(test_normal_scores, alpha = 0.8)\n",
        "plt.hist(test_anomaly_scores, alpha = 0.8)\n",
        "plt.title('Anomaly score')\n",
        "plt.xlabel('Anomaly score')\n",
        "plt.ylabel('# of data')\n",
        "plt.legend(['normal','anomaly'])\n",
        "plt.figure(figsize=(10,10))"
      ],
      "metadata": {
        "id": "VLnuYr6ILv4X",
        "outputId": "bb8546e3-75a3-4763-c2ef-36a7185883d9",
        "colab": {
          "base_uri": "https://localhost:8080/",
          "height": 359
        }
      },
      "execution_count": 17,
      "outputs": [
        {
          "output_type": "execute_result",
          "data": {
            "text/plain": [
              "<Figure size 720x720 with 0 Axes>"
            ]
          },
          "metadata": {},
          "execution_count": 17
        },
        {
          "output_type": "display_data",
          "data": {
            "image/png": "[encoded data removed]",
            "text/plain": [
              "<Figure size 432x288 with 1 Axes>"
            ]
          },
          "metadata": {
            "needs_background": "light"
          }
        },
        {
          "output_type": "display_data",
          "data": {
            "text/plain": [
              "<Figure size 720x720 with 0 Axes>"
            ]
          },
          "metadata": {}
        }
      ]
    },
    {
      "cell_type": "markdown",
      "source": [
        "Below code plots figure of the original input image and predicted probabilities."
      ],
      "metadata": {
        "id": "79YoRJlQLN12"
      }
    },
    {
      "cell_type": "code",
      "source": [
        "n = 20\n",
        "plt.figure(figsize=(40, 80))\n",
        "\n",
        "for i in range(n):\n",
        "    input_image = rotate(test_dataset[i][0].to(device),test_dataset[i][3])\n",
        "    #pred_prob = torch.softmax(best_model(input_image.unsqueeze(0)),dim=1).cpu().detach().squeeze().numpy()\n",
        "\n",
        "    ax = plt.subplot(n, 2, 2*i+1)\n",
        "    plt.imshow(input_image[0].cpu())\n",
        "    plt.title('original')\n",
        "    plt.gray()\n",
        "    ax.get_xaxis().set_visible(False)\n",
        "    ax.get_yaxis().set_visible(False)\n",
        "\n",
        "    plt.tight_layout()\n",
        "\n",
        "plt.show()"
      ],
      "metadata": {
        "colab": {
          "base_uri": "https://localhost:8080/",
          "height": 1000
        },
        "id": "AlxpYoFEDpmr",
        "outputId": "00115f8c-b6f6-4ca7-b180-43c4a0b498ab"
      },
      "execution_count": 21,
      "outputs": [
        {
          "output_type": "display_data",
          "data": {
            "image/png": "[encoded data removed]",
            "text/plain": [
              "<Figure size 2880x5760 with 20 Axes>"
            ]
          },
          "metadata": {
            "needs_background": "light"
          }
        }
      ]
    },
    {
      "cell_type": "code",
      "source": [
        "n = 20\n",
        "plt.figure(figsize=(40, 80))\n",
        "\n",
        "for i in range(n):\n",
        "    input_image = rotate(test_dataset[i][0].to(device),test_dataset[i][3])\n",
        "    #pred_prob = torch.softmax(best_model(input_image.unsqueeze(0)),dim=1).cpu().detach().squeeze().numpy()\n",
        "\n",
        "    ax = plt.subplot(n, 2, 2*i+1)\n",
        "    plt.imshow(input_image[0].cpu())\n",
        "    plt.title('original')\n",
        "    plt.gray()\n",
        "    ax.get_xaxis().set_visible(False)\n",
        "    ax.get_yaxis().set_visible(False)\n",
        "    pred_prob = torch.softmax(best_model(input_image.unsqueeze(0)),dim=1).cpu().detach().squeeze().numpy()\n",
        "    ax2 = plt.subplot(n, 2, 2*i+2)\n",
        "    ax2.set_ylim([0,1])\n",
        "    classify_as = np.array(list(range(ANOMALY_NUM)) + list(range(ANOMALY_NUM+1,9)))\n",
        "    plt.bar(classify_as, pred_prob, width = 0.5, tick_label = [str(i) for i in classify_as])\n",
        "    #plt.imshow(output_image[0].squeeze().detach().cpu())\n",
        "    plt.title('predicted probability')\n",
        "    plt.tight_layout()\n",
        "\n",
        "plt.show()"
      ],
      "metadata": {
        "id": "ozhPM2pOLZJF",
        "colab": {
          "base_uri": "https://localhost:8080/",
          "height": 647
        },
        "outputId": "1ce1eeb1-1c5a-46ff-a59f-d8e6c8e083b2"
      },
      "execution_count": 20,
      "outputs": [
        {
          "output_type": "error",
          "ename": "RuntimeError",
          "evalue": "ignored",
          "traceback": [
            "\u001b[0;31m---------------------------------------------------------------------------\u001b[0m",
            "\u001b[0;31mRuntimeError\u001b[0m                              Traceback (most recent call last)",
            "\u001b[0;32m<ipython-input-20-f8267dbcefab>\u001b[0m in \u001b[0;36m<module>\u001b[0;34m()\u001b[0m\n\u001b[1;32m     12\u001b[0m     \u001b[0max\u001b[0m\u001b[0;34m.\u001b[0m\u001b[0mget_xaxis\u001b[0m\u001b[0;34m(\u001b[0m\u001b[0;34m)\u001b[0m\u001b[0;34m.\u001b[0m\u001b[0mset_visible\u001b[0m\u001b[0;34m(\u001b[0m\u001b[0;32mFalse\u001b[0m\u001b[0;34m)\u001b[0m\u001b[0;34m\u001b[0m\u001b[0;34m\u001b[0m\u001b[0m\n\u001b[1;32m     13\u001b[0m     \u001b[0max\u001b[0m\u001b[0;34m.\u001b[0m\u001b[0mget_yaxis\u001b[0m\u001b[0;34m(\u001b[0m\u001b[0;34m)\u001b[0m\u001b[0;34m.\u001b[0m\u001b[0mset_visible\u001b[0m\u001b[0;34m(\u001b[0m\u001b[0;32mFalse\u001b[0m\u001b[0;34m)\u001b[0m\u001b[0;34m\u001b[0m\u001b[0;34m\u001b[0m\u001b[0m\n\u001b[0;32m---> 14\u001b[0;31m     \u001b[0mpred_prob\u001b[0m \u001b[0;34m=\u001b[0m \u001b[0mtorch\u001b[0m\u001b[0;34m.\u001b[0m\u001b[0msoftmax\u001b[0m\u001b[0;34m(\u001b[0m\u001b[0mbest_model\u001b[0m\u001b[0;34m(\u001b[0m\u001b[0minput_image\u001b[0m\u001b[0;34m.\u001b[0m\u001b[0munsqueeze\u001b[0m\u001b[0;34m(\u001b[0m\u001b[0;36m0\u001b[0m\u001b[0;34m)\u001b[0m\u001b[0;34m)\u001b[0m\u001b[0;34m,\u001b[0m\u001b[0mdim\u001b[0m\u001b[0;34m=\u001b[0m\u001b[0;36m1\u001b[0m\u001b[0;34m)\u001b[0m\u001b[0;34m.\u001b[0m\u001b[0mcpu\u001b[0m\u001b[0;34m(\u001b[0m\u001b[0;34m)\u001b[0m\u001b[0;34m.\u001b[0m\u001b[0mdetach\u001b[0m\u001b[0;34m(\u001b[0m\u001b[0;34m)\u001b[0m\u001b[0;34m.\u001b[0m\u001b[0msqueeze\u001b[0m\u001b[0;34m(\u001b[0m\u001b[0;34m)\u001b[0m\u001b[0;34m.\u001b[0m\u001b[0mnumpy\u001b[0m\u001b[0;34m(\u001b[0m\u001b[0;34m)\u001b[0m\u001b[0;34m\u001b[0m\u001b[0;34m\u001b[0m\u001b[0m\n\u001b[0m\u001b[1;32m     15\u001b[0m     \u001b[0max2\u001b[0m \u001b[0;34m=\u001b[0m \u001b[0mplt\u001b[0m\u001b[0;34m.\u001b[0m\u001b[0msubplot\u001b[0m\u001b[0;34m(\u001b[0m\u001b[0mn\u001b[0m\u001b[0;34m,\u001b[0m \u001b[0;36m2\u001b[0m\u001b[0;34m,\u001b[0m \u001b[0;36m2\u001b[0m\u001b[0;34m*\u001b[0m\u001b[0mi\u001b[0m\u001b[0;34m+\u001b[0m\u001b[0;36m2\u001b[0m\u001b[0;34m)\u001b[0m\u001b[0;34m\u001b[0m\u001b[0;34m\u001b[0m\u001b[0m\n\u001b[1;32m     16\u001b[0m     \u001b[0max2\u001b[0m\u001b[0;34m.\u001b[0m\u001b[0mset_ylim\u001b[0m\u001b[0;34m(\u001b[0m\u001b[0;34m[\u001b[0m\u001b[0;36m0\u001b[0m\u001b[0;34m,\u001b[0m\u001b[0;36m1\u001b[0m\u001b[0;34m]\u001b[0m\u001b[0;34m)\u001b[0m\u001b[0;34m\u001b[0m\u001b[0;34m\u001b[0m\u001b[0m\n",
            "\u001b[0;32m/usr/local/lib/python3.7/dist-packages/torch/nn/modules/module.py\u001b[0m in \u001b[0;36m_call_impl\u001b[0;34m(self, *input, **kwargs)\u001b[0m\n\u001b[1;32m   1100\u001b[0m         if not (self._backward_hooks or self._forward_hooks or self._forward_pre_hooks or _global_backward_hooks\n\u001b[1;32m   1101\u001b[0m                 or _global_forward_hooks or _global_forward_pre_hooks):\n\u001b[0;32m-> 1102\u001b[0;31m             \u001b[0;32mreturn\u001b[0m \u001b[0mforward_call\u001b[0m\u001b[0;34m(\u001b[0m\u001b[0;34m*\u001b[0m\u001b[0minput\u001b[0m\u001b[0;34m,\u001b[0m \u001b[0;34m**\u001b[0m\u001b[0mkwargs\u001b[0m\u001b[0;34m)\u001b[0m\u001b[0;34m\u001b[0m\u001b[0;34m\u001b[0m\u001b[0m\n\u001b[0m\u001b[1;32m   1103\u001b[0m         \u001b[0;31m# Do not call functions when jit is used\u001b[0m\u001b[0;34m\u001b[0m\u001b[0;34m\u001b[0m\u001b[0;34m\u001b[0m\u001b[0m\n\u001b[1;32m   1104\u001b[0m         \u001b[0mfull_backward_hooks\u001b[0m\u001b[0;34m,\u001b[0m \u001b[0mnon_full_backward_hooks\u001b[0m \u001b[0;34m=\u001b[0m \u001b[0;34m[\u001b[0m\u001b[0;34m]\u001b[0m\u001b[0;34m,\u001b[0m \u001b[0;34m[\u001b[0m\u001b[0;34m]\u001b[0m\u001b[0;34m\u001b[0m\u001b[0;34m\u001b[0m\u001b[0m\n",
            "\u001b[0;32m<ipython-input-9-254ffe1bed97>\u001b[0m in \u001b[0;36mforward\u001b[0;34m(self, x)\u001b[0m\n\u001b[1;32m     14\u001b[0m \u001b[0;34m\u001b[0m\u001b[0m\n\u001b[1;32m     15\u001b[0m     \u001b[0;32mdef\u001b[0m \u001b[0mforward\u001b[0m\u001b[0;34m(\u001b[0m\u001b[0mself\u001b[0m\u001b[0;34m,\u001b[0m \u001b[0mx\u001b[0m\u001b[0;34m)\u001b[0m\u001b[0;34m:\u001b[0m\u001b[0;34m\u001b[0m\u001b[0;34m\u001b[0m\u001b[0m\n\u001b[0;32m---> 16\u001b[0;31m         \u001b[0mout\u001b[0m \u001b[0;34m=\u001b[0m \u001b[0mself\u001b[0m\u001b[0;34m.\u001b[0m\u001b[0mfeature_extractor\u001b[0m\u001b[0;34m(\u001b[0m\u001b[0mx\u001b[0m\u001b[0;34m)\u001b[0m\u001b[0;34m\u001b[0m\u001b[0;34m\u001b[0m\u001b[0m\n\u001b[0m\u001b[1;32m     17\u001b[0m \u001b[0;34m\u001b[0m\u001b[0m\n\u001b[1;32m     18\u001b[0m         \u001b[0mout\u001b[0m \u001b[0;34m=\u001b[0m \u001b[0mout\u001b[0m\u001b[0;34m.\u001b[0m\u001b[0mreshape\u001b[0m\u001b[0;34m(\u001b[0m\u001b[0mx\u001b[0m\u001b[0;34m.\u001b[0m\u001b[0msize\u001b[0m\u001b[0;34m(\u001b[0m\u001b[0;36m0\u001b[0m\u001b[0;34m)\u001b[0m\u001b[0;34m,\u001b[0m\u001b[0;34m-\u001b[0m\u001b[0;36m1\u001b[0m\u001b[0;34m)\u001b[0m\u001b[0;34m\u001b[0m\u001b[0;34m\u001b[0m\u001b[0m\n",
            "\u001b[0;32m/usr/local/lib/python3.7/dist-packages/torch/nn/modules/module.py\u001b[0m in \u001b[0;36m_call_impl\u001b[0;34m(self, *input, **kwargs)\u001b[0m\n\u001b[1;32m   1100\u001b[0m         if not (self._backward_hooks or self._forward_hooks or self._forward_pre_hooks or _global_backward_hooks\n\u001b[1;32m   1101\u001b[0m                 or _global_forward_hooks or _global_forward_pre_hooks):\n\u001b[0;32m-> 1102\u001b[0;31m             \u001b[0;32mreturn\u001b[0m \u001b[0mforward_call\u001b[0m\u001b[0;34m(\u001b[0m\u001b[0;34m*\u001b[0m\u001b[0minput\u001b[0m\u001b[0;34m,\u001b[0m \u001b[0;34m**\u001b[0m\u001b[0mkwargs\u001b[0m\u001b[0;34m)\u001b[0m\u001b[0;34m\u001b[0m\u001b[0;34m\u001b[0m\u001b[0m\n\u001b[0m\u001b[1;32m   1103\u001b[0m         \u001b[0;31m# Do not call functions when jit is used\u001b[0m\u001b[0;34m\u001b[0m\u001b[0;34m\u001b[0m\u001b[0;34m\u001b[0m\u001b[0m\n\u001b[1;32m   1104\u001b[0m         \u001b[0mfull_backward_hooks\u001b[0m\u001b[0;34m,\u001b[0m \u001b[0mnon_full_backward_hooks\u001b[0m \u001b[0;34m=\u001b[0m \u001b[0;34m[\u001b[0m\u001b[0;34m]\u001b[0m\u001b[0;34m,\u001b[0m \u001b[0;34m[\u001b[0m\u001b[0;34m]\u001b[0m\u001b[0;34m\u001b[0m\u001b[0;34m\u001b[0m\u001b[0m\n",
            "\u001b[0;32m/usr/local/lib/python3.7/dist-packages/torch/nn/modules/container.py\u001b[0m in \u001b[0;36mforward\u001b[0;34m(self, input)\u001b[0m\n\u001b[1;32m    139\u001b[0m     \u001b[0;32mdef\u001b[0m \u001b[0mforward\u001b[0m\u001b[0;34m(\u001b[0m\u001b[0mself\u001b[0m\u001b[0;34m,\u001b[0m \u001b[0minput\u001b[0m\u001b[0;34m)\u001b[0m\u001b[0;34m:\u001b[0m\u001b[0;34m\u001b[0m\u001b[0;34m\u001b[0m\u001b[0m\n\u001b[1;32m    140\u001b[0m         \u001b[0;32mfor\u001b[0m \u001b[0mmodule\u001b[0m \u001b[0;32min\u001b[0m \u001b[0mself\u001b[0m\u001b[0;34m:\u001b[0m\u001b[0;34m\u001b[0m\u001b[0;34m\u001b[0m\u001b[0m\n\u001b[0;32m--> 141\u001b[0;31m             \u001b[0minput\u001b[0m \u001b[0;34m=\u001b[0m \u001b[0mmodule\u001b[0m\u001b[0;34m(\u001b[0m\u001b[0minput\u001b[0m\u001b[0;34m)\u001b[0m\u001b[0;34m\u001b[0m\u001b[0;34m\u001b[0m\u001b[0m\n\u001b[0m\u001b[1;32m    142\u001b[0m         \u001b[0;32mreturn\u001b[0m \u001b[0minput\u001b[0m\u001b[0;34m\u001b[0m\u001b[0;34m\u001b[0m\u001b[0m\n\u001b[1;32m    143\u001b[0m \u001b[0;34m\u001b[0m\u001b[0m\n",
            "\u001b[0;32m/usr/local/lib/python3.7/dist-packages/torch/nn/modules/module.py\u001b[0m in \u001b[0;36m_call_impl\u001b[0;34m(self, *input, **kwargs)\u001b[0m\n\u001b[1;32m   1100\u001b[0m         if not (self._backward_hooks or self._forward_hooks or self._forward_pre_hooks or _global_backward_hooks\n\u001b[1;32m   1101\u001b[0m                 or _global_forward_hooks or _global_forward_pre_hooks):\n\u001b[0;32m-> 1102\u001b[0;31m             \u001b[0;32mreturn\u001b[0m \u001b[0mforward_call\u001b[0m\u001b[0;34m(\u001b[0m\u001b[0;34m*\u001b[0m\u001b[0minput\u001b[0m\u001b[0;34m,\u001b[0m \u001b[0;34m**\u001b[0m\u001b[0mkwargs\u001b[0m\u001b[0;34m)\u001b[0m\u001b[0;34m\u001b[0m\u001b[0;34m\u001b[0m\u001b[0m\n\u001b[0m\u001b[1;32m   1103\u001b[0m         \u001b[0;31m# Do not call functions when jit is used\u001b[0m\u001b[0;34m\u001b[0m\u001b[0;34m\u001b[0m\u001b[0;34m\u001b[0m\u001b[0m\n\u001b[1;32m   1104\u001b[0m         \u001b[0mfull_backward_hooks\u001b[0m\u001b[0;34m,\u001b[0m \u001b[0mnon_full_backward_hooks\u001b[0m \u001b[0;34m=\u001b[0m \u001b[0;34m[\u001b[0m\u001b[0;34m]\u001b[0m\u001b[0;34m,\u001b[0m \u001b[0;34m[\u001b[0m\u001b[0;34m]\u001b[0m\u001b[0;34m\u001b[0m\u001b[0;34m\u001b[0m\u001b[0m\n",
            "\u001b[0;32m/usr/local/lib/python3.7/dist-packages/torch/nn/modules/conv.py\u001b[0m in \u001b[0;36mforward\u001b[0;34m(self, input)\u001b[0m\n\u001b[1;32m    444\u001b[0m \u001b[0;34m\u001b[0m\u001b[0m\n\u001b[1;32m    445\u001b[0m     \u001b[0;32mdef\u001b[0m \u001b[0mforward\u001b[0m\u001b[0;34m(\u001b[0m\u001b[0mself\u001b[0m\u001b[0;34m,\u001b[0m \u001b[0minput\u001b[0m\u001b[0;34m:\u001b[0m \u001b[0mTensor\u001b[0m\u001b[0;34m)\u001b[0m \u001b[0;34m->\u001b[0m \u001b[0mTensor\u001b[0m\u001b[0;34m:\u001b[0m\u001b[0;34m\u001b[0m\u001b[0;34m\u001b[0m\u001b[0m\n\u001b[0;32m--> 446\u001b[0;31m         \u001b[0;32mreturn\u001b[0m \u001b[0mself\u001b[0m\u001b[0;34m.\u001b[0m\u001b[0m_conv_forward\u001b[0m\u001b[0;34m(\u001b[0m\u001b[0minput\u001b[0m\u001b[0;34m,\u001b[0m \u001b[0mself\u001b[0m\u001b[0;34m.\u001b[0m\u001b[0mweight\u001b[0m\u001b[0;34m,\u001b[0m \u001b[0mself\u001b[0m\u001b[0;34m.\u001b[0m\u001b[0mbias\u001b[0m\u001b[0;34m)\u001b[0m\u001b[0;34m\u001b[0m\u001b[0;34m\u001b[0m\u001b[0m\n\u001b[0m\u001b[1;32m    447\u001b[0m \u001b[0;34m\u001b[0m\u001b[0m\n\u001b[1;32m    448\u001b[0m \u001b[0;32mclass\u001b[0m \u001b[0mConv3d\u001b[0m\u001b[0;34m(\u001b[0m\u001b[0m_ConvNd\u001b[0m\u001b[0;34m)\u001b[0m\u001b[0;34m:\u001b[0m\u001b[0;34m\u001b[0m\u001b[0;34m\u001b[0m\u001b[0m\n",
            "\u001b[0;32m/usr/local/lib/python3.7/dist-packages/torch/nn/modules/conv.py\u001b[0m in \u001b[0;36m_conv_forward\u001b[0;34m(self, input, weight, bias)\u001b[0m\n\u001b[1;32m    441\u001b[0m                             _pair(0), self.dilation, self.groups)\n\u001b[1;32m    442\u001b[0m         return F.conv2d(input, weight, bias, self.stride,\n\u001b[0;32m--> 443\u001b[0;31m                         self.padding, self.dilation, self.groups)\n\u001b[0m\u001b[1;32m    444\u001b[0m \u001b[0;34m\u001b[0m\u001b[0m\n\u001b[1;32m    445\u001b[0m     \u001b[0;32mdef\u001b[0m \u001b[0mforward\u001b[0m\u001b[0;34m(\u001b[0m\u001b[0mself\u001b[0m\u001b[0;34m,\u001b[0m \u001b[0minput\u001b[0m\u001b[0;34m:\u001b[0m \u001b[0mTensor\u001b[0m\u001b[0;34m)\u001b[0m \u001b[0;34m->\u001b[0m \u001b[0mTensor\u001b[0m\u001b[0;34m:\u001b[0m\u001b[0;34m\u001b[0m\u001b[0;34m\u001b[0m\u001b[0m\n",
            "\u001b[0;31mRuntimeError\u001b[0m: Input type (torch.FloatTensor) and weight type (torch.cuda.FloatTensor) should be the same or input should be a MKLDNN tensor and weight is a dense tensor"
          ]
        },
        {
          "output_type": "display_data",
          "data": {
            "image/png": "[encoded data removed]",
            "text/plain": [
              "<Figure size 2880x5760 with 1 Axes>"
            ]
          },
          "metadata": {
            "needs_background": "light"
          }
        }
      ]
    },
    {
      "cell_type": "markdown",
      "source": [
        "As you see, normal data (0 to 8) is predicted with a high probability compared to anomaly data (9). \n",
        "\n",
        "This means normal data have higher MSP, which is anomaly score, and anomaly data have lower MSP.\n",
        "\n",
        "Using this difference of anomaly score, anomaly detection can be done."
      ],
      "metadata": {
        "id": "KktMAEMzLenQ"
      }
    }
  ]
}