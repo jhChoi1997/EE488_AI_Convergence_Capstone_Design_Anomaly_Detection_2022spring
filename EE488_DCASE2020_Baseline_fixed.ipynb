{
  "nbformat": 4,
  "nbformat_minor": 0,
  "metadata": {
    "colab": {
      "name": "EE488_DCASE2020_Baseline.ipynb",
      "provenance": [],
      "authorship_tag": "ABX9TyO0b49IOzoSGv4QnFkKd94z",
      "include_colab_link": true
    },
    "kernelspec": {
      "name": "python3",
      "display_name": "Python 3"
    },
    "language_info": {
      "name": "python"
    },
    "accelerator": "GPU"
  },
  "cells": [
    {
      "cell_type": "markdown",
      "metadata": {
        "id": "view-in-github",
        "colab_type": "text"
      },
      "source": [
        "<a href=\"https://colab.research.google.com/github/jhChoi1997/EE488_AI_Convergence_Capstone_Design_Anomaly_Detection_2022spring/blob/main/EE488_DCASE2020_Baseline_fixed.ipynb\" target=\"_parent\"><img src=\"https://colab.research.google.com/assets/colab-badge.svg\" alt=\"Open In Colab\"/></a>"
      ]
    },
    {
      "cell_type": "code",
      "source": [
        "from google.colab import drive\n",
        "import os\n",
        "drive.mount('/content/gdrive')\n",
        "root_path = 'gdrive/MyDrive/EE488/'\n",
        "os.chdir(root_path)\n",
        "\n",
        "!unzip -qq valve.zip -d ./valve/\n",
        "!unzip -qq valve_test.zip -d ./valve_test/"
      ],
      "metadata": {
        "colab": {
          "base_uri": "https://localhost:8080/"
        },
        "id": "RMhPENWUUgLx",
        "outputId": "aec6ecde-8ec0-4633-ae93-20d9e53c5fef"
      },
      "execution_count": 1,
      "outputs": [
        {
          "output_type": "stream",
          "name": "stdout",
          "text": [
            "Mounted at /content/gdrive\n"
          ]
        }
      ]
    },
    {
      "cell_type": "code",
      "execution_count": 2,
      "metadata": {
        "id": "cmZhWEFX3S63"
      },
      "outputs": [],
      "source": [
        "import sys\n",
        "import librosa\n",
        "import librosa.core\n",
        "import librosa.feature\n",
        "import glob\n",
        "import numpy as np\n",
        "import torch\n",
        "from torch import nn\n",
        "from torch.utils.data import DataLoader, TensorDataset\n",
        "from tqdm import tqdm\n",
        "from sklearn import metrics"
      ]
    },
    {
      "cell_type": "code",
      "source": [
        "dataset_dir = './valve'\n",
        "test_dir = './valve_test'\n",
        "model_dir = './model'\n",
        "\n",
        "n_fft = 2048\n",
        "hop_length = 512\n",
        "n_mels = 128\n",
        "power = 2\n",
        "frames = 5\n",
        "\n",
        "EPOCHS = 10\n",
        "BATCH = 1024"
      ],
      "metadata": {
        "id": "SbLwdec_SJs2"
      },
      "execution_count": 12,
      "outputs": []
    },
    {
      "cell_type": "code",
      "source": [
        "def file_load(wav_name):\n",
        "  try:\n",
        "    return librosa.load(wav_name, sr=None, mono=False)\n",
        "  except:\n",
        "    print('file_broken or not exists!! : {}'.format(wav_name))\n",
        "\n",
        "\n",
        "def file_list_generator(target_dir):\n",
        "  training_list_path = os.path.abspath('{dir}/*.wav'.format(dir=target_dir))\n",
        "  files = sorted(glob.glob(training_list_path))\n",
        "  if len(files) == 0:\n",
        "    print('no_wav_file!!')\n",
        "  return files\n",
        "\n",
        "\n",
        "def file_to_vector_array(file_name, n_mels, frames, n_fft, hop_length, power):\n",
        "  dims = n_mels * frames\n",
        "\n",
        "  y, sr = file_load(file_name)\n",
        "  mel_spectrogram = librosa.feature.melspectrogram(y=y,\n",
        "                                                   sr=sr,\n",
        "                                                   n_fft=n_fft,\n",
        "                                                   hop_length=hop_length,\n",
        "                                                   n_mels=n_mels,\n",
        "                                                   power=power)\n",
        "  \n",
        "  log_mel_spectrogram = 20.0 / power * np.log10(mel_spectrogram + sys.float_info.epsilon)\n",
        "\n",
        "  vector_array_size = len(log_mel_spectrogram[0, :]) - frames + 1\n",
        "\n",
        "  if vector_array_size < 1:\n",
        "    return np.empty((0, dims))\n",
        "\n",
        "  vector_array = np.zeros((vector_array_size, dims))\n",
        "  for t in range(frames):\n",
        "    vector_array[:, n_mels * t: n_mels * (t + 1)] = log_mel_spectrogram[:, t: t + vector_array_size].T\n",
        "  \n",
        "  return vector_array\n",
        "\n",
        "\n",
        "def list_to_vector_array(file_list, n_mels, frames, n_fft, hop_length, power):\n",
        "  dims = n_mels * frames\n",
        "\n",
        "  for idx in tqdm(range(len(file_list))):\n",
        "    vector_array = file_to_vector_array(file_list[idx],\n",
        "                                        n_mels=n_mels,\n",
        "                                        frames=frames,\n",
        "                                        n_fft=n_fft,\n",
        "                                        hop_length=hop_length,\n",
        "                                        power=power)\n",
        "    if idx == 0:\n",
        "      dataset = np.zeros((vector_array.shape[0] * len(file_list), dims), float)\n",
        "    dataset[vector_array.shape[0] * idx: vector_array.shape[0] * (idx + 1), :] = vector_array\n",
        "\n",
        "  return dataset"
      ],
      "metadata": {
        "id": "SmkOg4eZRkju"
      },
      "execution_count": 4,
      "outputs": []
    },
    {
      "cell_type": "code",
      "source": [
        "os.makedirs(model_dir, exist_ok=True)\n",
        "\n",
        "dataset_dir = os.path.abspath(dataset_dir)\n",
        "machine_type = os.path.split(dataset_dir)[1]\n",
        "model_file_path = '{model}/model_{machine_type}'.format(model=model_dir, machine_type=machine_type)\n",
        "\n",
        "files = file_list_generator(dataset_dir)\n",
        "train_data = list_to_vector_array(files,\n",
        "                                  n_mels=n_mels,\n",
        "                                  frames=frames,\n",
        "                                  n_fft=n_fft,\n",
        "                                  hop_length=hop_length,\n",
        "                                  power=power)"
      ],
      "metadata": {
        "id": "CKdILljcI4Dn",
        "colab": {
          "base_uri": "https://localhost:8080/"
        },
        "outputId": "6d3e7d2e-bb2d-4530-c063-14bb800d3791"
      },
      "execution_count": 5,
      "outputs": [
        {
          "output_type": "stream",
          "name": "stderr",
          "text": [
            "100%|██████████| 3291/3291 [01:32<00:00, 35.68it/s]\n"
          ]
        }
      ]
    },
    {
      "cell_type": "code",
      "source": [
        "train_dataset = torch.Tensor(train_data)\n",
        "train_dataloader = DataLoader(train_dataset, batch_size=BATCH)\n",
        "\n",
        "device = 'cuda' if torch.cuda.is_available() else 'cpu'\n",
        "print(f'Using {device} device')"
      ],
      "metadata": {
        "colab": {
          "base_uri": "https://localhost:8080/"
        },
        "id": "CgI2t2ABQ4Ct",
        "outputId": "3975f387-6dae-467c-b497-24a4c06b6ca1"
      },
      "execution_count": 6,
      "outputs": [
        {
          "output_type": "stream",
          "name": "stdout",
          "text": [
            "Using cuda device\n"
          ]
        }
      ]
    },
    {
      "cell_type": "code",
      "source": [
        "class AutoEncoder(nn.Module):\n",
        "  def __init__(self, input_dim):\n",
        "    super(AutoEncoder, self).__init__()\n",
        "    self.input_dim = input_dim\n",
        "    self.encoder = nn.Sequential(\n",
        "        nn.Linear(self.input_dim, 128),\n",
        "        nn.BatchNorm1d(128),\n",
        "        nn.ReLU(),\n",
        "        nn.Linear(128, 128),\n",
        "        nn.BatchNorm1d(128),\n",
        "        nn.ReLU(),\n",
        "        nn.Linear(128, 128),\n",
        "        nn.BatchNorm1d(128),\n",
        "        nn.ReLU(),\n",
        "        nn.Linear(128, 128),\n",
        "        nn.BatchNorm1d(128),\n",
        "        nn.ReLU(),\n",
        "        nn.Linear(128, 8),\n",
        "        nn.BatchNorm1d(8),\n",
        "        nn.ReLU()\n",
        "    )\n",
        "    self.decoder = nn.Sequential(\n",
        "        nn.Linear(8, 128),\n",
        "        nn.BatchNorm1d(128),\n",
        "        nn.ReLU(),\n",
        "        nn.Linear(128, 128),\n",
        "        nn.BatchNorm1d(128),\n",
        "        nn.ReLU(),\n",
        "        nn.Linear(128, 128),\n",
        "        nn.BatchNorm1d(128),\n",
        "        nn.ReLU(),\n",
        "        nn.Linear(128, 128),\n",
        "        nn.BatchNorm1d(128),\n",
        "        nn.ReLU(),\n",
        "        nn.Linear(128, 128),\n",
        "        nn.BatchNorm1d(128),\n",
        "        nn.ReLU(),\n",
        "        nn.Linear(128, self.input_dim)\n",
        "    )\n",
        "\n",
        "  def forward(self, x):\n",
        "    latent = self.encoder(x)\n",
        "    output = self.decoder(latent)\n",
        "    return output"
      ],
      "metadata": {
        "id": "9r6JbMPFWpdE"
      },
      "execution_count": 7,
      "outputs": []
    },
    {
      "cell_type": "code",
      "source": [
        "model = AutoEncoder(n_mels * frames).to(device)\n",
        "print(model)"
      ],
      "metadata": {
        "colab": {
          "base_uri": "https://localhost:8080/"
        },
        "id": "kCogz9pEY75L",
        "outputId": "5081b430-a9c0-4f94-a4b3-8755969309ae"
      },
      "execution_count": 8,
      "outputs": [
        {
          "output_type": "stream",
          "name": "stdout",
          "text": [
            "AutoEncoder(\n",
            "  (encoder): Sequential(\n",
            "    (0): Linear(in_features=640, out_features=128, bias=True)\n",
            "    (1): BatchNorm1d(128, eps=1e-05, momentum=0.1, affine=True, track_running_stats=True)\n",
            "    (2): ReLU()\n",
            "    (3): Linear(in_features=128, out_features=128, bias=True)\n",
            "    (4): BatchNorm1d(128, eps=1e-05, momentum=0.1, affine=True, track_running_stats=True)\n",
            "    (5): ReLU()\n",
            "    (6): Linear(in_features=128, out_features=128, bias=True)\n",
            "    (7): BatchNorm1d(128, eps=1e-05, momentum=0.1, affine=True, track_running_stats=True)\n",
            "    (8): ReLU()\n",
            "    (9): Linear(in_features=128, out_features=128, bias=True)\n",
            "    (10): BatchNorm1d(128, eps=1e-05, momentum=0.1, affine=True, track_running_stats=True)\n",
            "    (11): ReLU()\n",
            "    (12): Linear(in_features=128, out_features=8, bias=True)\n",
            "    (13): BatchNorm1d(8, eps=1e-05, momentum=0.1, affine=True, track_running_stats=True)\n",
            "    (14): ReLU()\n",
            "  )\n",
            "  (decoder): Sequential(\n",
            "    (0): Linear(in_features=8, out_features=128, bias=True)\n",
            "    (1): BatchNorm1d(128, eps=1e-05, momentum=0.1, affine=True, track_running_stats=True)\n",
            "    (2): ReLU()\n",
            "    (3): Linear(in_features=128, out_features=128, bias=True)\n",
            "    (4): BatchNorm1d(128, eps=1e-05, momentum=0.1, affine=True, track_running_stats=True)\n",
            "    (5): ReLU()\n",
            "    (6): Linear(in_features=128, out_features=128, bias=True)\n",
            "    (7): BatchNorm1d(128, eps=1e-05, momentum=0.1, affine=True, track_running_stats=True)\n",
            "    (8): ReLU()\n",
            "    (9): Linear(in_features=128, out_features=128, bias=True)\n",
            "    (10): BatchNorm1d(128, eps=1e-05, momentum=0.1, affine=True, track_running_stats=True)\n",
            "    (11): ReLU()\n",
            "    (12): Linear(in_features=128, out_features=128, bias=True)\n",
            "    (13): BatchNorm1d(128, eps=1e-05, momentum=0.1, affine=True, track_running_stats=True)\n",
            "    (14): ReLU()\n",
            "    (15): Linear(in_features=128, out_features=640, bias=True)\n",
            "  )\n",
            ")\n"
          ]
        }
      ]
    },
    {
      "cell_type": "code",
      "source": [
        "loss_fn = nn.MSELoss()\n",
        "optimizer = torch.optim.Adam(model.parameters(), lr=1e-3)"
      ],
      "metadata": {
        "id": "qCKBIGiNaHVm"
      },
      "execution_count": 9,
      "outputs": []
    },
    {
      "cell_type": "code",
      "source": [
        "def train(dataloader, model, loss_fn, optimizer):\n",
        "  size = len(dataloader.dataset)\n",
        "  for batch, X in enumerate(dataloader):\n",
        "    X = X.to(device)\n",
        "\n",
        "    pred = model(X)\n",
        "    loss = loss_fn(pred, X)\n",
        "\n",
        "    optimizer.zero_grad()\n",
        "    loss.backward()\n",
        "    optimizer.step()\n",
        "\n",
        "    if batch % 300 == 0:\n",
        "      loss, current = loss.item(), batch * len(X)\n",
        "      print(f\"loss: {loss:>7f}  [{current:>5d}/{size:>5d}]\")"
      ],
      "metadata": {
        "id": "Rl18KCXhXi4I"
      },
      "execution_count": 10,
      "outputs": []
    },
    {
      "cell_type": "code",
      "source": [
        "for t in range(EPOCHS):\n",
        "  print(f\"Epoch {t + 1}\\n-------------------------------\")\n",
        "  train(train_dataloader, model, loss_fn, optimizer)\n"
      ],
      "metadata": {
        "colab": {
          "base_uri": "https://localhost:8080/"
        },
        "id": "kkfjDA6AYAJc",
        "outputId": "3818ad1f-c2a6-4e11-cba7-06dfa249f46d"
      },
      "execution_count": 13,
      "outputs": [
        {
          "output_type": "stream",
          "name": "stdout",
          "text": [
            "Epoch 1\n",
            "-------------------------------\n",
            "loss: 18.581091  [    0/1016919]\n",
            "loss: 15.865771  [307200/1016919]\n",
            "loss: 22.997976  [614400/1016919]\n",
            "loss: 12.144976  [921600/1016919]\n",
            "Epoch 2\n",
            "-------------------------------\n",
            "loss: 15.608582  [    0/1016919]\n",
            "loss: 13.671338  [307200/1016919]\n",
            "loss: 21.324085  [614400/1016919]\n",
            "loss: 11.277270  [921600/1016919]\n",
            "Epoch 3\n",
            "-------------------------------\n",
            "loss: 14.868581  [    0/1016919]\n",
            "loss: 13.244428  [307200/1016919]\n",
            "loss: 20.041546  [614400/1016919]\n",
            "loss: 10.913928  [921600/1016919]\n",
            "Epoch 4\n",
            "-------------------------------\n",
            "loss: 13.489589  [    0/1016919]\n",
            "loss: 12.253464  [307200/1016919]\n",
            "loss: 19.447729  [614400/1016919]\n",
            "loss: 10.671268  [921600/1016919]\n",
            "Epoch 5\n",
            "-------------------------------\n",
            "loss: 12.081840  [    0/1016919]\n",
            "loss: 11.513174  [307200/1016919]\n",
            "loss: 18.954729  [614400/1016919]\n",
            "loss: 10.464519  [921600/1016919]\n",
            "Epoch 6\n",
            "-------------------------------\n",
            "loss: 11.447602  [    0/1016919]\n",
            "loss: 11.154375  [307200/1016919]\n",
            "loss: 18.283361  [614400/1016919]\n",
            "loss: 10.292907  [921600/1016919]\n",
            "Epoch 7\n",
            "-------------------------------\n",
            "loss: 11.158868  [    0/1016919]\n",
            "loss: 11.193694  [307200/1016919]\n",
            "loss: 17.848532  [614400/1016919]\n",
            "loss: 10.188667  [921600/1016919]\n",
            "Epoch 8\n",
            "-------------------------------\n",
            "loss: 11.132817  [    0/1016919]\n",
            "loss: 11.066566  [307200/1016919]\n",
            "loss: 17.618177  [614400/1016919]\n",
            "loss: 10.156432  [921600/1016919]\n",
            "Epoch 9\n",
            "-------------------------------\n",
            "loss: 11.248732  [    0/1016919]\n",
            "loss: 11.110912  [307200/1016919]\n",
            "loss: 17.038275  [614400/1016919]\n",
            "loss: 10.029975  [921600/1016919]\n",
            "Epoch 10\n",
            "-------------------------------\n",
            "loss: 11.174690  [    0/1016919]\n",
            "loss: 11.052217  [307200/1016919]\n",
            "loss: 16.555281  [614400/1016919]\n",
            "loss: 9.886893  [921600/1016919]\n"
          ]
        }
      ]
    },
    {
      "cell_type": "code",
      "source": [
        "normal_files = sorted(glob.glob('{dir}/normal_*'.format(dir=test_dir)))\n",
        "anomaly_files = sorted(glob.glob('{dir}/anomaly_*'.format(dir=test_dir)))\n",
        "\n",
        "normal_labels = np.zeros(len(normal_files))\n",
        "anomaly_labels = np.ones(len(anomaly_files))\n",
        "\n",
        "test_files = np.concatenate((normal_files, anomaly_files), axis=0)\n",
        "y_true = np.concatenate((normal_labels, anomaly_labels), axis=0)\n",
        "y_pred = [0. for k in test_files]"
      ],
      "metadata": {
        "id": "0Xd3Tw7XG5rN"
      },
      "execution_count": 14,
      "outputs": []
    },
    {
      "cell_type": "code",
      "source": [
        "def generate_test_dataset(file_list, n_mels, frames, n_fft, hop_length, power):\n",
        "  dims = n_mels * frames\n",
        "  for idx in tqdm(range(len(file_list))):\n",
        "    vector_array = file_to_vector_array(file_list[idx],\n",
        "                                        n_mels=n_mels,\n",
        "                                        frames=frames,\n",
        "                                        n_fft=n_fft,\n",
        "                                        hop_length=hop_length,\n",
        "                                        power=power)\n",
        "    if idx == 0:\n",
        "      dataset = np.zeros((len(file_list), vector_array.shape[0], vector_array.shape[1]), float)\n",
        "    dataset[idx] = vector_array\n",
        "\n",
        "  return dataset"
      ],
      "metadata": {
        "id": "6MXdaChnKWba"
      },
      "execution_count": 15,
      "outputs": []
    },
    {
      "cell_type": "code",
      "source": [
        "test_dataset = generate_test_dataset(test_files, n_mels, frames, n_fft, hop_length, power)"
      ],
      "metadata": {
        "colab": {
          "base_uri": "https://localhost:8080/"
        },
        "id": "39i0HXGxI7dZ",
        "outputId": "8ae3af4e-b2c6-4277-f20f-fdc316eb0445"
      },
      "execution_count": null,
      "outputs": [
        {
          "output_type": "stream",
          "name": "stderr",
          "text": [
            "\r  0%|          | 0/879 [00:00<?, ?it/s]"
          ]
        }
      ]
    },
    {
      "cell_type": "code",
      "source": [
        "print(test_dataset.shape)"
      ],
      "metadata": {
        "colab": {
          "base_uri": "https://localhost:8080/"
        },
        "id": "aOreeKoLKQoE",
        "outputId": "0e195bf8-3ca8-4f84-f952-efa33c6e1843"
      },
      "execution_count": null,
      "outputs": [
        {
          "output_type": "stream",
          "name": "stdout",
          "text": [
            "(160, 309, 640)\n"
          ]
        }
      ]
    },
    {
      "cell_type": "code",
      "source": [
        "def get_anomaly_score(true, pred):\n",
        "  anomaly_score = nn.MSELoss()(true, pred)\n",
        "  return anomaly_score"
      ],
      "metadata": {
        "id": "A-jncdfOVtlA"
      },
      "execution_count": null,
      "outputs": []
    },
    {
      "cell_type": "code",
      "source": [
        "for file_idx in tqdm(range(len(test_files)), desc='test data '):\n",
        "  data = torch.tensor(test_dataset[file_idx], dtype=torch.float32).to(device)\n",
        "  output = model(data)\n",
        "\n",
        "  score = get_anomaly_score(data, output)\n",
        "  y_pred[file_idx] = score\n",
        "\n",
        "auc = metrics.roc_auc_score(y_true, y_pred)"
      ],
      "metadata": {
        "colab": {
          "base_uri": "https://localhost:8080/"
        },
        "id": "WcodftTyMLv0",
        "outputId": "2559b685-0a57-4570-cc24-366684de70a2"
      },
      "execution_count": null,
      "outputs": [
        {
          "output_type": "stream",
          "name": "stderr",
          "text": [
            "test data : 100%|██████████| 160/160 [00:00<00:00, 322.63it/s]\n",
            "/usr/local/lib/python3.7/dist-packages/sklearn/metrics/_ranking.py:546: FutureWarning: Arrays of bytes/strings is being converted to decimal numbers if dtype='numeric'. This behavior is deprecated in 0.24 and will be removed in 1.1 (renaming of 0.26). Please convert your data to numeric values explicitly instead.\n",
            "  y_score = check_array(y_score, ensure_2d=False)\n"
          ]
        }
      ]
    },
    {
      "cell_type": "code",
      "source": [
        "print(auc)"
      ],
      "metadata": {
        "colab": {
          "base_uri": "https://localhost:8080/"
        },
        "id": "11f3GTE0WV5b",
        "outputId": "f36d5513-4487-479a-c8c9-e4102ce58d92"
      },
      "execution_count": null,
      "outputs": [
        {
          "output_type": "stream",
          "name": "stdout",
          "text": [
            "0.4753125\n"
          ]
        }
      ]
    }
  ]
}