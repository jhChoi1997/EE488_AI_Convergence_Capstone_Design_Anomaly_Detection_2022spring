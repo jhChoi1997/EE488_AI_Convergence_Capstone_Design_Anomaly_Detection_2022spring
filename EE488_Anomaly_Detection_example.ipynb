{
  "nbformat": 4,
  "nbformat_minor": 0,
  "metadata": {
    "colab": {
      "name": "EE488_Anomaly_Detection_example.ipynb",
      "provenance": [],
      "authorship_tag": "ABX9TyPQJlEI/UX70L9o4Vqo/w5w",
      "include_colab_link": true
    },
    "kernelspec": {
      "name": "python3",
      "display_name": "Python 3"
    },
    "language_info": {
      "name": "python"
    }
  },
  "cells": [
    {
      "cell_type": "markdown",
      "metadata": {
        "id": "view-in-github",
        "colab_type": "text"
      },
      "source": [
        "<a href=\"https://colab.research.google.com/github/jhChoi1997/EE488_DCASE_baseline/blob/main/EE488_Anomaly_Detection_example.ipynb\" target=\"_parent\"><img src=\"https://colab.research.google.com/assets/colab-badge.svg\" alt=\"Open In Colab\"/></a>"
      ]
    },
    {
      "cell_type": "code",
      "execution_count": 8,
      "metadata": {
        "id": "MumcZakAooTj"
      },
      "outputs": [],
      "source": [
        "import tensorflow as tf\n",
        "import numpy as np\n",
        "from tensorflow.keras import datasets, layers, models, losses"
      ]
    },
    {
      "cell_type": "code",
      "source": [
        "latent_dim = 64\n",
        "EPOCHS = 10\n",
        "BATCH = 32"
      ],
      "metadata": {
        "id": "FrTQ6lp00Tn2"
      },
      "execution_count": 9,
      "outputs": []
    },
    {
      "cell_type": "code",
      "source": [
        "(train_images, train_labels), (test_images, test_labels) = datasets.mnist.load_data()\n",
        "train_images, test_images = train_images.astype('float32') / 255.0, test_images.astype('float32') / 255.0\n",
        "\n",
        "train_dataset = [train_images[i] for i, v in enumerate(train_labels) if v != 9]\n",
        "val_dataset = [test_images[i] for i, v in enumerate(test_labels) if v != 9]\n",
        "\n",
        "train_dataset = tf.data.Dataset.from_tensor_slices((train_dataset, train_dataset)).shuffle(60000).batch(BATCH, drop_remainder=True)\n",
        "val_dataset = tf.data.Dataset.from_tensor_slices((val_dataset, val_dataset)).shuffle(10000).batch(BATCH, drop_remainder=True)"
      ],
      "metadata": {
        "id": "GISJz9F5pDHg"
      },
      "execution_count": 10,
      "outputs": []
    },
    {
      "cell_type": "code",
      "source": [
        "class Autoencoder(models.Model):\n",
        "    def __init__(self, encoding_dim):\n",
        "        super(Autoencoder, self).__init__()\n",
        "        self.encoding_dim = encoding_dim\n",
        "        self.encoder = tf.keras.Sequential([\n",
        "            layers.Flatten(),\n",
        "            layers.Dense(self.encoding_dim, activation='relu')\n",
        "        ])\n",
        "        self.decoder = tf.keras.Sequential([\n",
        "            layers.Dense(784, activation='sigmoid'),\n",
        "            layers.Reshape((28, 28))\n",
        "        ])\n",
        "\n",
        "    def call(self, inputs, training=None, mask=None):\n",
        "        encoded = self.encoder(inputs)\n",
        "        decoded = self.decoder(encoded)\n",
        "        return decoded\n"
      ],
      "metadata": {
        "id": "pV8cYKeL0qG-"
      },
      "execution_count": 11,
      "outputs": []
    },
    {
      "cell_type": "code",
      "source": [
        "autoencoder = Autoencoder(latent_dim)\n",
        "\n",
        "autoencoder.compile(optimizer='adam', loss=losses.MeanSquaredError())\n",
        "\n",
        "autoencoder.fit(train_dataset,\n",
        "                epochs=EPOCHS,\n",
        "                validation_data=val_dataset)\n"
      ],
      "metadata": {
        "colab": {
          "base_uri": "https://localhost:8080/"
        },
        "id": "y-7A7K7C0tbE",
        "outputId": "a29743a8-7ab6-4f6e-d0ee-79bdc7d003bb"
      },
      "execution_count": 12,
      "outputs": [
        {
          "output_type": "stream",
          "name": "stdout",
          "text": [
            "Epoch 1/10\n",
            "1689/1689 [==============================] - 6s 3ms/step - loss: 0.0253 - val_loss: 0.0104\n",
            "Epoch 2/10\n",
            "1689/1689 [==============================] - 5s 3ms/step - loss: 0.0076 - val_loss: 0.0057\n",
            "Epoch 3/10\n",
            "1689/1689 [==============================] - 5s 3ms/step - loss: 0.0053 - val_loss: 0.0048\n",
            "Epoch 4/10\n",
            "1689/1689 [==============================] - 5s 3ms/step - loss: 0.0047 - val_loss: 0.0044\n",
            "Epoch 5/10\n",
            "1689/1689 [==============================] - 5s 3ms/step - loss: 0.0045 - val_loss: 0.0043\n",
            "Epoch 6/10\n",
            "1689/1689 [==============================] - 5s 3ms/step - loss: 0.0043 - val_loss: 0.0042\n",
            "Epoch 7/10\n",
            "1689/1689 [==============================] - 5s 3ms/step - loss: 0.0042 - val_loss: 0.0041\n",
            "Epoch 8/10\n",
            "1689/1689 [==============================] - 5s 3ms/step - loss: 0.0042 - val_loss: 0.0041\n",
            "Epoch 9/10\n",
            "1689/1689 [==============================] - 5s 3ms/step - loss: 0.0041 - val_loss: 0.0040\n",
            "Epoch 10/10\n",
            "1689/1689 [==============================] - 5s 3ms/step - loss: 0.0041 - val_loss: 0.0040\n"
          ]
        },
        {
          "output_type": "execute_result",
          "data": {
            "text/plain": [
              "<keras.callbacks.History at 0x7fa9dbd4d550>"
            ]
          },
          "metadata": {},
          "execution_count": 12
        }
      ]
    }
  ]
}