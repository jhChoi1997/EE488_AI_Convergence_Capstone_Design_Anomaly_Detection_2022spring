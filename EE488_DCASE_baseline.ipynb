{
  "nbformat": 4,
  "nbformat_minor": 0,
  "metadata": {
    "colab": {
      "name": "EE488_DCASE_baseline.ipynb",
      "provenance": [],
      "collapsed_sections": [],
      "authorship_tag": "ABX9TyPFZ+sdw6uYe8ssAdJY5RZo",
      "include_colab_link": true
    },
    "kernelspec": {
      "name": "python3",
      "display_name": "Python 3"
    },
    "language_info": {
      "name": "python"
    }
  },
  "cells": [
    {
      "cell_type": "markdown",
      "metadata": {
        "id": "view-in-github",
        "colab_type": "text"
      },
      "source": [
        "<a href=\"https://colab.research.google.com/github/jhChoi1997/EE488_DCASE_baseline/blob/main/EE488_DCASE_baseline.ipynb\" target=\"_parent\"><img src=\"https://colab.research.google.com/assets/colab-badge.svg\" alt=\"Open In Colab\"/></a>"
      ]
    },
    {
      "cell_type": "code",
      "execution_count": null,
      "metadata": {
        "id": "iQ3LErgyBqTZ"
      },
      "outputs": [],
      "source": [
        "import tensorflow as tf\n",
        "import numpy as np\n",
        "import os\n",
        "import librosa\n"
      ]
    },
    {
      "cell_type": "code",
      "source": [
        "class Visualizer(object):\n",
        "  def __init__(self):\n",
        "    self.legend = ['train', 'validation']\n",
        "    self.machine_type = []\n",
        "    self.loss_train = []\n",
        "    self.loss_val = []\n",
        "\n",
        "  def add_machine_type(self, machine_type):\n",
        "    self.machine_type.append(machine_type)\n",
        "\n",
        "  def add_train_loss(self, train_loss):\n",
        "    self.loss_train.append(train_loss)\n",
        "\n",
        "  def add_val_loss(self, val_loss):\n",
        "    self.loss_val.append(val_loss)\n",
        "\n",
        "  def plot_loss(self, train_loss, val_loss):\n",
        "    fig = plt.figure(figsize=(30, 20))\n",
        "    "
      ],
      "metadata": {
        "id": "ClJ4wXWYK_FL"
      },
      "execution_count": null,
      "outputs": []
    }
  ]
}