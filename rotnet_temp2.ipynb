{
  "nbformat": 4,
  "nbformat_minor": 0,
  "metadata": {
    "colab": {
      "name": "Introduction_to_Anomaly_Detection_Classification.ipynb",
      "provenance": [],
      "machine_shape": "hm",
      "collapsed_sections": [],
      "include_colab_link": true
    },
    "kernelspec": {
      "name": "python3",
      "display_name": "Python 3"
    },
    "language_info": {
      "name": "python"
    },
    "accelerator": "GPU",
    "widgets": {
      "application/vnd.jupyter.widget-state+json": {
        "8f15905b4ce7496aada00969891b8bea": {
          "model_module": "@jupyter-widgets/controls",
          "model_name": "HBoxModel",
          "model_module_version": "1.5.0",
          "state": {
            "_view_name": "HBoxView",
            "_dom_classes": [],
            "_model_name": "HBoxModel",
            "_view_module": "@jupyter-widgets/controls",
            "_model_module_version": "1.5.0",
            "_view_count": null,
            "_view_module_version": "1.5.0",
            "box_style": "",
            "layout": "IPY_MODEL_0d20de85b1cf4d129f58ae8ded2e7c8b",
            "_model_module": "@jupyter-widgets/controls",
            "children": [
              "IPY_MODEL_14e3aaa5e5d540788ac87c8e1e9d6e1e",
              "IPY_MODEL_bb1ea5a08d4f456c8a36d96706ab7692",
              "IPY_MODEL_49bdc4b4223247c98b76f32442ae88f2"
            ]
          }
        },
        "0d20de85b1cf4d129f58ae8ded2e7c8b": {
          "model_module": "@jupyter-widgets/base",
          "model_name": "LayoutModel",
          "model_module_version": "1.2.0",
          "state": {
            "_view_name": "LayoutView",
            "grid_template_rows": null,
            "right": null,
            "justify_content": null,
            "_view_module": "@jupyter-widgets/base",
            "overflow": null,
            "_model_module_version": "1.2.0",
            "_view_count": null,
            "flex_flow": null,
            "width": null,
            "min_width": null,
            "border": null,
            "align_items": null,
            "bottom": null,
            "_model_module": "@jupyter-widgets/base",
            "top": null,
            "grid_column": null,
            "overflow_y": null,
            "overflow_x": null,
            "grid_auto_flow": null,
            "grid_area": null,
            "grid_template_columns": null,
            "flex": null,
            "_model_name": "LayoutModel",
            "justify_items": null,
            "grid_row": null,
            "max_height": null,
            "align_content": null,
            "visibility": null,
            "align_self": null,
            "height": null,
            "min_height": null,
            "padding": null,
            "grid_auto_rows": null,
            "grid_gap": null,
            "max_width": null,
            "order": null,
            "_view_module_version": "1.2.0",
            "grid_template_areas": null,
            "object_position": null,
            "object_fit": null,
            "grid_auto_columns": null,
            "margin": null,
            "display": null,
            "left": null
          }
        },
        "14e3aaa5e5d540788ac87c8e1e9d6e1e": {
          "model_module": "@jupyter-widgets/controls",
          "model_name": "HTMLModel",
          "model_module_version": "1.5.0",
          "state": {
            "_view_name": "HTMLView",
            "style": "IPY_MODEL_dd2cf4acd67d4f10a166ddccb27720b5",
            "_dom_classes": [],
            "description": "",
            "_model_name": "HTMLModel",
            "placeholder": "​",
            "_view_module": "@jupyter-widgets/controls",
            "_model_module_version": "1.5.0",
            "value": "",
            "_view_count": null,
            "_view_module_version": "1.5.0",
            "description_tooltip": null,
            "_model_module": "@jupyter-widgets/controls",
            "layout": "IPY_MODEL_94f10c674cdd4ad1b165751136aba452"
          }
        },
        "bb1ea5a08d4f456c8a36d96706ab7692": {
          "model_module": "@jupyter-widgets/controls",
          "model_name": "FloatProgressModel",
          "model_module_version": "1.5.0",
          "state": {
            "_view_name": "ProgressView",
            "style": "IPY_MODEL_a0f209fe1de444efb1e96b876e0bf405",
            "_dom_classes": [],
            "description": "",
            "_model_name": "FloatProgressModel",
            "bar_style": "success",
            "max": 9912422,
            "_view_module": "@jupyter-widgets/controls",
            "_model_module_version": "1.5.0",
            "value": 9912422,
            "_view_count": null,
            "_view_module_version": "1.5.0",
            "orientation": "horizontal",
            "min": 0,
            "description_tooltip": null,
            "_model_module": "@jupyter-widgets/controls",
            "layout": "IPY_MODEL_624f01ccdadd44a7b961d2e73f75c512"
          }
        },
        "49bdc4b4223247c98b76f32442ae88f2": {
          "model_module": "@jupyter-widgets/controls",
          "model_name": "HTMLModel",
          "model_module_version": "1.5.0",
          "state": {
            "_view_name": "HTMLView",
            "style": "IPY_MODEL_9bcc5bad2be64c3496e6a1bdd3853580",
            "_dom_classes": [],
            "description": "",
            "_model_name": "HTMLModel",
            "placeholder": "​",
            "_view_module": "@jupyter-widgets/controls",
            "_model_module_version": "1.5.0",
            "value": " 9913344/? [00:00&lt;00:00, 34541985.63it/s]",
            "_view_count": null,
            "_view_module_version": "1.5.0",
            "description_tooltip": null,
            "_model_module": "@jupyter-widgets/controls",
            "layout": "IPY_MODEL_a78de7926f5540e5b7be64abb56016aa"
          }
        },
        "dd2cf4acd67d4f10a166ddccb27720b5": {
          "model_module": "@jupyter-widgets/controls",
          "model_name": "DescriptionStyleModel",
          "model_module_version": "1.5.0",
          "state": {
            "_view_name": "StyleView",
            "_model_name": "DescriptionStyleModel",
            "description_width": "",
            "_view_module": "@jupyter-widgets/base",
            "_model_module_version": "1.5.0",
            "_view_count": null,
            "_view_module_version": "1.2.0",
            "_model_module": "@jupyter-widgets/controls"
          }
        },
        "94f10c674cdd4ad1b165751136aba452": {
          "model_module": "@jupyter-widgets/base",
          "model_name": "LayoutModel",
          "model_module_version": "1.2.0",
          "state": {
            "_view_name": "LayoutView",
            "grid_template_rows": null,
            "right": null,
            "justify_content": null,
            "_view_module": "@jupyter-widgets/base",
            "overflow": null,
            "_model_module_version": "1.2.0",
            "_view_count": null,
            "flex_flow": null,
            "width": null,
            "min_width": null,
            "border": null,
            "align_items": null,
            "bottom": null,
            "_model_module": "@jupyter-widgets/base",
            "top": null,
            "grid_column": null,
            "overflow_y": null,
            "overflow_x": null,
            "grid_auto_flow": null,
            "grid_area": null,
            "grid_template_columns": null,
            "flex": null,
            "_model_name": "LayoutModel",
            "justify_items": null,
            "grid_row": null,
            "max_height": null,
            "align_content": null,
            "visibility": null,
            "align_self": null,
            "height": null,
            "min_height": null,
            "padding": null,
            "grid_auto_rows": null,
            "grid_gap": null,
            "max_width": null,
            "order": null,
            "_view_module_version": "1.2.0",
            "grid_template_areas": null,
            "object_position": null,
            "object_fit": null,
            "grid_auto_columns": null,
            "margin": null,
            "display": null,
            "left": null
          }
        },
        "a0f209fe1de444efb1e96b876e0bf405": {
          "model_module": "@jupyter-widgets/controls",
          "model_name": "ProgressStyleModel",
          "model_module_version": "1.5.0",
          "state": {
            "_view_name": "StyleView",
            "_model_name": "ProgressStyleModel",
            "description_width": "",
            "_view_module": "@jupyter-widgets/base",
            "_model_module_version": "1.5.0",
            "_view_count": null,
            "_view_module_version": "1.2.0",
            "bar_color": null,
            "_model_module": "@jupyter-widgets/controls"
          }
        },
        "624f01ccdadd44a7b961d2e73f75c512": {
          "model_module": "@jupyter-widgets/base",
          "model_name": "LayoutModel",
          "model_module_version": "1.2.0",
          "state": {
            "_view_name": "LayoutView",
            "grid_template_rows": null,
            "right": null,
            "justify_content": null,
            "_view_module": "@jupyter-widgets/base",
            "overflow": null,
            "_model_module_version": "1.2.0",
            "_view_count": null,
            "flex_flow": null,
            "width": null,
            "min_width": null,
            "border": null,
            "align_items": null,
            "bottom": null,
            "_model_module": "@jupyter-widgets/base",
            "top": null,
            "grid_column": null,
            "overflow_y": null,
            "overflow_x": null,
            "grid_auto_flow": null,
            "grid_area": null,
            "grid_template_columns": null,
            "flex": null,
            "_model_name": "LayoutModel",
            "justify_items": null,
            "grid_row": null,
            "max_height": null,
            "align_content": null,
            "visibility": null,
            "align_self": null,
            "height": null,
            "min_height": null,
            "padding": null,
            "grid_auto_rows": null,
            "grid_gap": null,
            "max_width": null,
            "order": null,
            "_view_module_version": "1.2.0",
            "grid_template_areas": null,
            "object_position": null,
            "object_fit": null,
            "grid_auto_columns": null,
            "margin": null,
            "display": null,
            "left": null
          }
        },
        "9bcc5bad2be64c3496e6a1bdd3853580": {
          "model_module": "@jupyter-widgets/controls",
          "model_name": "DescriptionStyleModel",
          "model_module_version": "1.5.0",
          "state": {
            "_view_name": "StyleView",
            "_model_name": "DescriptionStyleModel",
            "description_width": "",
            "_view_module": "@jupyter-widgets/base",
            "_model_module_version": "1.5.0",
            "_view_count": null,
            "_view_module_version": "1.2.0",
            "_model_module": "@jupyter-widgets/controls"
          }
        },
        "a78de7926f5540e5b7be64abb56016aa": {
          "model_module": "@jupyter-widgets/base",
          "model_name": "LayoutModel",
          "model_module_version": "1.2.0",
          "state": {
            "_view_name": "LayoutView",
            "grid_template_rows": null,
            "right": null,
            "justify_content": null,
            "_view_module": "@jupyter-widgets/base",
            "overflow": null,
            "_model_module_version": "1.2.0",
            "_view_count": null,
            "flex_flow": null,
            "width": null,
            "min_width": null,
            "border": null,
            "align_items": null,
            "bottom": null,
            "_model_module": "@jupyter-widgets/base",
            "top": null,
            "grid_column": null,
            "overflow_y": null,
            "overflow_x": null,
            "grid_auto_flow": null,
            "grid_area": null,
            "grid_template_columns": null,
            "flex": null,
            "_model_name": "LayoutModel",
            "justify_items": null,
            "grid_row": null,
            "max_height": null,
            "align_content": null,
            "visibility": null,
            "align_self": null,
            "height": null,
            "min_height": null,
            "padding": null,
            "grid_auto_rows": null,
            "grid_gap": null,
            "max_width": null,
            "order": null,
            "_view_module_version": "1.2.0",
            "grid_template_areas": null,
            "object_position": null,
            "object_fit": null,
            "grid_auto_columns": null,
            "margin": null,
            "display": null,
            "left": null
          }
        },
        "cedd16e03cec4a27a0d5e3f14594a25b": {
          "model_module": "@jupyter-widgets/controls",
          "model_name": "HBoxModel",
          "model_module_version": "1.5.0",
          "state": {
            "_view_name": "HBoxView",
            "_dom_classes": [],
            "_model_name": "HBoxModel",
            "_view_module": "@jupyter-widgets/controls",
            "_model_module_version": "1.5.0",
            "_view_count": null,
            "_view_module_version": "1.5.0",
            "box_style": "",
            "layout": "IPY_MODEL_9f255773ff1e4bf1babed3bd4ebdd245",
            "_model_module": "@jupyter-widgets/controls",
            "children": [
              "IPY_MODEL_ee431a03ff094322b05fbfaf8b5faf30",
              "IPY_MODEL_c8e018b1353346418e26acfed3991e4a",
              "IPY_MODEL_4dc71cd9491e4c758f04bcc386f4c6f7"
            ]
          }
        },
        "9f255773ff1e4bf1babed3bd4ebdd245": {
          "model_module": "@jupyter-widgets/base",
          "model_name": "LayoutModel",
          "model_module_version": "1.2.0",
          "state": {
            "_view_name": "LayoutView",
            "grid_template_rows": null,
            "right": null,
            "justify_content": null,
            "_view_module": "@jupyter-widgets/base",
            "overflow": null,
            "_model_module_version": "1.2.0",
            "_view_count": null,
            "flex_flow": null,
            "width": null,
            "min_width": null,
            "border": null,
            "align_items": null,
            "bottom": null,
            "_model_module": "@jupyter-widgets/base",
            "top": null,
            "grid_column": null,
            "overflow_y": null,
            "overflow_x": null,
            "grid_auto_flow": null,
            "grid_area": null,
            "grid_template_columns": null,
            "flex": null,
            "_model_name": "LayoutModel",
            "justify_items": null,
            "grid_row": null,
            "max_height": null,
            "align_content": null,
            "visibility": null,
            "align_self": null,
            "height": null,
            "min_height": null,
            "padding": null,
            "grid_auto_rows": null,
            "grid_gap": null,
            "max_width": null,
            "order": null,
            "_view_module_version": "1.2.0",
            "grid_template_areas": null,
            "object_position": null,
            "object_fit": null,
            "grid_auto_columns": null,
            "margin": null,
            "display": null,
            "left": null
          }
        },
        "ee431a03ff094322b05fbfaf8b5faf30": {
          "model_module": "@jupyter-widgets/controls",
          "model_name": "HTMLModel",
          "model_module_version": "1.5.0",
          "state": {
            "_view_name": "HTMLView",
            "style": "IPY_MODEL_66d7ca0510ad4ca8a075831fdc3d805e",
            "_dom_classes": [],
            "description": "",
            "_model_name": "HTMLModel",
            "placeholder": "​",
            "_view_module": "@jupyter-widgets/controls",
            "_model_module_version": "1.5.0",
            "value": "",
            "_view_count": null,
            "_view_module_version": "1.5.0",
            "description_tooltip": null,
            "_model_module": "@jupyter-widgets/controls",
            "layout": "IPY_MODEL_050443baa4fb4ccbb744482bf223a748"
          }
        },
        "c8e018b1353346418e26acfed3991e4a": {
          "model_module": "@jupyter-widgets/controls",
          "model_name": "FloatProgressModel",
          "model_module_version": "1.5.0",
          "state": {
            "_view_name": "ProgressView",
            "style": "IPY_MODEL_7c33a7b81969496d8df6f790aee39c85",
            "_dom_classes": [],
            "description": "",
            "_model_name": "FloatProgressModel",
            "bar_style": "success",
            "max": 28881,
            "_view_module": "@jupyter-widgets/controls",
            "_model_module_version": "1.5.0",
            "value": 28881,
            "_view_count": null,
            "_view_module_version": "1.5.0",
            "orientation": "horizontal",
            "min": 0,
            "description_tooltip": null,
            "_model_module": "@jupyter-widgets/controls",
            "layout": "IPY_MODEL_aca563e2cfa34a2db0ddfffe9782689f"
          }
        },
        "4dc71cd9491e4c758f04bcc386f4c6f7": {
          "model_module": "@jupyter-widgets/controls",
          "model_name": "HTMLModel",
          "model_module_version": "1.5.0",
          "state": {
            "_view_name": "HTMLView",
            "style": "IPY_MODEL_77f2d78cdfda4c84ae82a76e77bb40b1",
            "_dom_classes": [],
            "description": "",
            "_model_name": "HTMLModel",
            "placeholder": "​",
            "_view_module": "@jupyter-widgets/controls",
            "_model_module_version": "1.5.0",
            "value": " 29696/? [00:00&lt;00:00, 726571.96it/s]",
            "_view_count": null,
            "_view_module_version": "1.5.0",
            "description_tooltip": null,
            "_model_module": "@jupyter-widgets/controls",
            "layout": "IPY_MODEL_33fe16bab7654b03a07f2b0deb9e06b1"
          }
        },
        "66d7ca0510ad4ca8a075831fdc3d805e": {
          "model_module": "@jupyter-widgets/controls",
          "model_name": "DescriptionStyleModel",
          "model_module_version": "1.5.0",
          "state": {
            "_view_name": "StyleView",
            "_model_name": "DescriptionStyleModel",
            "description_width": "",
            "_view_module": "@jupyter-widgets/base",
            "_model_module_version": "1.5.0",
            "_view_count": null,
            "_view_module_version": "1.2.0",
            "_model_module": "@jupyter-widgets/controls"
          }
        },
        "050443baa4fb4ccbb744482bf223a748": {
          "model_module": "@jupyter-widgets/base",
          "model_name": "LayoutModel",
          "model_module_version": "1.2.0",
          "state": {
            "_view_name": "LayoutView",
            "grid_template_rows": null,
            "right": null,
            "justify_content": null,
            "_view_module": "@jupyter-widgets/base",
            "overflow": null,
            "_model_module_version": "1.2.0",
            "_view_count": null,
            "flex_flow": null,
            "width": null,
            "min_width": null,
            "border": null,
            "align_items": null,
            "bottom": null,
            "_model_module": "@jupyter-widgets/base",
            "top": null,
            "grid_column": null,
            "overflow_y": null,
            "overflow_x": null,
            "grid_auto_flow": null,
            "grid_area": null,
            "grid_template_columns": null,
            "flex": null,
            "_model_name": "LayoutModel",
            "justify_items": null,
            "grid_row": null,
            "max_height": null,
            "align_content": null,
            "visibility": null,
            "align_self": null,
            "height": null,
            "min_height": null,
            "padding": null,
            "grid_auto_rows": null,
            "grid_gap": null,
            "max_width": null,
            "order": null,
            "_view_module_version": "1.2.0",
            "grid_template_areas": null,
            "object_position": null,
            "object_fit": null,
            "grid_auto_columns": null,
            "margin": null,
            "display": null,
            "left": null
          }
        },
        "7c33a7b81969496d8df6f790aee39c85": {
          "model_module": "@jupyter-widgets/controls",
          "model_name": "ProgressStyleModel",
          "model_module_version": "1.5.0",
          "state": {
            "_view_name": "StyleView",
            "_model_name": "ProgressStyleModel",
            "description_width": "",
            "_view_module": "@jupyter-widgets/base",
            "_model_module_version": "1.5.0",
            "_view_count": null,
            "_view_module_version": "1.2.0",
            "bar_color": null,
            "_model_module": "@jupyter-widgets/controls"
          }
        },
        "aca563e2cfa34a2db0ddfffe9782689f": {
          "model_module": "@jupyter-widgets/base",
          "model_name": "LayoutModel",
          "model_module_version": "1.2.0",
          "state": {
            "_view_name": "LayoutView",
            "grid_template_rows": null,
            "right": null,
            "justify_content": null,
            "_view_module": "@jupyter-widgets/base",
            "overflow": null,
            "_model_module_version": "1.2.0",
            "_view_count": null,
            "flex_flow": null,
            "width": null,
            "min_width": null,
            "border": null,
            "align_items": null,
            "bottom": null,
            "_model_module": "@jupyter-widgets/base",
            "top": null,
            "grid_column": null,
            "overflow_y": null,
            "overflow_x": null,
            "grid_auto_flow": null,
            "grid_area": null,
            "grid_template_columns": null,
            "flex": null,
            "_model_name": "LayoutModel",
            "justify_items": null,
            "grid_row": null,
            "max_height": null,
            "align_content": null,
            "visibility": null,
            "align_self": null,
            "height": null,
            "min_height": null,
            "padding": null,
            "grid_auto_rows": null,
            "grid_gap": null,
            "max_width": null,
            "order": null,
            "_view_module_version": "1.2.0",
            "grid_template_areas": null,
            "object_position": null,
            "object_fit": null,
            "grid_auto_columns": null,
            "margin": null,
            "display": null,
            "left": null
          }
        },
        "77f2d78cdfda4c84ae82a76e77bb40b1": {
          "model_module": "@jupyter-widgets/controls",
          "model_name": "DescriptionStyleModel",
          "model_module_version": "1.5.0",
          "state": {
            "_view_name": "StyleView",
            "_model_name": "DescriptionStyleModel",
            "description_width": "",
            "_view_module": "@jupyter-widgets/base",
            "_model_module_version": "1.5.0",
            "_view_count": null,
            "_view_module_version": "1.2.0",
            "_model_module": "@jupyter-widgets/controls"
          }
        },
        "33fe16bab7654b03a07f2b0deb9e06b1": {
          "model_module": "@jupyter-widgets/base",
          "model_name": "LayoutModel",
          "model_module_version": "1.2.0",
          "state": {
            "_view_name": "LayoutView",
            "grid_template_rows": null,
            "right": null,
            "justify_content": null,
            "_view_module": "@jupyter-widgets/base",
            "overflow": null,
            "_model_module_version": "1.2.0",
            "_view_count": null,
            "flex_flow": null,
            "width": null,
            "min_width": null,
            "border": null,
            "align_items": null,
            "bottom": null,
            "_model_module": "@jupyter-widgets/base",
            "top": null,
            "grid_column": null,
            "overflow_y": null,
            "overflow_x": null,
            "grid_auto_flow": null,
            "grid_area": null,
            "grid_template_columns": null,
            "flex": null,
            "_model_name": "LayoutModel",
            "justify_items": null,
            "grid_row": null,
            "max_height": null,
            "align_content": null,
            "visibility": null,
            "align_self": null,
            "height": null,
            "min_height": null,
            "padding": null,
            "grid_auto_rows": null,
            "grid_gap": null,
            "max_width": null,
            "order": null,
            "_view_module_version": "1.2.0",
            "grid_template_areas": null,
            "object_position": null,
            "object_fit": null,
            "grid_auto_columns": null,
            "margin": null,
            "display": null,
            "left": null
          }
        },
        "73df3d4fdbc74f528db722823f260837": {
          "model_module": "@jupyter-widgets/controls",
          "model_name": "HBoxModel",
          "model_module_version": "1.5.0",
          "state": {
            "_view_name": "HBoxView",
            "_dom_classes": [],
            "_model_name": "HBoxModel",
            "_view_module": "@jupyter-widgets/controls",
            "_model_module_version": "1.5.0",
            "_view_count": null,
            "_view_module_version": "1.5.0",
            "box_style": "",
            "layout": "IPY_MODEL_57c807e2a9df4ed495a6e064163d9833",
            "_model_module": "@jupyter-widgets/controls",
            "children": [
              "IPY_MODEL_7d263cd38354472db47ee2a6e910f4fb",
              "IPY_MODEL_08ffe0046b3348f595e42428dffbc3cc",
              "IPY_MODEL_e44ccc3622d547ee9c7bbbee1bc27887"
            ]
          }
        },
        "57c807e2a9df4ed495a6e064163d9833": {
          "model_module": "@jupyter-widgets/base",
          "model_name": "LayoutModel",
          "model_module_version": "1.2.0",
          "state": {
            "_view_name": "LayoutView",
            "grid_template_rows": null,
            "right": null,
            "justify_content": null,
            "_view_module": "@jupyter-widgets/base",
            "overflow": null,
            "_model_module_version": "1.2.0",
            "_view_count": null,
            "flex_flow": null,
            "width": null,
            "min_width": null,
            "border": null,
            "align_items": null,
            "bottom": null,
            "_model_module": "@jupyter-widgets/base",
            "top": null,
            "grid_column": null,
            "overflow_y": null,
            "overflow_x": null,
            "grid_auto_flow": null,
            "grid_area": null,
            "grid_template_columns": null,
            "flex": null,
            "_model_name": "LayoutModel",
            "justify_items": null,
            "grid_row": null,
            "max_height": null,
            "align_content": null,
            "visibility": null,
            "align_self": null,
            "height": null,
            "min_height": null,
            "padding": null,
            "grid_auto_rows": null,
            "grid_gap": null,
            "max_width": null,
            "order": null,
            "_view_module_version": "1.2.0",
            "grid_template_areas": null,
            "object_position": null,
            "object_fit": null,
            "grid_auto_columns": null,
            "margin": null,
            "display": null,
            "left": null
          }
        },
        "7d263cd38354472db47ee2a6e910f4fb": {
          "model_module": "@jupyter-widgets/controls",
          "model_name": "HTMLModel",
          "model_module_version": "1.5.0",
          "state": {
            "_view_name": "HTMLView",
            "style": "IPY_MODEL_c72148bdbc574907aee4ff06cd6d7ba1",
            "_dom_classes": [],
            "description": "",
            "_model_name": "HTMLModel",
            "placeholder": "​",
            "_view_module": "@jupyter-widgets/controls",
            "_model_module_version": "1.5.0",
            "value": "",
            "_view_count": null,
            "_view_module_version": "1.5.0",
            "description_tooltip": null,
            "_model_module": "@jupyter-widgets/controls",
            "layout": "IPY_MODEL_da3a0f775525496c870bf96a43fe1f94"
          }
        },
        "08ffe0046b3348f595e42428dffbc3cc": {
          "model_module": "@jupyter-widgets/controls",
          "model_name": "FloatProgressModel",
          "model_module_version": "1.5.0",
          "state": {
            "_view_name": "ProgressView",
            "style": "IPY_MODEL_c06e1c28888f42188ef6be4aa1afb998",
            "_dom_classes": [],
            "description": "",
            "_model_name": "FloatProgressModel",
            "bar_style": "success",
            "max": 1648877,
            "_view_module": "@jupyter-widgets/controls",
            "_model_module_version": "1.5.0",
            "value": 1648877,
            "_view_count": null,
            "_view_module_version": "1.5.0",
            "orientation": "horizontal",
            "min": 0,
            "description_tooltip": null,
            "_model_module": "@jupyter-widgets/controls",
            "layout": "IPY_MODEL_b72a7993f0a34be6bf3e2b0dc6c8df0b"
          }
        },
        "e44ccc3622d547ee9c7bbbee1bc27887": {
          "model_module": "@jupyter-widgets/controls",
          "model_name": "HTMLModel",
          "model_module_version": "1.5.0",
          "state": {
            "_view_name": "HTMLView",
            "style": "IPY_MODEL_a7055b49f3124f44bb3f048e0e86bdab",
            "_dom_classes": [],
            "description": "",
            "_model_name": "HTMLModel",
            "placeholder": "​",
            "_view_module": "@jupyter-widgets/controls",
            "_model_module_version": "1.5.0",
            "value": " 1649664/? [00:00&lt;00:00, 4980584.61it/s]",
            "_view_count": null,
            "_view_module_version": "1.5.0",
            "description_tooltip": null,
            "_model_module": "@jupyter-widgets/controls",
            "layout": "IPY_MODEL_7cb1bc89970840c7a1bde03603e15545"
          }
        },
        "c72148bdbc574907aee4ff06cd6d7ba1": {
          "model_module": "@jupyter-widgets/controls",
          "model_name": "DescriptionStyleModel",
          "model_module_version": "1.5.0",
          "state": {
            "_view_name": "StyleView",
            "_model_name": "DescriptionStyleModel",
            "description_width": "",
            "_view_module": "@jupyter-widgets/base",
            "_model_module_version": "1.5.0",
            "_view_count": null,
            "_view_module_version": "1.2.0",
            "_model_module": "@jupyter-widgets/controls"
          }
        },
        "da3a0f775525496c870bf96a43fe1f94": {
          "model_module": "@jupyter-widgets/base",
          "model_name": "LayoutModel",
          "model_module_version": "1.2.0",
          "state": {
            "_view_name": "LayoutView",
            "grid_template_rows": null,
            "right": null,
            "justify_content": null,
            "_view_module": "@jupyter-widgets/base",
            "overflow": null,
            "_model_module_version": "1.2.0",
            "_view_count": null,
            "flex_flow": null,
            "width": null,
            "min_width": null,
            "border": null,
            "align_items": null,
            "bottom": null,
            "_model_module": "@jupyter-widgets/base",
            "top": null,
            "grid_column": null,
            "overflow_y": null,
            "overflow_x": null,
            "grid_auto_flow": null,
            "grid_area": null,
            "grid_template_columns": null,
            "flex": null,
            "_model_name": "LayoutModel",
            "justify_items": null,
            "grid_row": null,
            "max_height": null,
            "align_content": null,
            "visibility": null,
            "align_self": null,
            "height": null,
            "min_height": null,
            "padding": null,
            "grid_auto_rows": null,
            "grid_gap": null,
            "max_width": null,
            "order": null,
            "_view_module_version": "1.2.0",
            "grid_template_areas": null,
            "object_position": null,
            "object_fit": null,
            "grid_auto_columns": null,
            "margin": null,
            "display": null,
            "left": null
          }
        },
        "c06e1c28888f42188ef6be4aa1afb998": {
          "model_module": "@jupyter-widgets/controls",
          "model_name": "ProgressStyleModel",
          "model_module_version": "1.5.0",
          "state": {
            "_view_name": "StyleView",
            "_model_name": "ProgressStyleModel",
            "description_width": "",
            "_view_module": "@jupyter-widgets/base",
            "_model_module_version": "1.5.0",
            "_view_count": null,
            "_view_module_version": "1.2.0",
            "bar_color": null,
            "_model_module": "@jupyter-widgets/controls"
          }
        },
        "b72a7993f0a34be6bf3e2b0dc6c8df0b": {
          "model_module": "@jupyter-widgets/base",
          "model_name": "LayoutModel",
          "model_module_version": "1.2.0",
          "state": {
            "_view_name": "LayoutView",
            "grid_template_rows": null,
            "right": null,
            "justify_content": null,
            "_view_module": "@jupyter-widgets/base",
            "overflow": null,
            "_model_module_version": "1.2.0",
            "_view_count": null,
            "flex_flow": null,
            "width": null,
            "min_width": null,
            "border": null,
            "align_items": null,
            "bottom": null,
            "_model_module": "@jupyter-widgets/base",
            "top": null,
            "grid_column": null,
            "overflow_y": null,
            "overflow_x": null,
            "grid_auto_flow": null,
            "grid_area": null,
            "grid_template_columns": null,
            "flex": null,
            "_model_name": "LayoutModel",
            "justify_items": null,
            "grid_row": null,
            "max_height": null,
            "align_content": null,
            "visibility": null,
            "align_self": null,
            "height": null,
            "min_height": null,
            "padding": null,
            "grid_auto_rows": null,
            "grid_gap": null,
            "max_width": null,
            "order": null,
            "_view_module_version": "1.2.0",
            "grid_template_areas": null,
            "object_position": null,
            "object_fit": null,
            "grid_auto_columns": null,
            "margin": null,
            "display": null,
            "left": null
          }
        },
        "a7055b49f3124f44bb3f048e0e86bdab": {
          "model_module": "@jupyter-widgets/controls",
          "model_name": "DescriptionStyleModel",
          "model_module_version": "1.5.0",
          "state": {
            "_view_name": "StyleView",
            "_model_name": "DescriptionStyleModel",
            "description_width": "",
            "_view_module": "@jupyter-widgets/base",
            "_model_module_version": "1.5.0",
            "_view_count": null,
            "_view_module_version": "1.2.0",
            "_model_module": "@jupyter-widgets/controls"
          }
        },
        "7cb1bc89970840c7a1bde03603e15545": {
          "model_module": "@jupyter-widgets/base",
          "model_name": "LayoutModel",
          "model_module_version": "1.2.0",
          "state": {
            "_view_name": "LayoutView",
            "grid_template_rows": null,
            "right": null,
            "justify_content": null,
            "_view_module": "@jupyter-widgets/base",
            "overflow": null,
            "_model_module_version": "1.2.0",
            "_view_count": null,
            "flex_flow": null,
            "width": null,
            "min_width": null,
            "border": null,
            "align_items": null,
            "bottom": null,
            "_model_module": "@jupyter-widgets/base",
            "top": null,
            "grid_column": null,
            "overflow_y": null,
            "overflow_x": null,
            "grid_auto_flow": null,
            "grid_area": null,
            "grid_template_columns": null,
            "flex": null,
            "_model_name": "LayoutModel",
            "justify_items": null,
            "grid_row": null,
            "max_height": null,
            "align_content": null,
            "visibility": null,
            "align_self": null,
            "height": null,
            "min_height": null,
            "padding": null,
            "grid_auto_rows": null,
            "grid_gap": null,
            "max_width": null,
            "order": null,
            "_view_module_version": "1.2.0",
            "grid_template_areas": null,
            "object_position": null,
            "object_fit": null,
            "grid_auto_columns": null,
            "margin": null,
            "display": null,
            "left": null
          }
        },
        "c63353e933c149af8936a5183600273d": {
          "model_module": "@jupyter-widgets/controls",
          "model_name": "HBoxModel",
          "model_module_version": "1.5.0",
          "state": {
            "_view_name": "HBoxView",
            "_dom_classes": [],
            "_model_name": "HBoxModel",
            "_view_module": "@jupyter-widgets/controls",
            "_model_module_version": "1.5.0",
            "_view_count": null,
            "_view_module_version": "1.5.0",
            "box_style": "",
            "layout": "IPY_MODEL_504b82b4c26747d7b964b1f5e43e69f4",
            "_model_module": "@jupyter-widgets/controls",
            "children": [
              "IPY_MODEL_b1a39941b4c346809fd95733e3921c50",
              "IPY_MODEL_8143703b2fb846ab877ceb0e8c430a22",
              "IPY_MODEL_21be63d111cc43cdb32cd40e6ba1f173"
            ]
          }
        },
        "504b82b4c26747d7b964b1f5e43e69f4": {
          "model_module": "@jupyter-widgets/base",
          "model_name": "LayoutModel",
          "model_module_version": "1.2.0",
          "state": {
            "_view_name": "LayoutView",
            "grid_template_rows": null,
            "right": null,
            "justify_content": null,
            "_view_module": "@jupyter-widgets/base",
            "overflow": null,
            "_model_module_version": "1.2.0",
            "_view_count": null,
            "flex_flow": null,
            "width": null,
            "min_width": null,
            "border": null,
            "align_items": null,
            "bottom": null,
            "_model_module": "@jupyter-widgets/base",
            "top": null,
            "grid_column": null,
            "overflow_y": null,
            "overflow_x": null,
            "grid_auto_flow": null,
            "grid_area": null,
            "grid_template_columns": null,
            "flex": null,
            "_model_name": "LayoutModel",
            "justify_items": null,
            "grid_row": null,
            "max_height": null,
            "align_content": null,
            "visibility": null,
            "align_self": null,
            "height": null,
            "min_height": null,
            "padding": null,
            "grid_auto_rows": null,
            "grid_gap": null,
            "max_width": null,
            "order": null,
            "_view_module_version": "1.2.0",
            "grid_template_areas": null,
            "object_position": null,
            "object_fit": null,
            "grid_auto_columns": null,
            "margin": null,
            "display": null,
            "left": null
          }
        },
        "b1a39941b4c346809fd95733e3921c50": {
          "model_module": "@jupyter-widgets/controls",
          "model_name": "HTMLModel",
          "model_module_version": "1.5.0",
          "state": {
            "_view_name": "HTMLView",
            "style": "IPY_MODEL_177b0507ac874c2781e55c2cf1b0c983",
            "_dom_classes": [],
            "description": "",
            "_model_name": "HTMLModel",
            "placeholder": "​",
            "_view_module": "@jupyter-widgets/controls",
            "_model_module_version": "1.5.0",
            "value": "",
            "_view_count": null,
            "_view_module_version": "1.5.0",
            "description_tooltip": null,
            "_model_module": "@jupyter-widgets/controls",
            "layout": "IPY_MODEL_b77376afc4b84c14849ef444595dd7a3"
          }
        },
        "8143703b2fb846ab877ceb0e8c430a22": {
          "model_module": "@jupyter-widgets/controls",
          "model_name": "FloatProgressModel",
          "model_module_version": "1.5.0",
          "state": {
            "_view_name": "ProgressView",
            "style": "IPY_MODEL_01cfb000752e4953b63486d1269c3664",
            "_dom_classes": [],
            "description": "",
            "_model_name": "FloatProgressModel",
            "bar_style": "success",
            "max": 4542,
            "_view_module": "@jupyter-widgets/controls",
            "_model_module_version": "1.5.0",
            "value": 4542,
            "_view_count": null,
            "_view_module_version": "1.5.0",
            "orientation": "horizontal",
            "min": 0,
            "description_tooltip": null,
            "_model_module": "@jupyter-widgets/controls",
            "layout": "IPY_MODEL_b96927288dd548babeceff7f99488ed9"
          }
        },
        "21be63d111cc43cdb32cd40e6ba1f173": {
          "model_module": "@jupyter-widgets/controls",
          "model_name": "HTMLModel",
          "model_module_version": "1.5.0",
          "state": {
            "_view_name": "HTMLView",
            "style": "IPY_MODEL_9594c5b6438c44eb9066ed709572b721",
            "_dom_classes": [],
            "description": "",
            "_model_name": "HTMLModel",
            "placeholder": "​",
            "_view_module": "@jupyter-widgets/controls",
            "_model_module_version": "1.5.0",
            "value": " 5120/? [00:00&lt;00:00, 124789.13it/s]",
            "_view_count": null,
            "_view_module_version": "1.5.0",
            "description_tooltip": null,
            "_model_module": "@jupyter-widgets/controls",
            "layout": "IPY_MODEL_16a228f2e89e44d6bb35c9e7f70fb440"
          }
        },
        "177b0507ac874c2781e55c2cf1b0c983": {
          "model_module": "@jupyter-widgets/controls",
          "model_name": "DescriptionStyleModel",
          "model_module_version": "1.5.0",
          "state": {
            "_view_name": "StyleView",
            "_model_name": "DescriptionStyleModel",
            "description_width": "",
            "_view_module": "@jupyter-widgets/base",
            "_model_module_version": "1.5.0",
            "_view_count": null,
            "_view_module_version": "1.2.0",
            "_model_module": "@jupyter-widgets/controls"
          }
        },
        "b77376afc4b84c14849ef444595dd7a3": {
          "model_module": "@jupyter-widgets/base",
          "model_name": "LayoutModel",
          "model_module_version": "1.2.0",
          "state": {
            "_view_name": "LayoutView",
            "grid_template_rows": null,
            "right": null,
            "justify_content": null,
            "_view_module": "@jupyter-widgets/base",
            "overflow": null,
            "_model_module_version": "1.2.0",
            "_view_count": null,
            "flex_flow": null,
            "width": null,
            "min_width": null,
            "border": null,
            "align_items": null,
            "bottom": null,
            "_model_module": "@jupyter-widgets/base",
            "top": null,
            "grid_column": null,
            "overflow_y": null,
            "overflow_x": null,
            "grid_auto_flow": null,
            "grid_area": null,
            "grid_template_columns": null,
            "flex": null,
            "_model_name": "LayoutModel",
            "justify_items": null,
            "grid_row": null,
            "max_height": null,
            "align_content": null,
            "visibility": null,
            "align_self": null,
            "height": null,
            "min_height": null,
            "padding": null,
            "grid_auto_rows": null,
            "grid_gap": null,
            "max_width": null,
            "order": null,
            "_view_module_version": "1.2.0",
            "grid_template_areas": null,
            "object_position": null,
            "object_fit": null,
            "grid_auto_columns": null,
            "margin": null,
            "display": null,
            "left": null
          }
        },
        "01cfb000752e4953b63486d1269c3664": {
          "model_module": "@jupyter-widgets/controls",
          "model_name": "ProgressStyleModel",
          "model_module_version": "1.5.0",
          "state": {
            "_view_name": "StyleView",
            "_model_name": "ProgressStyleModel",
            "description_width": "",
            "_view_module": "@jupyter-widgets/base",
            "_model_module_version": "1.5.0",
            "_view_count": null,
            "_view_module_version": "1.2.0",
            "bar_color": null,
            "_model_module": "@jupyter-widgets/controls"
          }
        },
        "b96927288dd548babeceff7f99488ed9": {
          "model_module": "@jupyter-widgets/base",
          "model_name": "LayoutModel",
          "model_module_version": "1.2.0",
          "state": {
            "_view_name": "LayoutView",
            "grid_template_rows": null,
            "right": null,
            "justify_content": null,
            "_view_module": "@jupyter-widgets/base",
            "overflow": null,
            "_model_module_version": "1.2.0",
            "_view_count": null,
            "flex_flow": null,
            "width": null,
            "min_width": null,
            "border": null,
            "align_items": null,
            "bottom": null,
            "_model_module": "@jupyter-widgets/base",
            "top": null,
            "grid_column": null,
            "overflow_y": null,
            "overflow_x": null,
            "grid_auto_flow": null,
            "grid_area": null,
            "grid_template_columns": null,
            "flex": null,
            "_model_name": "LayoutModel",
            "justify_items": null,
            "grid_row": null,
            "max_height": null,
            "align_content": null,
            "visibility": null,
            "align_self": null,
            "height": null,
            "min_height": null,
            "padding": null,
            "grid_auto_rows": null,
            "grid_gap": null,
            "max_width": null,
            "order": null,
            "_view_module_version": "1.2.0",
            "grid_template_areas": null,
            "object_position": null,
            "object_fit": null,
            "grid_auto_columns": null,
            "margin": null,
            "display": null,
            "left": null
          }
        },
        "9594c5b6438c44eb9066ed709572b721": {
          "model_module": "@jupyter-widgets/controls",
          "model_name": "DescriptionStyleModel",
          "model_module_version": "1.5.0",
          "state": {
            "_view_name": "StyleView",
            "_model_name": "DescriptionStyleModel",
            "description_width": "",
            "_view_module": "@jupyter-widgets/base",
            "_model_module_version": "1.5.0",
            "_view_count": null,
            "_view_module_version": "1.2.0",
            "_model_module": "@jupyter-widgets/controls"
          }
        },
        "16a228f2e89e44d6bb35c9e7f70fb440": {
          "model_module": "@jupyter-widgets/base",
          "model_name": "LayoutModel",
          "model_module_version": "1.2.0",
          "state": {
            "_view_name": "LayoutView",
            "grid_template_rows": null,
            "right": null,
            "justify_content": null,
            "_view_module": "@jupyter-widgets/base",
            "overflow": null,
            "_model_module_version": "1.2.0",
            "_view_count": null,
            "flex_flow": null,
            "width": null,
            "min_width": null,
            "border": null,
            "align_items": null,
            "bottom": null,
            "_model_module": "@jupyter-widgets/base",
            "top": null,
            "grid_column": null,
            "overflow_y": null,
            "overflow_x": null,
            "grid_auto_flow": null,
            "grid_area": null,
            "grid_template_columns": null,
            "flex": null,
            "_model_name": "LayoutModel",
            "justify_items": null,
            "grid_row": null,
            "max_height": null,
            "align_content": null,
            "visibility": null,
            "align_self": null,
            "height": null,
            "min_height": null,
            "padding": null,
            "grid_auto_rows": null,
            "grid_gap": null,
            "max_width": null,
            "order": null,
            "_view_module_version": "1.2.0",
            "grid_template_areas": null,
            "object_position": null,
            "object_fit": null,
            "grid_auto_columns": null,
            "margin": null,
            "display": null,
            "left": null
          }
        }
      }
    }
  },
  "cells": [
    {
      "cell_type": "markdown",
      "metadata": {
        "id": "view-in-github",
        "colab_type": "text"
      },
      "source": [
        "<a href=\"https://colab.research.google.com/github/jhChoi1997/EE488_AI_Convergence_Capstone_Design_Anomaly_Detection_2022spring/blob/main/rotnet_temp2.ipynb\" target=\"_parent\"><img src=\"https://colab.research.google.com/assets/colab-badge.svg\" alt=\"Open In Colab\"/></a>"
      ]
    },
    {
      "cell_type": "markdown",
      "source": [
        "# **EE 488 AI Convergence Capstone Design : Anomaly Detection**\n",
        "## **practice 2-3 : Anomaly Detection using Self-supervised learning (RotNet)**\n",
        "\n",
        "code implementation is referenced https://github.com/d4nst/RotNet"
      ],
      "metadata": {
        "id": "H6MGnF0QF2tO"
      }
    },
    {
      "cell_type": "code",
      "execution_count": 1,
      "metadata": {
        "id": "qx0wd0wRJ8zF"
      },
      "outputs": [],
      "source": [
        "import torch\n",
        "from torch import nn\n",
        "import torch.nn.functional as F\n",
        "from torchvision import datasets\n",
        "from torchvision.transforms import ToTensor\n",
        "from torch.utils.data import DataLoader, TensorDataset\n",
        "from sklearn import metrics\n",
        "import matplotlib.pyplot as plt\n",
        "import torchsummary\n",
        "import numpy as np"
      ]
    },
    {
      "cell_type": "code",
      "source": [
        "device = 'cuda' if torch.cuda.is_available() else 'cpu'\n",
        "print(f'Using {device} device')"
      ],
      "metadata": {
        "colab": {
          "base_uri": "https://localhost:8080/"
        },
        "id": "QlCEbzhEKCLA",
        "outputId": "5124c380-c7dd-4eaa-993f-22b900a1e3b9"
      },
      "execution_count": 2,
      "outputs": [
        {
          "output_type": "stream",
          "name": "stdout",
          "text": [
            "Using cuda device\n"
          ]
        }
      ]
    },
    {
      "cell_type": "code",
      "source": [
        "plt.rc('font', size=20)"
      ],
      "metadata": {
        "id": "0xPkXUzeLmb8"
      },
      "execution_count": 3,
      "outputs": []
    },
    {
      "cell_type": "markdown",
      "source": [
        "You can change the hyperparameter below.\n",
        "Parameter 'ANOMALY_NUM' means which number to set as an anomaly."
      ],
      "metadata": {
        "id": "vy_GKeckHLHd"
      }
    },
    {
      "cell_type": "code",
      "source": [
        "EPOCHS = 20\n",
        "BATCH = 32\n",
        "ANOMALY_NUM = 9"
      ],
      "metadata": {
        "id": "YlvTt_YSJ-Vm"
      },
      "execution_count": 4,
      "outputs": []
    },
    {
      "cell_type": "markdown",
      "source": [
        "The dataset for anomaly detection is composed of normal data and anomaly data. Normal data can be seen in the train, validation, and test dataset, but anomaly data is not in the train dataset. Here 0 to 8 will be used as normal data, and 9 will be used as anomaly data."
      ],
      "metadata": {
        "id": "oxNJ9sVzHWPj"
      }
    },
    {
      "cell_type": "code",
      "source": [
        "mnist_train = datasets.MNIST(root='MNIST_data/', train=True, transform=ToTensor(), download=True)\n",
        "mnist_test = datasets.MNIST(root='MNIST_data/', train=False, transform=ToTensor(), download=True)\n",
        "\n",
        "train_x = torch.tensor([mnist_train[i][0].numpy() for i, v in enumerate(mnist_train) if v[1] != ANOMALY_NUM])\n",
        "train_num = torch.tensor([mnist_train[i][1] for i, v in enumerate(mnist_train) if v[1] != ANOMALY_NUM])\n",
        "train_num_oh = F.one_hot(train_num)\n",
        "# add rotate angle\n",
        "train_degree = torch.randint(0,4,(train_x.shape[0],))* torch.tensor(90)\n",
        "\n",
        "unseen_x = torch.tensor([v[0].numpy() for v in mnist_test])\n",
        "unseen_num = torch.tensor([v[1] for v in mnist_test])\n",
        "unseen_y = torch.tensor([0 if v[1] != ANOMALY_NUM else 1 for v in mnist_test])\n",
        "\n",
        "\n",
        "val_x = unseen_x[:int(len(unseen_x) / 2)]\n",
        "val_num = unseen_num[:int(len(unseen_x) / 2)]\n",
        "val_num_oh = F.one_hot(val_num)\n",
        "val_num_oh = torch.cat((val_num_oh[:,0:ANOMALY_NUM],val_num_oh[:,ANOMALY_NUM+1:]), dim=1)\n",
        "val_y = unseen_y[:int(len(unseen_y) / 2)]\n",
        "val_degree = torch.randint(0,4,(val_x.shape[0],)) * torch.tensor(90)\n",
        "test_x = unseen_x[int(len(unseen_x) / 2):]\n",
        "test_num = unseen_num[int(len(unseen_x) / 2):]\n",
        "test_num_oh = F.one_hot(test_num)\n",
        "test_num_oh = torch.cat((test_num_oh[:,0:ANOMALY_NUM],test_num_oh[:,ANOMALY_NUM+1:]), dim=1)\n",
        "test_y = unseen_y[int(len(unseen_y) / 2):]\n",
        "test_degree = torch.randint(0,4,(test_x.shape[0],)) * torch.tensor(90)\n",
        "train_dataset = TensorDataset(train_x, train_num_oh, train_degree)\n",
        "val_dataset = TensorDataset(val_x, val_num_oh, val_y, val_degree)\n",
        "test_dataset = TensorDataset(test_x, test_num_oh, test_y, test_degree)\n",
        "\n",
        "train_dataloader = DataLoader(train_dataset, batch_size=BATCH)\n",
        "val_dataloader = DataLoader(val_dataset, batch_size=BATCH)\n",
        "test_dataloader = DataLoader(test_dataset, batch_size=BATCH)"
      ],
      "metadata": {
        "colab": {
          "base_uri": "https://localhost:8080/",
          "height": 500,
          "referenced_widgets": [
            "8f15905b4ce7496aada00969891b8bea",
            "0d20de85b1cf4d129f58ae8ded2e7c8b",
            "14e3aaa5e5d540788ac87c8e1e9d6e1e",
            "bb1ea5a08d4f456c8a36d96706ab7692",
            "49bdc4b4223247c98b76f32442ae88f2",
            "dd2cf4acd67d4f10a166ddccb27720b5",
            "94f10c674cdd4ad1b165751136aba452",
            "a0f209fe1de444efb1e96b876e0bf405",
            "624f01ccdadd44a7b961d2e73f75c512",
            "9bcc5bad2be64c3496e6a1bdd3853580",
            "a78de7926f5540e5b7be64abb56016aa",
            "cedd16e03cec4a27a0d5e3f14594a25b",
            "9f255773ff1e4bf1babed3bd4ebdd245",
            "ee431a03ff094322b05fbfaf8b5faf30",
            "c8e018b1353346418e26acfed3991e4a",
            "4dc71cd9491e4c758f04bcc386f4c6f7",
            "66d7ca0510ad4ca8a075831fdc3d805e",
            "050443baa4fb4ccbb744482bf223a748",
            "7c33a7b81969496d8df6f790aee39c85",
            "aca563e2cfa34a2db0ddfffe9782689f",
            "77f2d78cdfda4c84ae82a76e77bb40b1",
            "33fe16bab7654b03a07f2b0deb9e06b1",
            "73df3d4fdbc74f528db722823f260837",
            "57c807e2a9df4ed495a6e064163d9833",
            "7d263cd38354472db47ee2a6e910f4fb",
            "08ffe0046b3348f595e42428dffbc3cc",
            "e44ccc3622d547ee9c7bbbee1bc27887",
            "c72148bdbc574907aee4ff06cd6d7ba1",
            "da3a0f775525496c870bf96a43fe1f94",
            "c06e1c28888f42188ef6be4aa1afb998",
            "b72a7993f0a34be6bf3e2b0dc6c8df0b",
            "a7055b49f3124f44bb3f048e0e86bdab",
            "7cb1bc89970840c7a1bde03603e15545",
            "c63353e933c149af8936a5183600273d",
            "504b82b4c26747d7b964b1f5e43e69f4",
            "b1a39941b4c346809fd95733e3921c50",
            "8143703b2fb846ab877ceb0e8c430a22",
            "21be63d111cc43cdb32cd40e6ba1f173",
            "177b0507ac874c2781e55c2cf1b0c983",
            "b77376afc4b84c14849ef444595dd7a3",
            "01cfb000752e4953b63486d1269c3664",
            "b96927288dd548babeceff7f99488ed9",
            "9594c5b6438c44eb9066ed709572b721",
            "16a228f2e89e44d6bb35c9e7f70fb440"
          ]
        },
        "id": "hGifb5nZJ_Hg",
        "outputId": "4d805409-273b-4cff-e111-76d1b64c388e"
      },
      "execution_count": 5,
      "outputs": [
        {
          "output_type": "stream",
          "name": "stdout",
          "text": [
            "Downloading http://yann.lecun.com/exdb/mnist/train-images-idx3-ubyte.gz\n",
            "Downloading http://yann.lecun.com/exdb/mnist/train-images-idx3-ubyte.gz to MNIST_data/MNIST/raw/train-images-idx3-ubyte.gz\n"
          ]
        },
        {
          "output_type": "display_data",
          "data": {
            "application/vnd.jupyter.widget-view+json": {
              "model_id": "8f15905b4ce7496aada00969891b8bea",
              "version_minor": 0,
              "version_major": 2
            },
            "text/plain": [
              "  0%|          | 0/9912422 [00:00<?, ?it/s]"
            ]
          },
          "metadata": {}
        },
        {
          "output_type": "stream",
          "name": "stdout",
          "text": [
            "Extracting MNIST_data/MNIST/raw/train-images-idx3-ubyte.gz to MNIST_data/MNIST/raw\n",
            "\n",
            "Downloading http://yann.lecun.com/exdb/mnist/train-labels-idx1-ubyte.gz\n",
            "Downloading http://yann.lecun.com/exdb/mnist/train-labels-idx1-ubyte.gz to MNIST_data/MNIST/raw/train-labels-idx1-ubyte.gz\n"
          ]
        },
        {
          "output_type": "display_data",
          "data": {
            "application/vnd.jupyter.widget-view+json": {
              "model_id": "cedd16e03cec4a27a0d5e3f14594a25b",
              "version_minor": 0,
              "version_major": 2
            },
            "text/plain": [
              "  0%|          | 0/28881 [00:00<?, ?it/s]"
            ]
          },
          "metadata": {}
        },
        {
          "output_type": "stream",
          "name": "stdout",
          "text": [
            "Extracting MNIST_data/MNIST/raw/train-labels-idx1-ubyte.gz to MNIST_data/MNIST/raw\n",
            "\n",
            "Downloading http://yann.lecun.com/exdb/mnist/t10k-images-idx3-ubyte.gz\n",
            "Downloading http://yann.lecun.com/exdb/mnist/t10k-images-idx3-ubyte.gz to MNIST_data/MNIST/raw/t10k-images-idx3-ubyte.gz\n"
          ]
        },
        {
          "output_type": "display_data",
          "data": {
            "application/vnd.jupyter.widget-view+json": {
              "model_id": "73df3d4fdbc74f528db722823f260837",
              "version_minor": 0,
              "version_major": 2
            },
            "text/plain": [
              "  0%|          | 0/1648877 [00:00<?, ?it/s]"
            ]
          },
          "metadata": {}
        },
        {
          "output_type": "stream",
          "name": "stdout",
          "text": [
            "Extracting MNIST_data/MNIST/raw/t10k-images-idx3-ubyte.gz to MNIST_data/MNIST/raw\n",
            "\n",
            "Downloading http://yann.lecun.com/exdb/mnist/t10k-labels-idx1-ubyte.gz\n",
            "Downloading http://yann.lecun.com/exdb/mnist/t10k-labels-idx1-ubyte.gz to MNIST_data/MNIST/raw/t10k-labels-idx1-ubyte.gz\n"
          ]
        },
        {
          "output_type": "display_data",
          "data": {
            "application/vnd.jupyter.widget-view+json": {
              "model_id": "c63353e933c149af8936a5183600273d",
              "version_minor": 0,
              "version_major": 2
            },
            "text/plain": [
              "  0%|          | 0/4542 [00:00<?, ?it/s]"
            ]
          },
          "metadata": {}
        },
        {
          "output_type": "stream",
          "name": "stdout",
          "text": [
            "Extracting MNIST_data/MNIST/raw/t10k-labels-idx1-ubyte.gz to MNIST_data/MNIST/raw\n",
            "\n"
          ]
        },
        {
          "output_type": "stream",
          "name": "stderr",
          "text": [
            "/usr/local/lib/python3.7/dist-packages/ipykernel_launcher.py:4: UserWarning: Creating a tensor from a list of numpy.ndarrays is extremely slow. Please consider converting the list to a single numpy.ndarray with numpy.array() before converting to a tensor. (Triggered internally at  ../torch/csrc/utils/tensor_new.cpp:201.)\n",
            "  after removing the cwd from sys.path.\n"
          ]
        }
      ]
    },
    {
      "cell_type": "markdown",
      "source": [
        "Dataset length is like below."
      ],
      "metadata": {
        "id": "aL2kA9btGXmf"
      }
    },
    {
      "cell_type": "code",
      "source": [
        "print(len(train_dataset))\n",
        "print(len(val_dataset))\n",
        "print(len(test_dataset))"
      ],
      "metadata": {
        "colab": {
          "base_uri": "https://localhost:8080/"
        },
        "id": "KOdcnDsLzvxy",
        "outputId": "9b8edf20-a34d-41db-af58-8e822b529634"
      },
      "execution_count": 6,
      "outputs": [
        {
          "output_type": "stream",
          "name": "stdout",
          "text": [
            "54051\n",
            "5000\n",
            "5000\n"
          ]
        }
      ]
    },
    {
      "cell_type": "code",
      "source": [
        "import cv2"
      ],
      "metadata": {
        "id": "BKjDeMkyiKQC"
      },
      "execution_count": 7,
      "outputs": []
    },
    {
      "cell_type": "code",
      "source": [
        "def rotate(image, angle):\n",
        "    \"\"\"\n",
        "    Rotates an OpenCV 2 / NumPy image about it's centre by the given angle\n",
        "    (in degrees). The returned image will be large enough to hold the entire\n",
        "    new image, with a black background\n",
        "    Source: http://stackoverflow.com/questions/16702966/rotate-image-and-crop-out-black-borders\n",
        "    \"\"\"\n",
        "    # Get the image size\n",
        "    # No that's not an error - NumPy stores image matricies backwards\n",
        "    image = image.cpu().numpy()\n",
        "    angle = angle.cpu().numpy()\n",
        "    image_size = (image.shape[1], image.shape[0])\n",
        "    image_center = tuple(np.array(image_size) / 2)\n",
        "\n",
        "    # Convert the OpenCV 3x2 rotation matrix to 3x3\n",
        "    rot_mat = np.vstack(\n",
        "        [cv2.getRotationMatrix2D(image_center, angle, 1.0), [0, 0, 1]]\n",
        "    )\n",
        "\n",
        "    rot_mat_notranslate = np.matrix(rot_mat[0:2, 0:2])\n",
        "\n",
        "    # Shorthand for below calcs\n",
        "    image_w2 = image_size[0] * 0.5\n",
        "    image_h2 = image_size[1] * 0.5\n",
        "\n",
        "    # Obtain the rotated coordinates of the image corners\n",
        "    rotated_coords = [\n",
        "        (np.array([-image_w2,  image_h2]) * rot_mat_notranslate).A[0],\n",
        "        (np.array([ image_w2,  image_h2]) * rot_mat_notranslate).A[0],\n",
        "        (np.array([-image_w2, -image_h2]) * rot_mat_notranslate).A[0],\n",
        "        (np.array([ image_w2, -image_h2]) * rot_mat_notranslate).A[0]\n",
        "    ]\n",
        "\n",
        "    # Find the size of the new image\n",
        "    x_coords = [pt[0] for pt in rotated_coords]\n",
        "    x_pos = [x for x in x_coords if x > 0]\n",
        "    x_neg = [x for x in x_coords if x < 0]\n",
        "\n",
        "    y_coords = [pt[1] for pt in rotated_coords]\n",
        "    y_pos = [y for y in y_coords if y > 0]\n",
        "    y_neg = [y for y in y_coords if y < 0]\n",
        "\n",
        "    right_bound = max(x_pos)\n",
        "    left_bound = min(x_neg)\n",
        "    top_bound = max(y_pos)\n",
        "    bot_bound = min(y_neg)\n",
        "\n",
        "    new_w = int(abs(right_bound - left_bound))\n",
        "    new_h = int(abs(top_bound - bot_bound))\n",
        "\n",
        "    # We require a translation matrix to keep the image centred\n",
        "    trans_mat = np.matrix([\n",
        "        [1, 0, int(new_w * 0.5 - image_w2)],\n",
        "        [0, 1, int(new_h * 0.5 - image_h2)],\n",
        "        [0, 0, 1]\n",
        "    ])\n",
        "\n",
        "    # Compute the tranform for the combined rotation and translation\n",
        "    affine_mat = (np.matrix(trans_mat) * np.matrix(rot_mat))[0:2, :]\n",
        "\n",
        "    # Apply the transform\n",
        "    result = cv2.warpAffine(image,affine_mat,(new_w, new_h),flags=cv2.INTER_LINEAR)\n",
        "\n",
        "    # resize as original size\n",
        "\n",
        "    result = cv2.resize(result,image_size, interpolation=cv2.INTER_AREA)\n",
        "\n",
        "    return torch.tensor(result)"
      ],
      "metadata": {
        "id": "dQyzvlvGiHoP"
      },
      "execution_count": 8,
      "outputs": []
    },
    {
      "cell_type": "markdown",
      "source": [
        "You will use classifier (FCN) for practice"
      ],
      "metadata": {
        "id": "xKbRZRjAKuNH"
      }
    },
    {
      "cell_type": "markdown",
      "source": [
        "![FCN.png](data:image/png;base64,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)"
      ],
      "metadata": {
        "id": "zUwT4jLw0xM0"
      }
    },
    {
      "cell_type": "code",
      "source": [
        "class ClassificationModel(nn.Module):\n",
        "    def __init__(self):\n",
        "        super(ClassificationModel, self).__init__()\n",
        "        self.feature_extractor = nn.Sequential(\n",
        "            nn.Conv2d(1,64,(4,4),(2,2)),\n",
        "            nn.ReLU(),\n",
        "            nn.Conv2d(64,64,(4,4),(2,2)),\n",
        "            nn.ReLU(),\n",
        "        )\n",
        "        self.regression_model = nn.Sequential(\n",
        "            nn.Linear(1600,128),\n",
        "            nn.ReLU(),\n",
        "            nn.Linear(128,4)\n",
        "        )\n",
        "\n",
        "    def forward(self, x):\n",
        "        out = self.feature_extractor(x)\n",
        "\n",
        "        out = out.reshape(x.size(0),-1)\n",
        "\n",
        "        out = self.regression_model(out)\n",
        "\n",
        "\n",
        "        return out"
      ],
      "metadata": {
        "id": "BxcIF_KSKAuh"
      },
      "execution_count": 9,
      "outputs": []
    },
    {
      "cell_type": "code",
      "source": [
        "model = ClassificationModel().to(device)\n",
        "print(model)"
      ],
      "metadata": {
        "id": "GKbS81WbU-8x",
        "colab": {
          "base_uri": "https://localhost:8080/",
          "height": 385
        },
        "outputId": "96ed775f-aea8-479a-8fcb-a8a79f8c86f1"
      },
      "execution_count": 15,
      "outputs": [
        {
          "output_type": "error",
          "ename": "RuntimeError",
          "evalue": "ignored",
          "traceback": [
            "\u001b[0;31m---------------------------------------------------------------------------\u001b[0m",
            "\u001b[0;31mRuntimeError\u001b[0m                              Traceback (most recent call last)",
            "\u001b[0;32m<ipython-input-15-bbdf0f65e12a>\u001b[0m in \u001b[0;36m<module>\u001b[0;34m()\u001b[0m\n\u001b[0;32m----> 1\u001b[0;31m \u001b[0mmodel\u001b[0m \u001b[0;34m=\u001b[0m \u001b[0mClassificationModel\u001b[0m\u001b[0;34m(\u001b[0m\u001b[0;34m)\u001b[0m\u001b[0;34m.\u001b[0m\u001b[0mto\u001b[0m\u001b[0;34m(\u001b[0m\u001b[0mdevice\u001b[0m\u001b[0;34m)\u001b[0m\u001b[0;34m\u001b[0m\u001b[0;34m\u001b[0m\u001b[0m\n\u001b[0m\u001b[1;32m      2\u001b[0m \u001b[0mprint\u001b[0m\u001b[0;34m(\u001b[0m\u001b[0mmodel\u001b[0m\u001b[0;34m)\u001b[0m\u001b[0;34m\u001b[0m\u001b[0;34m\u001b[0m\u001b[0m\n",
            "\u001b[0;32m/usr/local/lib/python3.7/dist-packages/torch/nn/modules/module.py\u001b[0m in \u001b[0;36mto\u001b[0;34m(self, *args, **kwargs)\u001b[0m\n\u001b[1;32m    897\u001b[0m             \u001b[0;32mreturn\u001b[0m \u001b[0mt\u001b[0m\u001b[0;34m.\u001b[0m\u001b[0mto\u001b[0m\u001b[0;34m(\u001b[0m\u001b[0mdevice\u001b[0m\u001b[0;34m,\u001b[0m \u001b[0mdtype\u001b[0m \u001b[0;32mif\u001b[0m \u001b[0mt\u001b[0m\u001b[0;34m.\u001b[0m\u001b[0mis_floating_point\u001b[0m\u001b[0;34m(\u001b[0m\u001b[0;34m)\u001b[0m \u001b[0;32mor\u001b[0m \u001b[0mt\u001b[0m\u001b[0;34m.\u001b[0m\u001b[0mis_complex\u001b[0m\u001b[0;34m(\u001b[0m\u001b[0;34m)\u001b[0m \u001b[0;32melse\u001b[0m \u001b[0;32mNone\u001b[0m\u001b[0;34m,\u001b[0m \u001b[0mnon_blocking\u001b[0m\u001b[0;34m)\u001b[0m\u001b[0;34m\u001b[0m\u001b[0;34m\u001b[0m\u001b[0m\n\u001b[1;32m    898\u001b[0m \u001b[0;34m\u001b[0m\u001b[0m\n\u001b[0;32m--> 899\u001b[0;31m         \u001b[0;32mreturn\u001b[0m \u001b[0mself\u001b[0m\u001b[0;34m.\u001b[0m\u001b[0m_apply\u001b[0m\u001b[0;34m(\u001b[0m\u001b[0mconvert\u001b[0m\u001b[0;34m)\u001b[0m\u001b[0;34m\u001b[0m\u001b[0;34m\u001b[0m\u001b[0m\n\u001b[0m\u001b[1;32m    900\u001b[0m \u001b[0;34m\u001b[0m\u001b[0m\n\u001b[1;32m    901\u001b[0m     def register_backward_hook(\n",
            "\u001b[0;32m/usr/local/lib/python3.7/dist-packages/torch/nn/modules/module.py\u001b[0m in \u001b[0;36m_apply\u001b[0;34m(self, fn)\u001b[0m\n\u001b[1;32m    568\u001b[0m     \u001b[0;32mdef\u001b[0m \u001b[0m_apply\u001b[0m\u001b[0;34m(\u001b[0m\u001b[0mself\u001b[0m\u001b[0;34m,\u001b[0m \u001b[0mfn\u001b[0m\u001b[0;34m)\u001b[0m\u001b[0;34m:\u001b[0m\u001b[0;34m\u001b[0m\u001b[0;34m\u001b[0m\u001b[0m\n\u001b[1;32m    569\u001b[0m         \u001b[0;32mfor\u001b[0m \u001b[0mmodule\u001b[0m \u001b[0;32min\u001b[0m \u001b[0mself\u001b[0m\u001b[0;34m.\u001b[0m\u001b[0mchildren\u001b[0m\u001b[0;34m(\u001b[0m\u001b[0;34m)\u001b[0m\u001b[0;34m:\u001b[0m\u001b[0;34m\u001b[0m\u001b[0;34m\u001b[0m\u001b[0m\n\u001b[0;32m--> 570\u001b[0;31m             \u001b[0mmodule\u001b[0m\u001b[0;34m.\u001b[0m\u001b[0m_apply\u001b[0m\u001b[0;34m(\u001b[0m\u001b[0mfn\u001b[0m\u001b[0;34m)\u001b[0m\u001b[0;34m\u001b[0m\u001b[0;34m\u001b[0m\u001b[0m\n\u001b[0m\u001b[1;32m    571\u001b[0m \u001b[0;34m\u001b[0m\u001b[0m\n\u001b[1;32m    572\u001b[0m         \u001b[0;32mdef\u001b[0m \u001b[0mcompute_should_use_set_data\u001b[0m\u001b[0;34m(\u001b[0m\u001b[0mtensor\u001b[0m\u001b[0;34m,\u001b[0m \u001b[0mtensor_applied\u001b[0m\u001b[0;34m)\u001b[0m\u001b[0;34m:\u001b[0m\u001b[0;34m\u001b[0m\u001b[0;34m\u001b[0m\u001b[0m\n",
            "\u001b[0;32m/usr/local/lib/python3.7/dist-packages/torch/nn/modules/module.py\u001b[0m in \u001b[0;36m_apply\u001b[0;34m(self, fn)\u001b[0m\n\u001b[1;32m    568\u001b[0m     \u001b[0;32mdef\u001b[0m \u001b[0m_apply\u001b[0m\u001b[0;34m(\u001b[0m\u001b[0mself\u001b[0m\u001b[0;34m,\u001b[0m \u001b[0mfn\u001b[0m\u001b[0;34m)\u001b[0m\u001b[0;34m:\u001b[0m\u001b[0;34m\u001b[0m\u001b[0;34m\u001b[0m\u001b[0m\n\u001b[1;32m    569\u001b[0m         \u001b[0;32mfor\u001b[0m \u001b[0mmodule\u001b[0m \u001b[0;32min\u001b[0m \u001b[0mself\u001b[0m\u001b[0;34m.\u001b[0m\u001b[0mchildren\u001b[0m\u001b[0;34m(\u001b[0m\u001b[0;34m)\u001b[0m\u001b[0;34m:\u001b[0m\u001b[0;34m\u001b[0m\u001b[0;34m\u001b[0m\u001b[0m\n\u001b[0;32m--> 570\u001b[0;31m             \u001b[0mmodule\u001b[0m\u001b[0;34m.\u001b[0m\u001b[0m_apply\u001b[0m\u001b[0;34m(\u001b[0m\u001b[0mfn\u001b[0m\u001b[0;34m)\u001b[0m\u001b[0;34m\u001b[0m\u001b[0;34m\u001b[0m\u001b[0m\n\u001b[0m\u001b[1;32m    571\u001b[0m \u001b[0;34m\u001b[0m\u001b[0m\n\u001b[1;32m    572\u001b[0m         \u001b[0;32mdef\u001b[0m \u001b[0mcompute_should_use_set_data\u001b[0m\u001b[0;34m(\u001b[0m\u001b[0mtensor\u001b[0m\u001b[0;34m,\u001b[0m \u001b[0mtensor_applied\u001b[0m\u001b[0;34m)\u001b[0m\u001b[0;34m:\u001b[0m\u001b[0;34m\u001b[0m\u001b[0;34m\u001b[0m\u001b[0m\n",
            "\u001b[0;32m/usr/local/lib/python3.7/dist-packages/torch/nn/modules/module.py\u001b[0m in \u001b[0;36m_apply\u001b[0;34m(self, fn)\u001b[0m\n\u001b[1;32m    591\u001b[0m             \u001b[0;31m# `with torch.no_grad():`\u001b[0m\u001b[0;34m\u001b[0m\u001b[0;34m\u001b[0m\u001b[0;34m\u001b[0m\u001b[0m\n\u001b[1;32m    592\u001b[0m             \u001b[0;32mwith\u001b[0m \u001b[0mtorch\u001b[0m\u001b[0;34m.\u001b[0m\u001b[0mno_grad\u001b[0m\u001b[0;34m(\u001b[0m\u001b[0;34m)\u001b[0m\u001b[0;34m:\u001b[0m\u001b[0;34m\u001b[0m\u001b[0;34m\u001b[0m\u001b[0m\n\u001b[0;32m--> 593\u001b[0;31m                 \u001b[0mparam_applied\u001b[0m \u001b[0;34m=\u001b[0m \u001b[0mfn\u001b[0m\u001b[0;34m(\u001b[0m\u001b[0mparam\u001b[0m\u001b[0;34m)\u001b[0m\u001b[0;34m\u001b[0m\u001b[0;34m\u001b[0m\u001b[0m\n\u001b[0m\u001b[1;32m    594\u001b[0m             \u001b[0mshould_use_set_data\u001b[0m \u001b[0;34m=\u001b[0m \u001b[0mcompute_should_use_set_data\u001b[0m\u001b[0;34m(\u001b[0m\u001b[0mparam\u001b[0m\u001b[0;34m,\u001b[0m \u001b[0mparam_applied\u001b[0m\u001b[0;34m)\u001b[0m\u001b[0;34m\u001b[0m\u001b[0;34m\u001b[0m\u001b[0m\n\u001b[1;32m    595\u001b[0m             \u001b[0;32mif\u001b[0m \u001b[0mshould_use_set_data\u001b[0m\u001b[0;34m:\u001b[0m\u001b[0;34m\u001b[0m\u001b[0;34m\u001b[0m\u001b[0m\n",
            "\u001b[0;32m/usr/local/lib/python3.7/dist-packages/torch/nn/modules/module.py\u001b[0m in \u001b[0;36mconvert\u001b[0;34m(t)\u001b[0m\n\u001b[1;32m    895\u001b[0m                 return t.to(device, dtype if t.is_floating_point() or t.is_complex() else None,\n\u001b[1;32m    896\u001b[0m                             non_blocking, memory_format=convert_to_format)\n\u001b[0;32m--> 897\u001b[0;31m             \u001b[0;32mreturn\u001b[0m \u001b[0mt\u001b[0m\u001b[0;34m.\u001b[0m\u001b[0mto\u001b[0m\u001b[0;34m(\u001b[0m\u001b[0mdevice\u001b[0m\u001b[0;34m,\u001b[0m \u001b[0mdtype\u001b[0m \u001b[0;32mif\u001b[0m \u001b[0mt\u001b[0m\u001b[0;34m.\u001b[0m\u001b[0mis_floating_point\u001b[0m\u001b[0;34m(\u001b[0m\u001b[0;34m)\u001b[0m \u001b[0;32mor\u001b[0m \u001b[0mt\u001b[0m\u001b[0;34m.\u001b[0m\u001b[0mis_complex\u001b[0m\u001b[0;34m(\u001b[0m\u001b[0;34m)\u001b[0m \u001b[0;32melse\u001b[0m \u001b[0;32mNone\u001b[0m\u001b[0;34m,\u001b[0m \u001b[0mnon_blocking\u001b[0m\u001b[0;34m)\u001b[0m\u001b[0;34m\u001b[0m\u001b[0;34m\u001b[0m\u001b[0m\n\u001b[0m\u001b[1;32m    898\u001b[0m \u001b[0;34m\u001b[0m\u001b[0m\n\u001b[1;32m    899\u001b[0m         \u001b[0;32mreturn\u001b[0m \u001b[0mself\u001b[0m\u001b[0;34m.\u001b[0m\u001b[0m_apply\u001b[0m\u001b[0;34m(\u001b[0m\u001b[0mconvert\u001b[0m\u001b[0;34m)\u001b[0m\u001b[0;34m\u001b[0m\u001b[0;34m\u001b[0m\u001b[0m\n",
            "\u001b[0;31mRuntimeError\u001b[0m: CUDA error: device-side assert triggered\nCUDA kernel errors might be asynchronously reported at some other API call,so the stacktrace below might be incorrect.\nFor debugging consider passing CUDA_LAUNCH_BLOCKING=1."
          ]
        }
      ]
    },
    {
      "cell_type": "code",
      "source": [
        "loss_fn = nn.CrossEntropyLoss()\n",
        "def anomaly_score(logits, true_angle): #modify here as angle error\n",
        "    pred_angle = torch.argmax(logits, dim=1)\n",
        "    angle_diff = torch.abs(true_angle - pred_angle)\n",
        "\n",
        "    return angle_diff\n",
        "optimizer = torch.optim.Adam(model.parameters(), lr=1e-3)"
      ],
      "metadata": {
        "id": "W8-o7nbnKFQC"
      },
      "execution_count": 11,
      "outputs": []
    },
    {
      "cell_type": "code",
      "source": [
        "def train(dataloader, model, loss_fn, optimizer):\n",
        "    size = len(dataloader.dataset)\n",
        "    losses = []\n",
        "    for batch, y in enumerate(dataloader):\n",
        "        \n",
        "        # rotate image\n",
        "        img = y[0]\n",
        "        for img_idx in range(y[0].shape[0]):\n",
        "            img[img_idx,0,:,:] = rotate(y[0][img_idx,0,:,:],y[2][img_idx])\n",
        "\n",
        "        pred = model(img.to(device))\n",
        "\n",
        "        loss = loss_fn(pred, F.one_hot(y[2].to(device),num_classes=4).float())\n",
        "        \n",
        "\n",
        "        for idata in range(pred.shape[0]):\n",
        "\n",
        "            iloss = loss_fn(pred[idata:idata+1,:], F.one_hot(y[2][idata:idata+1].to(device),num_classes=4).float())\n",
        "            losses.append(iloss.item())\n",
        "\n",
        "        optimizer.zero_grad()\n",
        "        loss.backward()\n",
        "        optimizer.step()\n",
        "\n",
        "        if batch % 300 == 0:\n",
        "            loss, current = loss.item(), batch * pred.shape[0]\n",
        "            print(f\"loss: {loss:>7f}  [{current:>5d}/{size:>5d}]\")\n",
        "\n",
        "\n",
        "    return np.mean(losses)"
      ],
      "metadata": {
        "id": "36YK6WGDKGrB"
      },
      "execution_count": 12,
      "outputs": []
    },
    {
      "cell_type": "markdown",
      "source": [
        "Anomaly score is calculated in validation and test. 1 - Maximum Softmax Probability is commonly used as an anomaly score when using classification as a pretext task. Since the model has the label of normal only, the model may predict anomaly data as a normal class with lower probability (Under-confident)."
      ],
      "metadata": {
        "id": "NJN9_7hLYsEI"
      }
    },
    {
      "cell_type": "code",
      "source": [
        "def test(dataloader, model, loss_fn, anomaly_score, draw_mode = False):\n",
        "    model.eval()\n",
        "\n",
        "    y_true, y_pred = [], []\n",
        "\n",
        "    normal_loss = []\n",
        "    normal_scores = []\n",
        "    anomaly_scores  =[]\n",
        "\n",
        "    with torch.no_grad():\n",
        "      \n",
        "        for batch, num, anomaly, degree in dataloader:\n",
        "\n",
        "            batch = batch.to(device)\n",
        "            num = num.to(device)\n",
        "            anomaly = anomaly.to(device)\n",
        "            degree = degree.to(device)\n",
        "\n",
        "            # rotate here\n",
        "\n",
        "            # rotate image\n",
        "            img = batch\n",
        "            for img_idx in range(batch.shape[0]):\n",
        "                img[img_idx,0,:,:] = rotate(batch[img_idx,0,:,:],degree[img_idx])\n",
        "\n",
        "            output = model(img)\n",
        "\n",
        "            for idata in range(output.shape[0]):\n",
        "\n",
        "                iloss = loss_fn(output[idata:idata+1,:], F.one_hot(degree[idata:idata+1].to(device),num_classes=4).float())\n",
        "                iscore = anomaly_score(output[idata:idata+1,:],degree[idata:idata+1])\n",
        "                if anomaly[idata] == 0:\n",
        "                    normal_loss.append(iloss)\n",
        "                    normal_scores.append(iscore)\n",
        "                elif anomaly[idata] == 1:\n",
        "                    anomaly_scores.append(iscore)\n",
        "\n",
        "\n",
        "            score = anomaly_score(output,degree)\n",
        "\n",
        "            y_true.extend(anomaly.tolist())\n",
        "            y_pred.extend(score.tolist())\n",
        "\n",
        "    roc_auc = metrics.roc_auc_score(y_true, y_pred)\n",
        "\n",
        "    if draw_mode:\n",
        "        fpr, tpr, _ = metrics.roc_curve(y_true,y_pred)\n",
        "        plt.figure(figsize=(10,10))\n",
        "        plt.plot(fpr,tpr)\n",
        "        plt.title('ROC curve')\n",
        "        plt.xlabel('FPR')\n",
        "        plt.ylabel('TPR')\n",
        "\n",
        "\n",
        "    print(f'AUC: {roc_auc:>0.3f}')\n",
        "    normal_loss = [i.item() for i in normal_loss]\n",
        "    normal_scores = [i.item() for i in normal_scores]\n",
        "    anomaly_scores = [i.item() for i in anomaly_scores]\n",
        "\n",
        "    normal_loss_mean = np.mean(normal_loss)\n",
        "    normal_score_mean = np.mean(normal_scores)\n",
        "    anomaly_score_mean = np.mean(anomaly_scores)\n",
        "\n",
        "    print(f'normal loss : {normal_loss_mean}')\n",
        "\n",
        "    return roc_auc.item(), normal_loss_mean, normal_score_mean, anomaly_score_mean, normal_scores, anomaly_scores"
      ],
      "metadata": {
        "id": "GB6qgJ_5KJKI"
      },
      "execution_count": 13,
      "outputs": []
    },
    {
      "cell_type": "markdown",
      "source": [
        "See how CCE loss and AUC changes during training.\n",
        "Loss is calculated during train and AUC is calculated during validation."
      ],
      "metadata": {
        "id": "WQz51CldI7Qj"
      }
    },
    {
      "cell_type": "code",
      "source": [
        "train_losses = []\n",
        "val_normal_losses= []\n",
        "val_normal_scores = []\n",
        "val_anomaly_scores = []\n",
        "roc_auc = []\n",
        "\n",
        "best_auc = 0.0\n",
        "best_model = model.to(device)\n",
        "\n",
        "for t in range(EPOCHS):\n",
        "    print(f\"Epoch {t + 1}\\n-------------------------------\")\n",
        "    train_loss = train(train_dataloader, model, loss_fn, optimizer)\n",
        "    auc,val_normal_loss, val_normal_score, val_anomaly_score, _, _ = test(val_dataloader, model, loss_fn, anomaly_score)\n",
        "\n",
        "    train_losses.append(train_loss)\n",
        "    val_normal_losses.append(val_normal_loss)\n",
        "    val_normal_scores.append(val_normal_score)\n",
        "    val_anomaly_scores.append(val_anomaly_score)\n",
        "\n",
        "    roc_auc.append(auc)\n",
        "\n",
        "    if auc > best_auc:\n",
        "        best_model, best_auc = model, auc"
      ],
      "metadata": {
        "id": "VMrDeedfKKwy",
        "colab": {
          "base_uri": "https://localhost:8080/",
          "height": 869
        },
        "outputId": "6742c009-9426-4d02-e158-9b3c07073770"
      },
      "execution_count": 14,
      "outputs": [
        {
          "output_type": "stream",
          "name": "stdout",
          "text": [
            "Epoch 1\n",
            "-------------------------------\n"
          ]
        },
        {
          "output_type": "error",
          "ename": "RuntimeError",
          "evalue": "ignored",
          "traceback": [
            "\u001b[0;31m---------------------------------------------------------------------------\u001b[0m",
            "\u001b[0;31mRuntimeError\u001b[0m                              Traceback (most recent call last)",
            "\u001b[0;32m<ipython-input-14-3d9fab98ec4a>\u001b[0m in \u001b[0;36m<module>\u001b[0;34m()\u001b[0m\n\u001b[1;32m     10\u001b[0m \u001b[0;32mfor\u001b[0m \u001b[0mt\u001b[0m \u001b[0;32min\u001b[0m \u001b[0mrange\u001b[0m\u001b[0;34m(\u001b[0m\u001b[0mEPOCHS\u001b[0m\u001b[0;34m)\u001b[0m\u001b[0;34m:\u001b[0m\u001b[0;34m\u001b[0m\u001b[0;34m\u001b[0m\u001b[0m\n\u001b[1;32m     11\u001b[0m     \u001b[0mprint\u001b[0m\u001b[0;34m(\u001b[0m\u001b[0;34mf\"Epoch {t + 1}\\n-------------------------------\"\u001b[0m\u001b[0;34m)\u001b[0m\u001b[0;34m\u001b[0m\u001b[0;34m\u001b[0m\u001b[0m\n\u001b[0;32m---> 12\u001b[0;31m     \u001b[0mtrain_loss\u001b[0m \u001b[0;34m=\u001b[0m \u001b[0mtrain\u001b[0m\u001b[0;34m(\u001b[0m\u001b[0mtrain_dataloader\u001b[0m\u001b[0;34m,\u001b[0m \u001b[0mmodel\u001b[0m\u001b[0;34m,\u001b[0m \u001b[0mloss_fn\u001b[0m\u001b[0;34m,\u001b[0m \u001b[0moptimizer\u001b[0m\u001b[0;34m)\u001b[0m\u001b[0;34m\u001b[0m\u001b[0;34m\u001b[0m\u001b[0m\n\u001b[0m\u001b[1;32m     13\u001b[0m     \u001b[0mauc\u001b[0m\u001b[0;34m,\u001b[0m\u001b[0mval_normal_loss\u001b[0m\u001b[0;34m,\u001b[0m \u001b[0mval_normal_score\u001b[0m\u001b[0;34m,\u001b[0m \u001b[0mval_anomaly_score\u001b[0m\u001b[0;34m,\u001b[0m \u001b[0m_\u001b[0m\u001b[0;34m,\u001b[0m \u001b[0m_\u001b[0m \u001b[0;34m=\u001b[0m \u001b[0mtest\u001b[0m\u001b[0;34m(\u001b[0m\u001b[0mval_dataloader\u001b[0m\u001b[0;34m,\u001b[0m \u001b[0mmodel\u001b[0m\u001b[0;34m,\u001b[0m \u001b[0mloss_fn\u001b[0m\u001b[0;34m,\u001b[0m \u001b[0manomaly_score\u001b[0m\u001b[0;34m)\u001b[0m\u001b[0;34m\u001b[0m\u001b[0;34m\u001b[0m\u001b[0m\n\u001b[1;32m     14\u001b[0m \u001b[0;34m\u001b[0m\u001b[0m\n",
            "\u001b[0;32m<ipython-input-12-64bc07c5d968>\u001b[0m in \u001b[0;36mtrain\u001b[0;34m(dataloader, model, loss_fn, optimizer)\u001b[0m\n\u001b[1;32m     11\u001b[0m         \u001b[0mpred\u001b[0m \u001b[0;34m=\u001b[0m \u001b[0mmodel\u001b[0m\u001b[0;34m(\u001b[0m\u001b[0mimg\u001b[0m\u001b[0;34m.\u001b[0m\u001b[0mto\u001b[0m\u001b[0;34m(\u001b[0m\u001b[0mdevice\u001b[0m\u001b[0;34m)\u001b[0m\u001b[0;34m)\u001b[0m\u001b[0;34m\u001b[0m\u001b[0;34m\u001b[0m\u001b[0m\n\u001b[1;32m     12\u001b[0m \u001b[0;34m\u001b[0m\u001b[0m\n\u001b[0;32m---> 13\u001b[0;31m         \u001b[0mloss\u001b[0m \u001b[0;34m=\u001b[0m \u001b[0mloss_fn\u001b[0m\u001b[0;34m(\u001b[0m\u001b[0mpred\u001b[0m\u001b[0;34m,\u001b[0m \u001b[0mF\u001b[0m\u001b[0;34m.\u001b[0m\u001b[0mone_hot\u001b[0m\u001b[0;34m(\u001b[0m\u001b[0my\u001b[0m\u001b[0;34m[\u001b[0m\u001b[0;36m2\u001b[0m\u001b[0;34m]\u001b[0m\u001b[0;34m.\u001b[0m\u001b[0mto\u001b[0m\u001b[0;34m(\u001b[0m\u001b[0mdevice\u001b[0m\u001b[0;34m)\u001b[0m\u001b[0;34m,\u001b[0m\u001b[0mnum_classes\u001b[0m\u001b[0;34m=\u001b[0m\u001b[0;36m4\u001b[0m\u001b[0;34m)\u001b[0m\u001b[0;34m.\u001b[0m\u001b[0mfloat\u001b[0m\u001b[0;34m(\u001b[0m\u001b[0;34m)\u001b[0m\u001b[0;34m)\u001b[0m\u001b[0;34m\u001b[0m\u001b[0;34m\u001b[0m\u001b[0m\n\u001b[0m\u001b[1;32m     14\u001b[0m \u001b[0;34m\u001b[0m\u001b[0m\n\u001b[1;32m     15\u001b[0m \u001b[0;34m\u001b[0m\u001b[0m\n",
            "\u001b[0;32m/usr/local/lib/python3.7/dist-packages/torch/nn/modules/module.py\u001b[0m in \u001b[0;36m_call_impl\u001b[0;34m(self, *input, **kwargs)\u001b[0m\n\u001b[1;32m   1100\u001b[0m         if not (self._backward_hooks or self._forward_hooks or self._forward_pre_hooks or _global_backward_hooks\n\u001b[1;32m   1101\u001b[0m                 or _global_forward_hooks or _global_forward_pre_hooks):\n\u001b[0;32m-> 1102\u001b[0;31m             \u001b[0;32mreturn\u001b[0m \u001b[0mforward_call\u001b[0m\u001b[0;34m(\u001b[0m\u001b[0;34m*\u001b[0m\u001b[0minput\u001b[0m\u001b[0;34m,\u001b[0m \u001b[0;34m**\u001b[0m\u001b[0mkwargs\u001b[0m\u001b[0;34m)\u001b[0m\u001b[0;34m\u001b[0m\u001b[0;34m\u001b[0m\u001b[0m\n\u001b[0m\u001b[1;32m   1103\u001b[0m         \u001b[0;31m# Do not call functions when jit is used\u001b[0m\u001b[0;34m\u001b[0m\u001b[0;34m\u001b[0m\u001b[0;34m\u001b[0m\u001b[0m\n\u001b[1;32m   1104\u001b[0m         \u001b[0mfull_backward_hooks\u001b[0m\u001b[0;34m,\u001b[0m \u001b[0mnon_full_backward_hooks\u001b[0m \u001b[0;34m=\u001b[0m \u001b[0;34m[\u001b[0m\u001b[0;34m]\u001b[0m\u001b[0;34m,\u001b[0m \u001b[0;34m[\u001b[0m\u001b[0;34m]\u001b[0m\u001b[0;34m\u001b[0m\u001b[0;34m\u001b[0m\u001b[0m\n",
            "\u001b[0;32m/usr/local/lib/python3.7/dist-packages/torch/nn/modules/loss.py\u001b[0m in \u001b[0;36mforward\u001b[0;34m(self, input, target)\u001b[0m\n\u001b[1;32m   1150\u001b[0m         return F.cross_entropy(input, target, weight=self.weight,\n\u001b[1;32m   1151\u001b[0m                                \u001b[0mignore_index\u001b[0m\u001b[0;34m=\u001b[0m\u001b[0mself\u001b[0m\u001b[0;34m.\u001b[0m\u001b[0mignore_index\u001b[0m\u001b[0;34m,\u001b[0m \u001b[0mreduction\u001b[0m\u001b[0;34m=\u001b[0m\u001b[0mself\u001b[0m\u001b[0;34m.\u001b[0m\u001b[0mreduction\u001b[0m\u001b[0;34m,\u001b[0m\u001b[0;34m\u001b[0m\u001b[0;34m\u001b[0m\u001b[0m\n\u001b[0;32m-> 1152\u001b[0;31m                                label_smoothing=self.label_smoothing)\n\u001b[0m\u001b[1;32m   1153\u001b[0m \u001b[0;34m\u001b[0m\u001b[0m\n\u001b[1;32m   1154\u001b[0m \u001b[0;34m\u001b[0m\u001b[0m\n",
            "\u001b[0;32m/usr/local/lib/python3.7/dist-packages/torch/nn/functional.py\u001b[0m in \u001b[0;36mcross_entropy\u001b[0;34m(input, target, weight, size_average, ignore_index, reduce, reduction, label_smoothing)\u001b[0m\n\u001b[1;32m   2844\u001b[0m     \u001b[0;32mif\u001b[0m \u001b[0msize_average\u001b[0m \u001b[0;32mis\u001b[0m \u001b[0;32mnot\u001b[0m \u001b[0;32mNone\u001b[0m \u001b[0;32mor\u001b[0m \u001b[0mreduce\u001b[0m \u001b[0;32mis\u001b[0m \u001b[0;32mnot\u001b[0m \u001b[0;32mNone\u001b[0m\u001b[0;34m:\u001b[0m\u001b[0;34m\u001b[0m\u001b[0;34m\u001b[0m\u001b[0m\n\u001b[1;32m   2845\u001b[0m         \u001b[0mreduction\u001b[0m \u001b[0;34m=\u001b[0m \u001b[0m_Reduction\u001b[0m\u001b[0;34m.\u001b[0m\u001b[0mlegacy_get_string\u001b[0m\u001b[0;34m(\u001b[0m\u001b[0msize_average\u001b[0m\u001b[0;34m,\u001b[0m \u001b[0mreduce\u001b[0m\u001b[0;34m)\u001b[0m\u001b[0;34m\u001b[0m\u001b[0;34m\u001b[0m\u001b[0m\n\u001b[0;32m-> 2846\u001b[0;31m     \u001b[0;32mreturn\u001b[0m \u001b[0mtorch\u001b[0m\u001b[0;34m.\u001b[0m\u001b[0m_C\u001b[0m\u001b[0;34m.\u001b[0m\u001b[0m_nn\u001b[0m\u001b[0;34m.\u001b[0m\u001b[0mcross_entropy_loss\u001b[0m\u001b[0;34m(\u001b[0m\u001b[0minput\u001b[0m\u001b[0;34m,\u001b[0m \u001b[0mtarget\u001b[0m\u001b[0;34m,\u001b[0m \u001b[0mweight\u001b[0m\u001b[0;34m,\u001b[0m \u001b[0m_Reduction\u001b[0m\u001b[0;34m.\u001b[0m\u001b[0mget_enum\u001b[0m\u001b[0;34m(\u001b[0m\u001b[0mreduction\u001b[0m\u001b[0;34m)\u001b[0m\u001b[0;34m,\u001b[0m \u001b[0mignore_index\u001b[0m\u001b[0;34m,\u001b[0m \u001b[0mlabel_smoothing\u001b[0m\u001b[0;34m)\u001b[0m\u001b[0;34m\u001b[0m\u001b[0;34m\u001b[0m\u001b[0m\n\u001b[0m\u001b[1;32m   2847\u001b[0m \u001b[0;34m\u001b[0m\u001b[0m\n\u001b[1;32m   2848\u001b[0m \u001b[0;34m\u001b[0m\u001b[0m\n",
            "\u001b[0;31mRuntimeError\u001b[0m: CUDA error: device-side assert triggered\nCUDA kernel errors might be asynchronously reported at some other API call,so the stacktrace below might be incorrect.\nFor debugging consider passing CUDA_LAUNCH_BLOCKING=1."
          ]
        }
      ]
    },
    {
      "cell_type": "code",
      "source": [
        "plt.clf()\n",
        "plt.figure(figsize=(30,10))\n",
        "plt.subplot(1,3,1)\n",
        "plt.plot(list(range(1,len(roc_auc)+1)),roc_auc)\n",
        "plt.xlabel('epoch')\n",
        "plt.ylabel('AUC')\n",
        "plt.title('AUC vs epoch')\n",
        "plt.ylim([0, 1])\n",
        "\n",
        "plt.subplot(1,3,2)\n",
        "plt.plot(list(range(1,len(train_losses)+1)),train_losses)\n",
        "plt.plot(list(range(1,len(val_normal_losses)+1)),val_normal_losses)\n",
        "plt.xlabel('epoch')\n",
        "plt.ylabel('loss')\n",
        "plt.title('loss vs epoch')\n",
        "plt.legend(['train loss', 'validation normal loss'])\n",
        "\n",
        "plt.subplot(1,3,3)\n",
        "plt.plot(list(range(1,len(val_normal_scores)+1)),val_normal_scores)\n",
        "plt.plot(list(range(1,len(val_anomaly_scores)+1)),val_anomaly_scores)\n",
        "plt.xlabel('epoch')\n",
        "plt.ylabel('anomaly score')\n",
        "plt.title('anomaly score vs epoch')\n",
        "plt.legend(['validation normal anomaly score','validation anomaly anomaly score'])"
      ],
      "metadata": {
        "id": "0CDUDqRRcBnF"
      },
      "execution_count": null,
      "outputs": []
    },
    {
      "cell_type": "markdown",
      "source": [
        "Let's see performance on the test data."
      ],
      "metadata": {
        "id": "5ft964J0EQQ7"
      }
    },
    {
      "cell_type": "code",
      "source": [
        "test_auc,test_normal_loss, test_normal_score, test_anomaly_score, test_normal_scores, test_anomaly_scores = test(test_dataloader, best_model, loss_fn, anomaly_score, draw_mode=True)"
      ],
      "metadata": {
        "id": "M1uHDtWmEQkd"
      },
      "execution_count": null,
      "outputs": []
    },
    {
      "cell_type": "markdown",
      "source": [
        "The let's see anomaly score of normal / anomaly data."
      ],
      "metadata": {
        "id": "dxYJQhrTLvic"
      }
    },
    {
      "cell_type": "code",
      "source": [
        "plt.hist(test_normal_scores, alpha = 0.8)\n",
        "plt.hist(test_anomaly_scores, alpha = 0.8)\n",
        "plt.title('Anomaly score')\n",
        "plt.xlabel('Anomaly score')\n",
        "plt.ylabel('# of data')\n",
        "plt.legend(['normal','anomaly'])\n",
        "plt.figure(figsize=(10,10))"
      ],
      "metadata": {
        "id": "VLnuYr6ILv4X"
      },
      "execution_count": null,
      "outputs": []
    },
    {
      "cell_type": "markdown",
      "source": [
        "Below code plots figure of the original input image and predicted probabilities."
      ],
      "metadata": {
        "id": "79YoRJlQLN12"
      }
    },
    {
      "cell_type": "code",
      "source": [
        "n = 20\n",
        "plt.figure(figsize=(40, 80))\n",
        "\n",
        "for i in range(n):\n",
        "    input_image = rotate(test_dataset[i][0].to(device),test_dataset[i][3])\n",
        "    #pred_prob = torch.softmax(best_model(input_image.unsqueeze(0)),dim=1).cpu().detach().squeeze().numpy()\n",
        "\n",
        "    ax = plt.subplot(n, 2, 2*i+1)\n",
        "    plt.imshow(input_image[0].cpu())\n",
        "    plt.title('original')\n",
        "    plt.gray()\n",
        "    ax.get_xaxis().set_visible(False)\n",
        "    ax.get_yaxis().set_visible(False)\n",
        "\n",
        "    plt.tight_layout()\n",
        "\n",
        "plt.show()"
      ],
      "metadata": {
        "id": "AlxpYoFEDpmr"
      },
      "execution_count": null,
      "outputs": []
    },
    {
      "cell_type": "code",
      "source": [
        "n = 20\n",
        "plt.figure(figsize=(40, 80))\n",
        "\n",
        "for i in range(n):\n",
        "    input_image = rotate(test_dataset[i][0].to(device),test_dataset[i][3])\n",
        "    #pred_prob = torch.softmax(best_model(input_image.unsqueeze(0)),dim=1).cpu().detach().squeeze().numpy()\n",
        "\n",
        "    ax = plt.subplot(n, 2, 2*i+1)\n",
        "    plt.imshow(input_image[0].cpu())\n",
        "    plt.title('original')\n",
        "    plt.gray()\n",
        "    ax.get_xaxis().set_visible(False)\n",
        "    ax.get_yaxis().set_visible(False)\n",
        "    pred_prob = torch.softmax(best_model(input_image.unsqueeze(0)),dim=1).cpu().detach().squeeze().numpy()\n",
        "    ax2 = plt.subplot(n, 2, 2*i+2)\n",
        "    ax2.set_ylim([0,1])\n",
        "    classify_as = np.array(list(range(ANOMALY_NUM)) + list(range(ANOMALY_NUM+1,9)))\n",
        "    plt.bar(classify_as, pred_prob, width = 0.5, tick_label = [str(i) for i in classify_as])\n",
        "    #plt.imshow(output_image[0].squeeze().detach().cpu())\n",
        "    plt.title('predicted probability')\n",
        "    plt.tight_layout()\n",
        "\n",
        "plt.show()"
      ],
      "metadata": {
        "id": "ozhPM2pOLZJF"
      },
      "execution_count": null,
      "outputs": []
    },
    {
      "cell_type": "markdown",
      "source": [
        "As you see, normal data (0 to 8) is predicted with a high probability compared to anomaly data (9). \n",
        "\n",
        "This means normal data have higher MSP, which is anomaly score, and anomaly data have lower MSP.\n",
        "\n",
        "Using this difference of anomaly score, anomaly detection can be done."
      ],
      "metadata": {
        "id": "KktMAEMzLenQ"
      }
    }
  ]
}